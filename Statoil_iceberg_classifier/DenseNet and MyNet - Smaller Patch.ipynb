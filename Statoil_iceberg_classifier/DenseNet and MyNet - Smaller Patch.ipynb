{
 "cells": [
  {
   "cell_type": "markdown",
   "metadata": {},
   "source": [
    "#### Import packages"
   ]
  },
  {
   "cell_type": "code",
   "execution_count": 1,
   "metadata": {
    "collapsed": true
   },
   "outputs": [],
   "source": [
    "# import torch.multiprocessing as mp\n",
    "# mp.set_start_method('spawn') \n",
    "import pandas as pd\n",
    "import numpy as np\n",
    "import matplotlib.pyplot as plt\n",
    "import math\n",
    "import shutil\n",
    "from sklearn.model_selection import train_test_split\n",
    "from sklearn.model_selection import KFold\n",
    "from sklearn.preprocessing import MinMaxScaler\n",
    "import random\n",
    "import cv2\n",
    "\n",
    "import torch \n",
    "import torch.nn as nn\n",
    "import torch.nn.functional as F\n",
    "from torch.autograd import Variable\n",
    "from tensorboardX import SummaryWriter\n",
    "import torch.utils.data\n",
    "import torch.utils.data as data_utils\n",
    "\n",
    "seed = 0\n",
    "# random.seed(seed)\n",
    "torch.manual_seed(seed)\n",
    "if torch.cuda.is_available():\n",
    "    torch.cuda.manual_seed(seed)\n",
    "np.random.seed(seed)\n",
    "from utils import *"
   ]
  },
  {
   "cell_type": "markdown",
   "metadata": {},
   "source": [
    "#### Load and Prepare Data"
   ]
  },
  {
   "cell_type": "code",
   "execution_count": 3,
   "metadata": {
    "collapsed": true
   },
   "outputs": [],
   "source": [
    "data = pd.read_json('./Data/train.json')\n",
    "test = pd.read_json('./Data/test.json')"
   ]
  },
  {
   "cell_type": "code",
   "execution_count": 5,
   "metadata": {
    "collapsed": true
   },
   "outputs": [],
   "source": [
    "data['band_1'] = data['band_1'].apply(lambda x : np.array(x).reshape(75, 75))\n",
    "data['band_2'] = data['band_2'].apply(lambda x : np.array(x).reshape(75, 75))\n",
    "\n",
    "test['band_1'] = test['band_1'].apply(lambda x : np.array(x).reshape(75, 75))\n",
    "test['band_2'] = test['band_2'].apply(lambda x : np.array(x).reshape(75, 75))\n",
    "\n",
    "data['inc_angle'] = pd.to_numeric(data['inc_angle'], errors='coerce').fillna(0.0)\n",
    "test['inc_angle'] = pd.to_numeric(test['inc_angle'], errors='coerce')\n",
    "\n",
    "train, val = train_test_split(data, test_size=0.2, random_state=42)"
   ]
  },
  {
   "cell_type": "code",
   "execution_count": 6,
   "metadata": {
    "collapsed": true
   },
   "outputs": [],
   "source": [
    "band_1_tr = np.concatenate([im for im in train['band_1']]).reshape(-1, 75, 75)\n",
    "band_2_tr = np.concatenate([im for im in train['band_2']]).reshape(-1, 75, 75)\n",
    "X_train = np.stack((band_1_tr, band_2_tr), axis=1)\n",
    "X_train = [X_train, np.array(train['inc_angle']).reshape((len(train), 1))]\n",
    "\n",
    "band_1_val = np.concatenate([im for im in val['band_1']]).reshape(-1, 75, 75)\n",
    "band_2_val = np.concatenate([im for im in val['band_2']]).reshape(-1, 75, 75)\n",
    "X_val = np.stack((band_1_val, band_2_val), axis=1)\n",
    "X_val = [X_val, np.array(val['inc_angle']).reshape((len(val), 1))]\n",
    "\n",
    "band_1_test = np.concatenate([im for im in test['band_1']]).reshape(-1, 75, 75)\n",
    "band_2_test = np.concatenate([im for im in test['band_2']]).reshape(-1, 75, 75)\n",
    "rgb = np.stack((band_1_test, band_2_test), axis=1)\n",
    "X_test = [rgb, np.array(test['inc_angle']).reshape((len(test), 1))]\n",
    "\n",
    "y_train = train['is_iceberg'].values.astype(np.float32)\n",
    "y_val = val['is_iceberg'].values.astype(np.float32)"
   ]
  },
  {
   "cell_type": "markdown",
   "metadata": {},
   "source": [
    "#### PyTorch Model"
   ]
  },
  {
   "cell_type": "code",
   "execution_count": 7,
   "metadata": {
    "collapsed": true
   },
   "outputs": [],
   "source": [
    "# Hyper Parameters\n",
    "width = 65\n",
    "height = 65\n",
    "channels = 2\n",
    "padding = 1"
   ]
  },
  {
   "cell_type": "code",
   "execution_count": 8,
   "metadata": {
    "collapsed": true
   },
   "outputs": [],
   "source": [
    "# Data Loader (Input Pipeline)\n",
    "class icebergDataset(data_utils.Dataset):\n",
    "    \"\"\"Iceberg-Ship dataset.\"\"\"\n",
    "\n",
    "    def __init__(self, X, y=None, transform=None, eval_=None):\n",
    "        self.X_images = X[0]\n",
    "        self.X_angles = torch.from_numpy(X[1]).float()\n",
    "        if y!=None:\n",
    "            self.y = torch.from_numpy(y).long()\n",
    "        else:\n",
    "            self.y=None\n",
    "        self.transform = transform\n",
    "        self.eval = eval_\n",
    "\n",
    "    def __len__(self):\n",
    "        return len(self.X_images)\n",
    "\n",
    "    def __getitem__(self, idx):\n",
    "        im = self.X_images[idx]\n",
    "        if self.transform:\n",
    "#             if np.random.random() < 0.2:\n",
    "#                 im = cv2.blur(im, (2,2))\n",
    "            im = randomErodeDilate(im, u=0.2)\n",
    "            im = randomZoomOut(im, u=0.5)\n",
    "            if np.random.randint(2) == 1:\n",
    "                im = randomNoisy(im, u=0.8)\n",
    "            else:\n",
    "                im = randomDenoising(im, u=0.8)\n",
    "#             im = randomShift(im, u=0.3)\n",
    "        \n",
    "        # Get patch\n",
    "        if self.eval:\n",
    "            ims = []\n",
    "            for patch_num in range(10):                \n",
    "                im_sw = np.random.randint(im.shape[1]-1-65)\n",
    "                im_sh = np.random.randint(im.shape[2]-1-65)\n",
    "                ims.append(torch.from_numpy(im[:, im_sw:im_sw+65, im_sh:im_sh+65]).float())\n",
    "            features = torch.stack(ims)\n",
    "            features_angle = self.X_angles[idx]\n",
    "        else:\n",
    "            im_sw = np.random.randint(im.shape[1]-1-65)\n",
    "            im_sh = np.random.randint(im.shape[2]-1-65)\n",
    "            im = im[:, im_sw:im_sw+65, im_sh:im_sh+65]\n",
    "            features = torch.from_numpy(im).float()\n",
    "            features_angle = self.X_angles[idx]\n",
    "        \n",
    "        try:\n",
    "            if self.y==None:\n",
    "                return [features, features_angle]\n",
    "        except:\n",
    "            pass\n",
    "        \n",
    "        return [features, features_angle, self.y[idx]]"
   ]
  },
  {
   "cell_type": "code",
   "execution_count": 9,
   "metadata": {
    "collapsed": true
   },
   "outputs": [],
   "source": [
    "def save_checkpoint(state, is_best, filename='./Models/checkpoint.pth.tar'):\n",
    "    torch.save(state, filename)\n",
    "    if is_best:\n",
    "        shutil.copyfile(filename, './Models/model_best.pth.tar')"
   ]
  },
  {
   "cell_type": "code",
   "execution_count": 10,
   "metadata": {
    "collapsed": false
   },
   "outputs": [
    {
     "name": "stderr",
     "output_type": "stream",
     "text": [
      "/home/arsh/anaconda3/envs/torch/lib/python3.6/site-packages/ipykernel/__main__.py:8: FutureWarning: comparison to `None` will result in an elementwise object comparison in the future.\n"
     ]
    }
   ],
   "source": [
    "train_dataset = icebergDataset(X_train, y_train, transform=True)\n",
    "val_dataset = icebergDataset(X_val, y_val, eval_=True)\n",
    "test_dataset = icebergDataset(X_test, eval_=True)"
   ]
  },
  {
   "cell_type": "code",
   "execution_count": 13,
   "metadata": {
    "collapsed": true
   },
   "outputs": [],
   "source": [
    "k = 12\n",
    "class net(nn.Module):\n",
    "    def __init__(self):\n",
    "        super(net, self).__init__()\n",
    "        self.batch = nn.BatchNorm2d(channels)\n",
    "        self.batch1D = nn.BatchNorm1d(1)\n",
    "        \n",
    "        # MyNet\n",
    "        self.layer1 = nn.Sequential(\n",
    "            nn.Conv2d(channels, 9, kernel_size=3, padding=padding),\n",
    "            nn.BatchNorm2d(9),\n",
    "            nn.ReLU(),\n",
    "            nn.Conv2d(9, 18, kernel_size=3, padding=padding),\n",
    "            nn.BatchNorm2d(18),\n",
    "            nn.ReLU(),\n",
    "            nn.MaxPool2d(2),\n",
    "            nn.Dropout(0))\n",
    "        self.layer2 = nn.Sequential(\n",
    "            nn.Conv2d(18, 24, kernel_size=3, padding=padding),\n",
    "            nn.BatchNorm2d(24),\n",
    "            nn.ReLU(),\n",
    "            nn.Conv2d(24, 36, kernel_size=3, padding=padding),\n",
    "            nn.BatchNorm2d(36),\n",
    "            nn.ReLU(),\n",
    "            nn.MaxPool2d(2),\n",
    "            nn.Dropout(0))\n",
    "        self.layer3 = nn.Sequential(\n",
    "            nn.Conv2d(36, 72, kernel_size=2, padding=padding),\n",
    "            nn.BatchNorm2d(72),\n",
    "            nn.ReLU(),\n",
    "            nn.MaxPool2d(2),\n",
    "            nn.Dropout(0))\n",
    "        self.layer4 = nn.Sequential(\n",
    "            nn.Conv2d(72, 144, kernel_size=2, padding=padding),\n",
    "            nn.BatchNorm2d(144),\n",
    "            nn.ReLU(),\n",
    "            nn.MaxPool2d(2),\n",
    "            nn.Dropout(0))\n",
    "        self.layer_shallow = nn.Sequential(\n",
    "            nn.Conv2d(channels, 128, kernel_size=3, padding=padding),\n",
    "            nn.BatchNorm2d(128),\n",
    "            nn.ReLU(),\n",
    "            nn.MaxPool2d(2),\n",
    "            nn.Dropout(0.2))\n",
    "        self.fc1 = nn.Sequential(\n",
    "            nn.Linear(1+(4*4*144), 512),\n",
    "            nn.ReLU(),\n",
    "            nn.Dropout(0.5))\n",
    "        self.fc2 = nn.Sequential(\n",
    "            nn.Linear(512, 196),\n",
    "            nn.ReLU(),\n",
    "            nn.Dropout(0.3))\n",
    "        self.fc3 = nn.Linear(196, 2)\n",
    "        \n",
    "        # DenseNet\n",
    "        self.init = nn.Sequential(\n",
    "            nn.Conv2d(channels, k*2, kernel_size=3, padding=padding),\n",
    "            nn.BatchNorm2d(k*2),\n",
    "            nn.ReLU(),\n",
    "            nn.Dropout(0))\n",
    "        self.b1l1 = nn.Sequential(\n",
    "            nn.Conv2d(k*2, k, kernel_size=3, padding=padding),\n",
    "            nn.BatchNorm2d(k),\n",
    "            nn.ReLU(),\n",
    "            nn.Dropout(0))\n",
    "        self.b1l2 = nn.Sequential(\n",
    "            nn.Conv2d(k*3, k, kernel_size=3, padding=padding),\n",
    "            nn.BatchNorm2d(k),\n",
    "            nn.ReLU(),\n",
    "            nn.Dropout(0))\n",
    "        self.transition1 = nn.Sequential(\n",
    "            nn.Conv2d(k*4, k*4, kernel_size=1, padding=0),\n",
    "            nn.BatchNorm2d(k*4),\n",
    "            nn.ReLU(),\n",
    "            nn.MaxPool2d(2),\n",
    "            nn.Dropout(0))\n",
    "        self.b2l1 = nn.Sequential(\n",
    "            nn.Conv2d(k*4, k, kernel_size=2, padding=0),\n",
    "            nn.BatchNorm2d(k),\n",
    "            nn.ReLU(),\n",
    "            nn.Dropout(0))\n",
    "        self.b2l2 = nn.Sequential(\n",
    "            nn.Conv2d(k*5, k, kernel_size=2, padding=0),\n",
    "            nn.BatchNorm2d(k),\n",
    "            nn.ReLU(),\n",
    "            nn.Dropout(0))\n",
    "        self.transition2 = nn.Sequential(\n",
    "            nn.Conv2d(k*6, k*6, kernel_size=1, padding=0),\n",
    "            nn.BatchNorm2d(k*6),\n",
    "            nn.ReLU(),\n",
    "            nn.MaxPool2d(2),\n",
    "            nn.Dropout(0))\n",
    "        self.b3l1 = nn.Sequential(\n",
    "            nn.Conv2d(k*6, k, kernel_size=2, padding=0),\n",
    "            nn.BatchNorm2d(k),\n",
    "            nn.ReLU(),\n",
    "            nn.Dropout(0))\n",
    "        self.b3l2 = nn.Sequential(\n",
    "            nn.Conv2d(k*7, k, kernel_size=2, padding=0),\n",
    "            nn.BatchNorm2d(k),\n",
    "            nn.ReLU(),\n",
    "            nn.Dropout(0))\n",
    "        self.transition3 = nn.Sequential(\n",
    "            nn.Conv2d(k*8, k*8, kernel_size=1, padding=0),\n",
    "            nn.BatchNorm2d(k*8),\n",
    "            nn.ReLU(),\n",
    "            nn.MaxPool2d(2),\n",
    "            nn.Dropout(0))\n",
    "        self.denselayer3 = nn.Sequential(\n",
    "            nn.Conv2d(k*8, k*6, kernel_size=2, padding=0),\n",
    "            nn.BatchNorm2d(k*6),\n",
    "            nn.ReLU(),\n",
    "            nn.MaxPool2d(2),\n",
    "            nn.Dropout(0))\n",
    "        self.denselayer4 = nn.Sequential(\n",
    "            nn.Conv2d(k*6, k*4, kernel_size=2, padding=0),\n",
    "            nn.BatchNorm2d(k*4),\n",
    "            nn.ReLU(),\n",
    "            nn.MaxPool2d(2),\n",
    "            nn.Dropout(0))\n",
    "        self.densefc1 = nn.Sequential(\n",
    "            nn.Linear(1+(3*3*k*6), 512),\n",
    "            nn.ReLU(),\n",
    "            nn.Dropout(0.5))\n",
    "        self.densefc2 = nn.Sequential(\n",
    "            nn.Linear(512, 196),\n",
    "            nn.ReLU(),\n",
    "            nn.Dropout(0.3))\n",
    "        self.densefc3 = nn.Linear(196, 2)\n",
    "        \n",
    "        # Ensemble\n",
    "        self.ensemble = nn.Linear(4, 2)\n",
    "        \n",
    "        \n",
    "    def forward(self, x_im, x_angle):\n",
    "        x_im = self.batch(x_im)\n",
    "        x_angle = self.batch1D(x_angle)\n",
    "        \n",
    "        # MyNet\n",
    "        out = self.layer1(x_im)\n",
    "        out = self.layer2(out)\n",
    "        out = self.layer3(out)\n",
    "        out = self.layer4(out)\n",
    "        out = out.view(out.size(0), -1)\n",
    "#         out_shallow = self.layer_shallow(x_im)\n",
    "#         out_shallow  = F.max_pool2d(out_shallow, kernel_size=out_shallow.size()[2:])\n",
    "#         out_shallow = out_shallow.view(out_shallow.size(0), -1)\n",
    "        out = torch.cat([out, x_angle], dim=1)\n",
    "        out = self.fc1(out)\n",
    "        out = self.fc2(out)\n",
    "        out_MyNet = self.fc3(out)\n",
    "        \n",
    "        # DenseNet\n",
    "        out_prev = self.init(x_im)\n",
    "        out = self.b1l1(out_prev)\n",
    "        out_prev = torch.cat([out, out_prev], dim=1)\n",
    "        out = self.b1l2(out_prev)\n",
    "        out_prev = torch.cat([out, out_prev], dim=1)\n",
    "        out_prev = self.transition1(out_prev)\n",
    "        out = self.b2l1(out_prev)\n",
    "        out_prev = torch.cat([F.pad(out, (0,1,0,1), \"constant\", 0), out_prev], dim=1)\n",
    "        out = self.b2l2(out_prev)\n",
    "        out_prev = torch.cat([F.pad(out, (0,1,0,1), \"constant\", 0), out_prev], dim=1)\n",
    "        out_prev = self.transition2(out_prev)\n",
    "        out = self.b3l1(out_prev)\n",
    "        out_prev = torch.cat([F.pad(out, (0,1,0,1), \"constant\", 0), out_prev], dim=1)\n",
    "        out = self.b3l2(out_prev)\n",
    "        out_prev = torch.cat([F.pad(out, (0,1,0,1), \"constant\", 0), out_prev], dim=1)\n",
    "        out_prev = self.transition3(out_prev)\n",
    "        out = self.denselayer3(out_prev)\n",
    "#         out = self.layer4(out)\n",
    "        out = out.view(out.size(0), -1)\n",
    "#         out_shallow = self.layer_shallow(x_im)\n",
    "#         out_shallow  = F.max_pool2d(out_shallow, kernel_size=out_shallow.size()[2:])\n",
    "#         out_shallow = out_shallow.view(out_shallow.size(0), -1)\n",
    "        out = torch.cat([out, x_angle], dim=1)\n",
    "        out = self.densefc1(out)\n",
    "        out = self.densefc2(out)\n",
    "        out_DenseNet = self.densefc3(out)\n",
    "        \n",
    "        # Ensemble\n",
    "        out = torch.cat([out_MyNet, out_DenseNet], dim=1)\n",
    "        out = self.ensemble(out)\n",
    "        return out"
   ]
  },
  {
   "cell_type": "code",
   "execution_count": 44,
   "metadata": {
    "collapsed": true
   },
   "outputs": [],
   "source": [
    "def weight_init(m): \n",
    "    if isinstance(m, nn.Conv2d):\n",
    "        size = m.weight.size()\n",
    "        fan_out = size[0] # number of rows\n",
    "        fan_in = size[1] # number of columns\n",
    "        variance = np.sqrt(3.0/(fan_in + fan_out))\n",
    "        m.weight.data.normal_(0.0, variance)"
   ]
  },
  {
   "cell_type": "code",
   "execution_count": 25,
   "metadata": {
    "collapsed": false
   },
   "outputs": [
    {
     "data": {
      "text/plain": [
       "net (\n",
       "  (batch): BatchNorm2d(2, eps=1e-05, momentum=0.1, affine=True)\n",
       "  (batch1D): BatchNorm1d(1, eps=1e-05, momentum=0.1, affine=True)\n",
       "  (layer1): Sequential (\n",
       "    (0): Conv2d(2, 9, kernel_size=(3, 3), stride=(1, 1), padding=(1, 1))\n",
       "    (1): BatchNorm2d(9, eps=1e-05, momentum=0.1, affine=True)\n",
       "    (2): ReLU ()\n",
       "    (3): Conv2d(9, 18, kernel_size=(3, 3), stride=(1, 1), padding=(1, 1))\n",
       "    (4): BatchNorm2d(18, eps=1e-05, momentum=0.1, affine=True)\n",
       "    (5): ReLU ()\n",
       "    (6): MaxPool2d (size=(2, 2), stride=(2, 2), dilation=(1, 1))\n",
       "    (7): Dropout (p = 0)\n",
       "  )\n",
       "  (layer2): Sequential (\n",
       "    (0): Conv2d(18, 24, kernel_size=(3, 3), stride=(1, 1), padding=(1, 1))\n",
       "    (1): BatchNorm2d(24, eps=1e-05, momentum=0.1, affine=True)\n",
       "    (2): ReLU ()\n",
       "    (3): Conv2d(24, 36, kernel_size=(3, 3), stride=(1, 1), padding=(1, 1))\n",
       "    (4): BatchNorm2d(36, eps=1e-05, momentum=0.1, affine=True)\n",
       "    (5): ReLU ()\n",
       "    (6): MaxPool2d (size=(2, 2), stride=(2, 2), dilation=(1, 1))\n",
       "    (7): Dropout (p = 0)\n",
       "  )\n",
       "  (layer3): Sequential (\n",
       "    (0): Conv2d(36, 72, kernel_size=(2, 2), stride=(1, 1), padding=(1, 1))\n",
       "    (1): BatchNorm2d(72, eps=1e-05, momentum=0.1, affine=True)\n",
       "    (2): ReLU ()\n",
       "    (3): MaxPool2d (size=(2, 2), stride=(2, 2), dilation=(1, 1))\n",
       "    (4): Dropout (p = 0)\n",
       "  )\n",
       "  (layer4): Sequential (\n",
       "    (0): Conv2d(72, 144, kernel_size=(2, 2), stride=(1, 1), padding=(1, 1))\n",
       "    (1): BatchNorm2d(144, eps=1e-05, momentum=0.1, affine=True)\n",
       "    (2): ReLU ()\n",
       "    (3): MaxPool2d (size=(2, 2), stride=(2, 2), dilation=(1, 1))\n",
       "    (4): Dropout (p = 0)\n",
       "  )\n",
       "  (layer_shallow): Sequential (\n",
       "    (0): Conv2d(2, 128, kernel_size=(3, 3), stride=(1, 1), padding=(1, 1))\n",
       "    (1): BatchNorm2d(128, eps=1e-05, momentum=0.1, affine=True)\n",
       "    (2): ReLU ()\n",
       "    (3): MaxPool2d (size=(2, 2), stride=(2, 2), dilation=(1, 1))\n",
       "    (4): Dropout (p = 0.2)\n",
       "  )\n",
       "  (fc1): Sequential (\n",
       "    (0): Linear (2305 -> 512)\n",
       "    (1): ReLU ()\n",
       "    (2): Dropout (p = 0.5)\n",
       "  )\n",
       "  (fc2): Sequential (\n",
       "    (0): Linear (512 -> 196)\n",
       "    (1): ReLU ()\n",
       "    (2): Dropout (p = 0.3)\n",
       "  )\n",
       "  (fc3): Linear (196 -> 2)\n",
       "  (init): Sequential (\n",
       "    (0): Conv2d(2, 24, kernel_size=(3, 3), stride=(1, 1), padding=(1, 1))\n",
       "    (1): BatchNorm2d(24, eps=1e-05, momentum=0.1, affine=True)\n",
       "    (2): ReLU ()\n",
       "    (3): Dropout (p = 0)\n",
       "  )\n",
       "  (b1l1): Sequential (\n",
       "    (0): Conv2d(24, 12, kernel_size=(3, 3), stride=(1, 1), padding=(1, 1))\n",
       "    (1): BatchNorm2d(12, eps=1e-05, momentum=0.1, affine=True)\n",
       "    (2): ReLU ()\n",
       "    (3): Dropout (p = 0)\n",
       "  )\n",
       "  (b1l2): Sequential (\n",
       "    (0): Conv2d(36, 12, kernel_size=(3, 3), stride=(1, 1), padding=(1, 1))\n",
       "    (1): BatchNorm2d(12, eps=1e-05, momentum=0.1, affine=True)\n",
       "    (2): ReLU ()\n",
       "    (3): Dropout (p = 0)\n",
       "  )\n",
       "  (transition1): Sequential (\n",
       "    (0): Conv2d(48, 48, kernel_size=(1, 1), stride=(1, 1))\n",
       "    (1): BatchNorm2d(48, eps=1e-05, momentum=0.1, affine=True)\n",
       "    (2): ReLU ()\n",
       "    (3): MaxPool2d (size=(2, 2), stride=(2, 2), dilation=(1, 1))\n",
       "    (4): Dropout (p = 0)\n",
       "  )\n",
       "  (b2l1): Sequential (\n",
       "    (0): Conv2d(48, 12, kernel_size=(2, 2), stride=(1, 1))\n",
       "    (1): BatchNorm2d(12, eps=1e-05, momentum=0.1, affine=True)\n",
       "    (2): ReLU ()\n",
       "    (3): Dropout (p = 0)\n",
       "  )\n",
       "  (b2l2): Sequential (\n",
       "    (0): Conv2d(60, 12, kernel_size=(2, 2), stride=(1, 1))\n",
       "    (1): BatchNorm2d(12, eps=1e-05, momentum=0.1, affine=True)\n",
       "    (2): ReLU ()\n",
       "    (3): Dropout (p = 0)\n",
       "  )\n",
       "  (transition2): Sequential (\n",
       "    (0): Conv2d(72, 72, kernel_size=(1, 1), stride=(1, 1))\n",
       "    (1): BatchNorm2d(72, eps=1e-05, momentum=0.1, affine=True)\n",
       "    (2): ReLU ()\n",
       "    (3): MaxPool2d (size=(2, 2), stride=(2, 2), dilation=(1, 1))\n",
       "    (4): Dropout (p = 0)\n",
       "  )\n",
       "  (b3l1): Sequential (\n",
       "    (0): Conv2d(72, 12, kernel_size=(2, 2), stride=(1, 1))\n",
       "    (1): BatchNorm2d(12, eps=1e-05, momentum=0.1, affine=True)\n",
       "    (2): ReLU ()\n",
       "    (3): Dropout (p = 0)\n",
       "  )\n",
       "  (b3l2): Sequential (\n",
       "    (0): Conv2d(84, 12, kernel_size=(2, 2), stride=(1, 1))\n",
       "    (1): BatchNorm2d(12, eps=1e-05, momentum=0.1, affine=True)\n",
       "    (2): ReLU ()\n",
       "    (3): Dropout (p = 0)\n",
       "  )\n",
       "  (transition3): Sequential (\n",
       "    (0): Conv2d(96, 96, kernel_size=(1, 1), stride=(1, 1))\n",
       "    (1): BatchNorm2d(96, eps=1e-05, momentum=0.1, affine=True)\n",
       "    (2): ReLU ()\n",
       "    (3): MaxPool2d (size=(2, 2), stride=(2, 2), dilation=(1, 1))\n",
       "    (4): Dropout (p = 0)\n",
       "  )\n",
       "  (denselayer3): Sequential (\n",
       "    (0): Conv2d(96, 72, kernel_size=(2, 2), stride=(1, 1))\n",
       "    (1): BatchNorm2d(72, eps=1e-05, momentum=0.1, affine=True)\n",
       "    (2): ReLU ()\n",
       "    (3): MaxPool2d (size=(2, 2), stride=(2, 2), dilation=(1, 1))\n",
       "    (4): Dropout (p = 0)\n",
       "  )\n",
       "  (denselayer4): Sequential (\n",
       "    (0): Conv2d(72, 48, kernel_size=(2, 2), stride=(1, 1))\n",
       "    (1): BatchNorm2d(48, eps=1e-05, momentum=0.1, affine=True)\n",
       "    (2): ReLU ()\n",
       "    (3): MaxPool2d (size=(2, 2), stride=(2, 2), dilation=(1, 1))\n",
       "    (4): Dropout (p = 0)\n",
       "  )\n",
       "  (densefc1): Sequential (\n",
       "    (0): Linear (649 -> 512)\n",
       "    (1): ReLU ()\n",
       "    (2): Dropout (p = 0.5)\n",
       "  )\n",
       "  (densefc2): Sequential (\n",
       "    (0): Linear (512 -> 196)\n",
       "    (1): ReLU ()\n",
       "    (2): Dropout (p = 0.3)\n",
       "  )\n",
       "  (densefc3): Linear (196 -> 2)\n",
       "  (ensemble): Linear (4 -> 2)\n",
       ")"
      ]
     },
     "execution_count": 25,
     "metadata": {},
     "output_type": "execute_result"
    }
   ],
   "source": [
    "writer = SummaryWriter()\n",
    "iceNet = net()\n",
    "iceNet.apply(weight_init)\n",
    "iceNet.cuda()"
   ]
  },
  {
   "cell_type": "code",
   "execution_count": 15,
   "metadata": {
    "collapsed": true
   },
   "outputs": [],
   "source": [
    "num_epochs = 200\n",
    "batch_size = 32\n",
    "learning_rate = 0.001"
   ]
  },
  {
   "cell_type": "code",
   "execution_count": 16,
   "metadata": {
    "collapsed": true
   },
   "outputs": [],
   "source": [
    "# Loss and Optimizer\n",
    "criterion = nn.CrossEntropyLoss()\n",
    "optimizer = torch.optim.Adam(iceNet.parameters(), lr=learning_rate, weight_decay=0.0001)\n",
    "\n",
    "train_loader = torch.utils.data.DataLoader(dataset=train_dataset, batch_size=batch_size, shuffle=True)\n",
    "val_loader = torch.utils.data.DataLoader(dataset=val_dataset, batch_size=batch_size, shuffle=False)\n",
    "\n",
    "def accuracy(loader):\n",
    "    iceNet.eval()\n",
    "    correct = 0\n",
    "    total = 0\n",
    "    loss = []\n",
    "    for features, features_angle, labels in loader:\n",
    "        features = features.cuda()\n",
    "        labels = labels.cuda()\n",
    "        features_angle = features_angle.cuda()\n",
    "        features = Variable(features, volatile=True)\n",
    "        features_angle = Variable(features_angle, volatile=True)\n",
    "        labels = Variable(labels, volatile=True)\n",
    "        outputs = []\n",
    "        for patch_num in range(features.size()[1]):\n",
    "            patch_features = features[:,patch_num,:,:].contiguous()\n",
    "            outputs.append(iceNet(patch_features, features_angle))\n",
    "        outputs = torch.stack(outputs)\n",
    "        outputs = torch.mean(outputs, 0)\n",
    "        _loss = criterion(outputs, labels)\n",
    "        loss.append(_loss)\n",
    "        _, predicted = torch.max(outputs.data, 1)\n",
    "        total += labels.size(0)\n",
    "        correct += (predicted == labels.data).sum()\n",
    "        \n",
    "    return np.mean(loss).data[0], (100 * correct / total)"
   ]
  },
  {
   "cell_type": "code",
   "execution_count": 17,
   "metadata": {
    "collapsed": false
   },
   "outputs": [
    {
     "name": "stdout",
     "output_type": "stream",
     "text": [
      "Epoch [1/200] \n",
      "Training Loss: 0.6377\n",
      "Validation Loss: 0.4597, Accuracy: 74.45%\n",
      "Epoch [2/200] \n",
      "Training Loss: 0.5033\n",
      "Validation Loss: 0.3481, Accuracy: 82.87%\n",
      "Epoch [3/200] \n",
      "Training Loss: 0.4819\n",
      "Validation Loss: 0.3197, Accuracy: 85.05%\n",
      "Epoch [4/200] \n",
      "Training Loss: 0.4462\n",
      "Validation Loss: 0.2693, Accuracy: 86.92%\n",
      "Epoch [5/200] \n",
      "Training Loss: 0.4369\n",
      "Validation Loss: 0.3056, Accuracy: 85.05%\n",
      "Epoch [6/200] \n",
      "Training Loss: 0.3996\n",
      "Validation Loss: 0.2722, Accuracy: 87.85%\n",
      "Epoch [7/200] \n",
      "Training Loss: 0.3881\n",
      "Validation Loss: 0.2752, Accuracy: 86.29%\n",
      "Epoch [8/200] \n",
      "Training Loss: 0.3506\n",
      "Validation Loss: 0.2474, Accuracy: 89.72%\n",
      "Epoch [9/200] \n",
      "Training Loss: 0.3258\n",
      "Validation Loss: 0.2680, Accuracy: 87.23%\n",
      "Epoch [10/200] \n",
      "Training Loss: 0.3414\n",
      "Validation Loss: 0.3527, Accuracy: 82.87%\n",
      "Epoch [11/200] \n",
      "Training Loss: 0.3558\n",
      "Validation Loss: 0.2267, Accuracy: 88.79%\n",
      "Epoch [12/200] \n",
      "Training Loss: 0.3154\n",
      "Validation Loss: 0.2966, Accuracy: 86.60%\n",
      "Epoch [13/200] \n",
      "Training Loss: 0.3178\n",
      "Validation Loss: 0.2210, Accuracy: 89.10%\n",
      "Epoch [14/200] \n",
      "Training Loss: 0.3179\n",
      "Validation Loss: 0.2719, Accuracy: 87.85%\n",
      "Epoch [15/200] \n",
      "Training Loss: 0.2917\n",
      "Validation Loss: 0.2527, Accuracy: 88.79%\n",
      "Epoch [16/200] \n",
      "Training Loss: 0.2992\n",
      "Validation Loss: 0.2106, Accuracy: 90.97%\n",
      "Epoch [17/200] \n",
      "Training Loss: 0.2947\n",
      "Validation Loss: 0.2877, Accuracy: 86.60%\n",
      "Epoch [18/200] \n",
      "Training Loss: 0.2765\n",
      "Validation Loss: 0.2690, Accuracy: 87.54%\n",
      "Epoch [19/200] \n",
      "Training Loss: 0.3088\n",
      "Validation Loss: 0.2381, Accuracy: 88.47%\n",
      "Epoch [20/200] \n",
      "Training Loss: 0.2783\n",
      "Validation Loss: 0.2144, Accuracy: 91.59%\n",
      "Epoch [21/200] \n",
      "Training Loss: 0.3104\n",
      "Validation Loss: 0.2025, Accuracy: 92.52%\n",
      "Epoch [22/200] \n",
      "Training Loss: 0.3362\n",
      "Validation Loss: 0.2362, Accuracy: 88.47%\n",
      "Epoch [23/200] \n",
      "Training Loss: 0.2920\n",
      "Validation Loss: 0.3189, Accuracy: 82.55%\n",
      "Epoch [24/200] \n",
      "Training Loss: 0.2731\n",
      "Validation Loss: 0.2094, Accuracy: 91.59%\n",
      "Epoch [25/200] \n",
      "Training Loss: 0.2733\n",
      "Validation Loss: 0.2365, Accuracy: 89.41%\n",
      "Epoch [26/200] \n",
      "Training Loss: 0.2660\n",
      "Validation Loss: 0.2249, Accuracy: 88.79%\n",
      "Epoch [27/200] \n",
      "Training Loss: 0.2608\n",
      "Validation Loss: 0.2281, Accuracy: 90.34%\n",
      "Epoch [28/200] \n",
      "Training Loss: 0.2477\n",
      "Validation Loss: 0.2276, Accuracy: 89.72%\n",
      "Epoch [29/200] \n",
      "Training Loss: 0.2402\n",
      "Validation Loss: 0.2271, Accuracy: 90.97%\n",
      "Epoch [30/200] \n",
      "Training Loss: 0.2402\n",
      "Validation Loss: 0.2170, Accuracy: 90.34%\n",
      "Epoch [31/200] \n",
      "Training Loss: 0.2499\n",
      "Validation Loss: 0.2088, Accuracy: 90.97%\n",
      "Epoch [32/200] \n",
      "Training Loss: 0.2491\n",
      "Validation Loss: 0.2195, Accuracy: 89.72%\n",
      "Epoch [33/200] \n",
      "Training Loss: 0.2628\n",
      "Validation Loss: 0.1953, Accuracy: 91.59%\n",
      "Epoch [34/200] \n",
      "Training Loss: 0.2525\n",
      "Validation Loss: 0.2199, Accuracy: 90.65%\n",
      "Epoch [35/200] \n",
      "Training Loss: 0.2502\n",
      "Validation Loss: 0.2975, Accuracy: 87.54%\n",
      "Epoch [36/200] \n",
      "Training Loss: 0.2426\n",
      "Validation Loss: 0.2078, Accuracy: 89.72%\n",
      "Epoch [37/200] \n",
      "Training Loss: 0.3375\n",
      "Validation Loss: 0.2712, Accuracy: 86.92%\n",
      "Epoch [38/200] \n",
      "Training Loss: 0.3034\n",
      "Validation Loss: 0.2312, Accuracy: 89.72%\n",
      "Epoch [39/200] \n",
      "Training Loss: 0.2401\n",
      "Validation Loss: 0.2077, Accuracy: 90.65%\n",
      "Epoch [40/200] \n",
      "Training Loss: 0.2438\n",
      "Validation Loss: 0.2086, Accuracy: 90.97%\n",
      "Epoch [41/200] \n",
      "Training Loss: 0.2510\n",
      "Validation Loss: 0.2091, Accuracy: 91.59%\n",
      "Epoch [42/200] \n",
      "Training Loss: 0.2782\n",
      "Validation Loss: 0.2454, Accuracy: 89.41%\n",
      "Epoch [43/200] \n",
      "Training Loss: 0.2992\n",
      "Validation Loss: 0.2829, Accuracy: 86.60%\n",
      "Epoch [44/200] \n",
      "Training Loss: 0.2563\n",
      "Validation Loss: 0.2081, Accuracy: 90.97%\n",
      "Epoch [45/200] \n",
      "Training Loss: 0.2798\n",
      "Validation Loss: 0.2014, Accuracy: 90.03%\n",
      "Epoch [46/200] \n",
      "Training Loss: 0.2349\n",
      "Validation Loss: 0.2538, Accuracy: 89.41%\n",
      "Epoch [47/200] \n",
      "Training Loss: 0.2351\n",
      "Validation Loss: 0.2340, Accuracy: 90.34%\n",
      "Epoch [48/200] \n",
      "Training Loss: 0.2272\n",
      "Validation Loss: 0.2276, Accuracy: 90.97%\n",
      "Epoch [49/200] \n",
      "Training Loss: 0.2151\n",
      "Validation Loss: 0.1953, Accuracy: 91.28%\n",
      "Epoch [50/200] \n",
      "Training Loss: 0.2731\n"
     ]
    },
    {
     "ename": "KeyboardInterrupt",
     "evalue": "",
     "output_type": "error",
     "traceback": [
      "\u001b[0;31m---------------------------------------------------------------------------\u001b[0m",
      "\u001b[0;31mKeyboardInterrupt\u001b[0m                         Traceback (most recent call last)",
      "\u001b[0;32m<ipython-input-17-b26eb301bfbb>\u001b[0m in \u001b[0;36m<module>\u001b[0;34m()\u001b[0m\n\u001b[1;32m     21\u001b[0m     \u001b[0mprec1\u001b[0m \u001b[0;34m=\u001b[0m \u001b[0maccuracy\u001b[0m\u001b[0;34m(\u001b[0m\u001b[0mval_loader\u001b[0m\u001b[0;34m)\u001b[0m\u001b[0;34m[\u001b[0m\u001b[0;36m0\u001b[0m\u001b[0;34m]\u001b[0m\u001b[0;34m\u001b[0m\u001b[0m\n\u001b[1;32m     22\u001b[0m     \u001b[0mprint\u001b[0m \u001b[0;34m(\u001b[0m\u001b[0;34m'Epoch [%d/%d] \\nTraining Loss: %.4f'\u001b[0m \u001b[0;34m%\u001b[0m \u001b[0;34m(\u001b[0m\u001b[0mepoch\u001b[0m\u001b[0;34m+\u001b[0m\u001b[0;36m1\u001b[0m\u001b[0;34m,\u001b[0m \u001b[0mnum_epochs\u001b[0m\u001b[0;34m,\u001b[0m \u001b[0mnp\u001b[0m\u001b[0;34m.\u001b[0m\u001b[0mmean\u001b[0m\u001b[0;34m(\u001b[0m\u001b[0mepoch_train_loss\u001b[0m\u001b[0;34m)\u001b[0m\u001b[0;34m.\u001b[0m\u001b[0mdata\u001b[0m\u001b[0;34m[\u001b[0m\u001b[0;36m0\u001b[0m\u001b[0;34m]\u001b[0m\u001b[0;34m)\u001b[0m\u001b[0;34m)\u001b[0m\u001b[0;34m\u001b[0m\u001b[0m\n\u001b[0;32m---> 23\u001b[0;31m     \u001b[0mprint\u001b[0m\u001b[0;34m(\u001b[0m\u001b[0;34m'Validation Loss: %.4f, Accuracy: %.2f%%'\u001b[0m \u001b[0;34m%\u001b[0m \u001b[0maccuracy\u001b[0m\u001b[0;34m(\u001b[0m\u001b[0mval_loader\u001b[0m\u001b[0;34m)\u001b[0m\u001b[0;34m)\u001b[0m\u001b[0;34m\u001b[0m\u001b[0m\n\u001b[0m\u001b[1;32m     24\u001b[0m \u001b[0;34m\u001b[0m\u001b[0m\n\u001b[1;32m     25\u001b[0m     \u001b[0mis_best\u001b[0m \u001b[0;34m=\u001b[0m \u001b[0mprec1\u001b[0m \u001b[0;34m<\u001b[0m \u001b[0mbest_prec1\u001b[0m\u001b[0;34m\u001b[0m\u001b[0m\n",
      "\u001b[0;32m<ipython-input-16-15a07b323d5a>\u001b[0m in \u001b[0;36maccuracy\u001b[0;34m(loader)\u001b[0m\n\u001b[1;32m     28\u001b[0m         \u001b[0m_\u001b[0m\u001b[0;34m,\u001b[0m \u001b[0mpredicted\u001b[0m \u001b[0;34m=\u001b[0m \u001b[0mtorch\u001b[0m\u001b[0;34m.\u001b[0m\u001b[0mmax\u001b[0m\u001b[0;34m(\u001b[0m\u001b[0moutputs\u001b[0m\u001b[0;34m.\u001b[0m\u001b[0mdata\u001b[0m\u001b[0;34m,\u001b[0m \u001b[0;36m1\u001b[0m\u001b[0;34m)\u001b[0m\u001b[0;34m\u001b[0m\u001b[0m\n\u001b[1;32m     29\u001b[0m         \u001b[0mtotal\u001b[0m \u001b[0;34m+=\u001b[0m \u001b[0mlabels\u001b[0m\u001b[0;34m.\u001b[0m\u001b[0msize\u001b[0m\u001b[0;34m(\u001b[0m\u001b[0;36m0\u001b[0m\u001b[0;34m)\u001b[0m\u001b[0;34m\u001b[0m\u001b[0m\n\u001b[0;32m---> 30\u001b[0;31m         \u001b[0mcorrect\u001b[0m \u001b[0;34m+=\u001b[0m \u001b[0;34m(\u001b[0m\u001b[0mpredicted\u001b[0m \u001b[0;34m==\u001b[0m \u001b[0mlabels\u001b[0m\u001b[0;34m.\u001b[0m\u001b[0mdata\u001b[0m\u001b[0;34m)\u001b[0m\u001b[0;34m.\u001b[0m\u001b[0msum\u001b[0m\u001b[0;34m(\u001b[0m\u001b[0;34m)\u001b[0m\u001b[0;34m\u001b[0m\u001b[0m\n\u001b[0m\u001b[1;32m     31\u001b[0m \u001b[0;34m\u001b[0m\u001b[0m\n\u001b[1;32m     32\u001b[0m     \u001b[0;32mreturn\u001b[0m \u001b[0mnp\u001b[0m\u001b[0;34m.\u001b[0m\u001b[0mmean\u001b[0m\u001b[0;34m(\u001b[0m\u001b[0mloss\u001b[0m\u001b[0;34m)\u001b[0m\u001b[0;34m.\u001b[0m\u001b[0mdata\u001b[0m\u001b[0;34m[\u001b[0m\u001b[0;36m0\u001b[0m\u001b[0;34m]\u001b[0m\u001b[0;34m,\u001b[0m \u001b[0;34m(\u001b[0m\u001b[0;36m100\u001b[0m \u001b[0;34m*\u001b[0m \u001b[0mcorrect\u001b[0m \u001b[0;34m/\u001b[0m \u001b[0mtotal\u001b[0m\u001b[0;34m)\u001b[0m\u001b[0;34m\u001b[0m\u001b[0m\n",
      "\u001b[0;31mKeyboardInterrupt\u001b[0m: "
     ]
    }
   ],
   "source": [
    "# Train the Model\n",
    "best_prec1 = 1\n",
    "for epoch in range(num_epochs):\n",
    "    epoch_train_loss = []\n",
    "    for i, (features, features_angle, labels) in enumerate(train_loader):\n",
    "        iceNet.train()\n",
    "        features = features.cuda()\n",
    "        labels = labels.cuda()\n",
    "        features = Variable(features).float()\n",
    "        features_angle = Variable(features_angle).cuda()\n",
    "        labels = Variable(labels).long()\n",
    "        # Forward + Backward + Optimize\n",
    "        optimizer.zero_grad()\n",
    "        outputs = iceNet(features, features_angle)\n",
    "        writer.add_graph(iceNet, outputs)\n",
    "        loss = criterion(outputs, labels)\n",
    "        epoch_train_loss.append(loss)\n",
    "        loss.backward()\n",
    "        optimizer.step()\n",
    "        \n",
    "    prec1 = accuracy(val_loader)[0]\n",
    "    print ('Epoch [%d/%d] \\nTraining Loss: %.4f' % (epoch+1, num_epochs, np.mean(epoch_train_loss).data[0]))\n",
    "    print('Validation Loss: %.4f, Accuracy: %.2f%%' % accuracy(val_loader))\n",
    "    \n",
    "    is_best = prec1 < best_prec1\n",
    "    best_prec1 = min(prec1, best_prec1)\n",
    "#     save_checkpoint({\n",
    "#         'epoch': epoch + 1,\n",
    "#         'state_dict': iceNet.state_dict(),\n",
    "#         'best_prec1': best_prec1,\n",
    "#         'optimizer' : optimizer.state_dict(),\n",
    "#     }, is_best)\n",
    "\n",
    "print(best_prec1)\n",
    "# export scalar data to JSON for external processing\n",
    "writer.close()"
   ]
  },
  {
   "cell_type": "code",
   "execution_count": null,
   "metadata": {
    "collapsed": true
   },
   "outputs": [],
   "source": [
    "print(\"=> loading checkpoint\")\n",
    "best_model = torch.load('./Models/model_best.pth.tar')\n",
    "print('best_prec1 = ', best_model['best_prec1'])\n",
    "iceNet.load_state_dict(best_model['state_dict'])\n",
    "optimizer.load_state_dict(best_model['optimizer'])"
   ]
  },
  {
   "cell_type": "code",
   "execution_count": 124,
   "metadata": {
    "collapsed": true
   },
   "outputs": [],
   "source": [
    "temp_dataset = icebergDataset(X_train)"
   ]
  },
  {
   "cell_type": "code",
   "execution_count": 129,
   "metadata": {
    "collapsed": true
   },
   "outputs": [],
   "source": [
    "# Predict\n",
    "iceNet.eval()\n",
    "test_loader = torch.utils.data.DataLoader(dataset=test_dataset, batch_size=1, shuffle=False)\n",
    "results = []\n",
    "for features, features_angle in test_loader:\n",
    "    iceNet.eval()\n",
    "    features = Variable(features, volatile=True).cuda()\n",
    "    features_angle = Variable(features_angle, volatile=True).cuda()\n",
    "    outputs = F.softmax(iceNet(features, features_angle))\n",
    "#     outputs = iceNet(features, features_angle)\n",
    "\n",
    "    results.append(outputs.data[0][1])"
   ]
  },
  {
   "cell_type": "code",
   "execution_count": 126,
   "metadata": {
    "collapsed": false
   },
   "outputs": [
    {
     "data": {
      "text/plain": [
       "0.45908028059236167"
      ]
     },
     "execution_count": 126,
     "metadata": {},
     "output_type": "execute_result"
    }
   ],
   "source": [
    "sum(y_train>0.5)/len(y_train)"
   ]
  },
  {
   "cell_type": "code",
   "execution_count": 130,
   "metadata": {
    "collapsed": false
   },
   "outputs": [
    {
     "data": {
      "text/plain": [
       "0.30282526115859448"
      ]
     },
     "execution_count": 130,
     "metadata": {},
     "output_type": "execute_result"
    }
   ],
   "source": [
    "sum(np.array(results)>0.5)/len(results)"
   ]
  },
  {
   "cell_type": "code",
   "execution_count": 131,
   "metadata": {
    "collapsed": false
   },
   "outputs": [
    {
     "data": {
      "text/plain": [
       "[0.02592930756509304,\n",
       " 0.3247637450695038,\n",
       " 1.0454600713242189e-14,\n",
       " 0.9999004602432251,\n",
       " 0.40994328260421753,\n",
       " 0.6011435389518738,\n",
       " 0.024099018424749374,\n",
       " 0.9999616146087646,\n",
       " 2.8529889561923483e-10,\n",
       " 2.0306337167319555e-10,\n",
       " 1.0756996557609658e-15,\n",
       " 0.30658578872680664,\n",
       " 1.2682083252002485e-05,\n",
       " 0.29034730792045593,\n",
       " 4.115712783914205e-07,\n",
       " 0.0020702641922980547,\n",
       " 0.0006665511173196137,\n",
       " 0.001083467504940927,\n",
       " 0.003712332108989358,\n",
       " 0.9074830412864685,\n",
       " 0.02027943916618824,\n",
       " 0.18286937475204468,\n",
       " 0.23720575869083405,\n",
       " 0.12182788550853729,\n",
       " 3.2119743469767245e-14,\n",
       " 7.707850357974166e-09,\n",
       " 0.007208712864667177,\n",
       " 0.4834314286708832,\n",
       " 0.1449306458234787,\n",
       " 0.9999291896820068,\n",
       " 1.087272768563255e-13,\n",
       " 0.6034151315689087,\n",
       " 0.4970799684524536,\n",
       " 0.016889972612261772,\n",
       " 0.7639496326446533,\n",
       " 0.9922479391098022,\n",
       " 0.0013621319085359573,\n",
       " 0.2865104377269745,\n",
       " 0.28295210003852844,\n",
       " 0.8613411784172058,\n",
       " 3.21758954014231e-15,\n",
       " 0.5548590421676636,\n",
       " 0.8960628509521484,\n",
       " 2.0677757675002795e-06,\n",
       " 0.6169924736022949,\n",
       " 0.9477837085723877,\n",
       " 0.9972792267799377,\n",
       " 8.354654241549858e-21,\n",
       " 0.9999982118606567,\n",
       " 0.6218925714492798]"
      ]
     },
     "execution_count": 131,
     "metadata": {},
     "output_type": "execute_result"
    }
   ],
   "source": [
    "results[:50]"
   ]
  },
  {
   "cell_type": "code",
   "execution_count": 132,
   "metadata": {
    "collapsed": true
   },
   "outputs": [],
   "source": [
    "sub = pd.read_csv('./Data/sample_submission.csv')"
   ]
  },
  {
   "cell_type": "code",
   "execution_count": 133,
   "metadata": {
    "collapsed": true
   },
   "outputs": [],
   "source": [
    "sub['is_iceberg'] = results"
   ]
  },
  {
   "cell_type": "code",
   "execution_count": 135,
   "metadata": {
    "collapsed": true
   },
   "outputs": [],
   "source": [
    "sub.to_csv('./Submissions/sub_30Oct_val_1631.csv', index=False)"
   ]
  },
  {
   "cell_type": "markdown",
   "metadata": {},
   "source": [
    "#### KFold"
   ]
  },
  {
   "cell_type": "code",
   "execution_count": 32,
   "metadata": {
    "collapsed": true
   },
   "outputs": [],
   "source": [
    "band_1_KF = np.concatenate([im for im in data['band_1']]).reshape(-1, 75, 75)\n",
    "band_2_KF = np.concatenate([im for im in data['band_2']]).reshape(-1, 75, 75)\n",
    "rgb = np.stack((band_1_KF, band_2_KF), axis=1)\n",
    "X_KF = [rgb, np.array(data['inc_angle']).reshape((len(data), 1))]\n",
    "\n",
    "y_KF = data['is_iceberg'].values.astype(np.float32)"
   ]
  },
  {
   "cell_type": "code",
   "execution_count": 33,
   "metadata": {
    "collapsed": true
   },
   "outputs": [],
   "source": [
    "def accuracy(loader):\n",
    "    iceNet.eval()\n",
    "    correct = 0\n",
    "    total = 0\n",
    "    loss = []\n",
    "    for features, features_angle, labels in loader:\n",
    "        features = Variable(features, volatile=True).cuda()\n",
    "        features_angle = Variable(features_angle, volatile=True).cuda()\n",
    "        labels = Variable(labels, volatile=True).cuda()\n",
    "        outputs = iceNet(features, features_angle)\n",
    "        _loss = criterion(outputs, labels)\n",
    "        loss.append(_loss)\n",
    "        _, predicted = torch.max(outputs.data, 1)\n",
    "        total += labels.size(0)\n",
    "        correct += (predicted == labels.data).sum()\n",
    "        \n",
    "    return np.mean(loss).data[0], (100 * correct / total)"
   ]
  },
  {
   "cell_type": "code",
   "execution_count": 46,
   "metadata": {
    "collapsed": true
   },
   "outputs": [],
   "source": [
    "num_epochs = 150\n",
    "batch_size = 32\n",
    "learning_rate = 0.001"
   ]
  },
  {
   "cell_type": "code",
   "execution_count": null,
   "metadata": {
    "collapsed": false
   },
   "outputs": [
    {
     "name": "stdout",
     "output_type": "stream",
     "text": [
      "Fold [1/5]\n"
     ]
    },
    {
     "name": "stderr",
     "output_type": "stream",
     "text": [
      "/home/arsh/anaconda3/envs/torch/lib/python3.6/site-packages/ipykernel/__main__.py:8: FutureWarning: comparison to `None` will result in an elementwise object comparison in the future.\n"
     ]
    },
    {
     "name": "stdout",
     "output_type": "stream",
     "text": [
      "Val Score : 0.180579\n",
      "Fold [2/5]\n",
      "Val Score : 0.160384\n",
      "Fold [3/5]\n"
     ]
    }
   ],
   "source": [
    "kfold = 5\n",
    "kfold_scores = []\n",
    "\n",
    "test_dataset = icebergDataset(X_test)\n",
    "test_loader = torch.utils.data.DataLoader(dataset=test_dataset, batch_size=1, shuffle=False, num_workers=3)\n",
    "\n",
    "results = []\n",
    "sss = KFold(n_splits=kfold, random_state=0)\n",
    "for i, (train_index, test_index) in enumerate(sss.split(X_KF[0], X_KF[1], y_KF)):\n",
    "    X_train_KF, X_valid_KF = [X_KF[0][train_index], X_KF[1][train_index]], [X_KF[0][test_index], X_KF[1][test_index]]\n",
    "    y_train_KF, y_valid_KF = y_KF[train_index], y_KF[test_index]\n",
    "    \n",
    "    # Define model\n",
    "    iceNet = net().apply(weight_init).cuda()\n",
    "    \n",
    "    # Loss and Optimizer\n",
    "    criterion = nn.CrossEntropyLoss()\n",
    "    optimizer = torch.optim.Adam(iceNet.parameters(), lr=learning_rate, weight_decay=0.0001)\n",
    "    \n",
    "    # Data Loader\n",
    "    train_dataset_KF = icebergDataset(X_train_KF, y_train_KF, transform=True)\n",
    "    val_dataset_KF = icebergDataset(X_valid_KF, y_valid_KF)\n",
    "\n",
    "    train_loader_KF = torch.utils.data.DataLoader(dataset=train_dataset_KF, batch_size=batch_size, shuffle=True, num_workers=3)\n",
    "    val_loader_KF = torch.utils.data.DataLoader(dataset=val_dataset_KF, batch_size=batch_size, shuffle=False, num_workers=3)\n",
    "    \n",
    "    print('Fold [%d/%d]' % (i+1, kfold))\n",
    "    # Train\n",
    "    best_prec1 = 1\n",
    "    for epoch in range(num_epochs):\n",
    "        epoch_train_loss = []\n",
    "        for idx, (features, features_angle, labels) in enumerate(train_loader_KF):\n",
    "            iceNet.train()\n",
    "            features = Variable(features).cuda()\n",
    "            features_angle = Variable(features_angle).cuda()\n",
    "            labels = Variable(labels).cuda()\n",
    "            # Forward + Backward + Optimize\n",
    "            optimizer.zero_grad()\n",
    "            outputs = iceNet(features, features_angle)\n",
    "            loss = criterion(outputs, labels)\n",
    "            epoch_train_loss.append(loss)\n",
    "            loss.backward()\n",
    "            optimizer.step()\n",
    "\n",
    "        prec1 = accuracy(val_loader_KF)[0]\n",
    "        \n",
    "        # Save best model\n",
    "        is_best = prec1 < best_prec1\n",
    "        best_prec1 = min(prec1, best_prec1)\n",
    "        save_checkpoint({\n",
    "            'epoch': epoch + 1,\n",
    "            'state_dict': iceNet.state_dict(),\n",
    "            'best_prec1': best_prec1,\n",
    "            'optimizer' : optimizer.state_dict(),\n",
    "        }, is_best, filename='./Models/v1Nov_v1_dense/model_fold_'+str(i+1)+'.pth.tar')\n",
    "        \n",
    "    print('Val Score : %f' % (best_prec1))\n",
    "    kfold_scores.append(best_prec1)\n",
    "    # Load best model\n",
    "    best_model = torch.load('./Models/v1Nov_v1_dense/model_fold_'+str(i+1)+'.pth.tar')\n",
    "    iceNet.load_state_dict(best_model['state_dict'])\n",
    "    optimizer.load_state_dict(best_model['optimizer'])\n",
    "    \n",
    "    # Predict\n",
    "    iceNet.eval()\n",
    "    \n",
    "    results_fold = []\n",
    "    for features, features_angle in test_loader:\n",
    "        iceNet.eval()\n",
    "        features = Variable(features, volatile=True).cuda()\n",
    "        features_angle = Variable(features_angle, volatile=True).cuda()\n",
    "        outputs = F.softmax(iceNet(features, features_angle))\n",
    "    #     outputs = iceNet(features, features_angle)\n",
    "\n",
    "        results_fold.append(outputs.data[0][1])\n",
    "    \n",
    "    results.append(results_fold)"
   ]
  },
  {
   "cell_type": "code",
   "execution_count": 68,
   "metadata": {
    "collapsed": false
   },
   "outputs": [
    {
     "data": {
      "text/plain": [
       "0.14793445020914078"
      ]
     },
     "execution_count": 68,
     "metadata": {},
     "output_type": "execute_result"
    }
   ],
   "source": [
    "np.array(kfold_scores).mean()"
   ]
  },
  {
   "cell_type": "code",
   "execution_count": 69,
   "metadata": {
    "collapsed": true
   },
   "outputs": [],
   "source": [
    "sub = pd.read_csv('./Data/sample_submission.csv')\n",
    "sub['is_iceberg'] = np.array(results).mean(axis=0)\n",
    "sub.to_csv('./Submissions/Sub 7 - 5-fold _ Val-1479.csv', index=False)"
   ]
  },
  {
   "cell_type": "code",
   "execution_count": null,
   "metadata": {
    "collapsed": true
   },
   "outputs": [],
   "source": []
  },
  {
   "cell_type": "code",
   "execution_count": 2,
   "metadata": {
    "collapsed": true
   },
   "outputs": [],
   "source": [
    "sub = pd.read_csv('./Data/sample_submission.csv')"
   ]
  },
  {
   "cell_type": "code",
   "execution_count": 7,
   "metadata": {
    "collapsed": true
   },
   "outputs": [],
   "source": [
    "sub1 = pd.read_csv('./Submissions/Sub 3 - 5 fold _ Val - 0.1504.csv')['is_iceberg']\n",
    "sub2 = pd.read_csv('./Submissions/Sub 4 - 10-fold _ Val-1269.csv')['is_iceberg']\n",
    "sub3 = pd.read_csv('./Submissions/Sub 5 - 5-fold _ Val-1538.csv')['is_iceberg']\n",
    "sub4 = pd.read_csv('./Submissions/Sub 6 - 5-fold _ Val-1480.csv')['is_iceberg']"
   ]
  },
  {
   "cell_type": "code",
   "execution_count": 21,
   "metadata": {
    "collapsed": true
   },
   "outputs": [],
   "source": [
    "results = np.mean((np.array(sub1), np.array(sub2), np.array(sub3), np.array(sub4)), axis=0)\n",
    "sub['is_iceberg'] = np.array(results)\n",
    "sub.to_csv('./Submissions/Sub 7 - Ensemble_3_4_5_6.csv', index=False)"
   ]
  },
  {
   "cell_type": "code",
   "execution_count": null,
   "metadata": {
    "collapsed": true
   },
   "outputs": [],
   "source": []
  },
  {
   "cell_type": "code",
   "execution_count": 443,
   "metadata": {
    "collapsed": false
   },
   "outputs": [
    {
     "name": "stdout",
     "output_type": "stream",
     "text": [
      "-20.6294362443 -26.2992938019\n",
      "-20.761327592 -26.4062671221\n",
      "---------------------\n"
     ]
    },
    {
     "data": {
      "image/png": "[encoded data removed]",
      "text/plain": [
       "<matplotlib.figure.Figure at 0x7f965f4c3ac8>"
      ]
     },
     "metadata": {},
     "output_type": "display_data"
    },
    {
     "name": "stdout",
     "output_type": "stream",
     "text": [
      "-20.5924959525 -26.3152706819\n",
      "-20.9089736802 -26.3424093745\n",
      "---------------------\n"
     ]
    },
    {
     "data": {
      "image/png": "[encoded data removed]",
      "text/plain": [
       "<matplotlib.figure.Figure at 0x7f965cd289e8>"
      ]
     },
     "metadata": {},
     "output_type": "display_data"
    },
    {
     "name": "stdout",
     "output_type": "stream",
     "text": [
      "-20.5555859822 -26.2668042583\n",
      "-21.0564985772 -26.5361240829\n",
      "---------------------\n"
     ]
    },
    {
     "data": {
      "image/png": "[encoded data removed]",
      "text/plain": [
       "<matplotlib.figure.Figure at 0x7f942bacf550>"
      ]
     },
     "metadata": {},
     "output_type": "display_data"
    },
    {
     "name": "stdout",
     "output_type": "stream",
     "text": [
      "-20.746692724 -26.3556690682\n",
      "-20.2926669581 -26.1809416808\n",
      "---------------------\n"
     ]
    },
    {
     "data": {
      "image/png": "[encoded data removed]",
      "text/plain": [
       "<matplotlib.figure.Figure at 0x7f967fdc2cf8>"
      ]
     },
     "metadata": {},
     "output_type": "display_data"
    },
    {
     "name": "stdout",
     "output_type": "stream",
     "text": [
      "-20.7548667019 -26.3664355651\n",
      "-20.2584500413 -26.1371950891\n",
      "---------------------\n"
     ]
    },
    {
     "data": {
      "image/png": "[encoded data removed]",
      "text/plain": [
       "<matplotlib.figure.Figure at 0x7f966267e358>"
      ]
     },
     "metadata": {},
     "output_type": "display_data"
    }
   ],
   "source": [
    "kfold = 5\n",
    "kfold_scores = []\n",
    "\n",
    "test_dataset = icebergDataset(X_test)\n",
    "test_loader = torch.utils.data.DataLoader(dataset=test_dataset, batch_size=1, shuffle=False)\n",
    "\n",
    "results = []\n",
    "sss = KFold(n_splits=kfold, random_state=0)\n",
    "temp = []\n",
    "for i, (train_index, test_index) in enumerate(sss.split(X_KF[0], X_KF[1], y_KF)):\n",
    "    X_train_KF, X_valid_KF = [X_KF[0][train_index], X_KF[1][train_index]], [X_KF[0][test_index], X_KF[1][test_index]]\n",
    "    y_train_KF, y_valid_KF = y_KF[train_index], y_KF[test_index]\n",
    "    \n",
    "    print(np.mean(X_train_KF[0][:,0,:,:]), np.mean(X_train_KF[0][:,1,:,:]))\n",
    "    print(np.mean(X_valid_KF[0][:,0,:,:]), np.mean(X_valid_KF[0][:,1,:,:]))\n",
    "    print('---------------------')\n",
    "    \n",
    "    num = np.random.randint(len(X_valid_KF[0]))\n",
    "    plt.imshow(X_valid_KF[0][num,0,:,:],cmap='gray')\n",
    "    plt.show()"
   ]
  }
 ],
 "metadata": {
  "kernelspec": {
   "display_name": "Python 3",
   "language": "python",
   "name": "python3"
  },
  "language_info": {
   "codemirror_mode": {
    "name": "ipython",
    "version": 3
   },
   "file_extension": ".py",
   "mimetype": "text/x-python",
   "name": "python",
   "nbconvert_exporter": "python",
   "pygments_lexer": "ipython3",
   "version": "3.6.0"
  }
 },
 "nbformat": 4,
 "nbformat_minor": 2
}
