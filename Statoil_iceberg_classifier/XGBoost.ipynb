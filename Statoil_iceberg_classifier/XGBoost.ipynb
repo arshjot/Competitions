{
 "cells": [
  {
   "cell_type": "markdown",
   "metadata": {},
   "source": [
    "#### Import packages"
   ]
  },
  {
   "cell_type": "code",
   "execution_count": 1,
   "metadata": {
    "collapsed": false
   },
   "outputs": [
    {
     "name": "stderr",
     "output_type": "stream",
     "text": [
      "/home/arsh/anaconda3/envs/torch/lib/python3.6/site-packages/sklearn/cross_validation.py:44: DeprecationWarning: This module was deprecated in version 0.18 in favor of the model_selection module into which all the refactored classes and functions are moved. Also note that the interface of the new CV iterators are different from that of this module. This module will be removed in 0.20.\n",
      "  \"This module will be removed in 0.20.\", DeprecationWarning)\n"
     ]
    }
   ],
   "source": [
    "import pandas as pd\n",
    "import numpy as np\n",
    "import matplotlib.pyplot as plt\n",
    "from sklearn.model_selection import train_test_split\n",
    "from sklearn.preprocessing import MinMaxScaler\n",
    "import cv2\n",
    "\n",
    "from sklearn.model_selection import KFold\n",
    "from sklearn.model_selection import StratifiedKFold\n",
    "from sklearn.model_selection import train_test_split\n",
    "import xgboost as xgb\n",
    "\n",
    "import operator\n",
    "import pickle\n",
    "np.random.seed(42)\n",
    "\n",
    "from utils import *"
   ]
  },
  {
   "cell_type": "markdown",
   "metadata": {},
   "source": [
    "#### Load and Prepare Data"
   ]
  },
  {
   "cell_type": "code",
   "execution_count": 27,
   "metadata": {
    "collapsed": true
   },
   "outputs": [],
   "source": [
    "data = pd.read_json('./Data/train.json')\n",
    "test = pd.read_json('./Data/test.json')"
   ]
  },
  {
   "cell_type": "code",
   "execution_count": 28,
   "metadata": {
    "collapsed": true
   },
   "outputs": [],
   "source": [
    "data['band_1'] = data['band_1'].apply(lambda x : np.array(x).reshape(75, 75))\n",
    "data['band_2'] = data['band_2'].apply(lambda x : np.array(x).reshape(75, 75))\n",
    "\n",
    "test['band_1'] = test['band_1'].apply(lambda x : np.array(x).reshape(75, 75))\n",
    "test['band_2'] = test['band_2'].apply(lambda x : np.array(x).reshape(75, 75))\n",
    "\n",
    "data['inc_angle'] = pd.to_numeric(data['inc_angle'], errors='coerce').fillna(-1)\n",
    "test['inc_angle'] = pd.to_numeric(test['inc_angle'], errors='coerce')"
   ]
  },
  {
   "cell_type": "code",
   "execution_count": 51,
   "metadata": {
    "collapsed": true
   },
   "outputs": [],
   "source": [
    "band_1_tr = np.concatenate([im for im in data['band_1']]).reshape(-1, 75*75)\n",
    "band_2_tr = np.concatenate([im for im in data['band_2']]).reshape(-1, 75*75)\n",
    "# b_av = np.divide(band_1_tr, band_2_tr, out=np.zeros_like(band_1_tr), where=band_2_tr!=0)\n",
    "# b_av = band_1_tr*np.cos(train['inc_angle'])[:, None, None]\n",
    "# b_av = np.ones((75,75))*(np.cos(train['inc_angle'])[:, None, None]**2)\n",
    "# b_av2 = band_2_tr*np.cos(train['inc_angle'])[:, None, None]\n",
    "# b_av = (band_1_tr+band_2_tr)/2\n",
    "rgb = np.concatenate((band_1_tr, band_2_tr, np.array(data['inc_angle']).reshape((len(data), 1))), axis=1)\n",
    "X_train = rgb\n",
    "\n",
    "band_1_test = np.concatenate([im for im in test['band_1']]).reshape(-1, 75*75)\n",
    "band_2_test = np.concatenate([im for im in test['band_2']]).reshape(-1, 75*75)\n",
    "# b = np.divide(band_1_test, band_2_test, out=np.zeros_like(band_1_test), where=band_2_test!=0)\n",
    "# b_av = (band_1_test+band_2_test)/2\n",
    "rgb = np.concatenate((band_1_test, band_2_test, np.array(test['inc_angle']).reshape((len(test), 1))), axis=1)\n",
    "X_test = rgb\n",
    "\n",
    "y_train = data['is_iceberg'].values.astype(np.float32)"
   ]
  },
  {
   "cell_type": "code",
   "execution_count": null,
   "metadata": {
    "collapsed": true
   },
   "outputs": [],
   "source": [
    "# idx = 2\n",
    "# f, (ax1, ax2, ax3) = plt.subplots(1,3,figsize=(10,5))\n",
    "# plt.suptitle('Is Iceberg : '+str(y_train[idx])+'\\nIncidence Angle : '+str(train['inc_angle'][idx]),\n",
    "#              fontweight=\"bold\")\n",
    "# ax1.imshow(X_train[0][idx][0,:,:], cmap='gray')\n",
    "# ax1.set_title('Band 1')\n",
    "# ax2.imshow(band_2_tr[idx], cmap='gray')\n",
    "# ax2.set_title('Band 2')\n",
    "# ax3.imshow(np.moveaxis(X_train[0][idx], 0, 2))\n",
    "# ax3.set_title('Color Composite')\n",
    "# plt.show()"
   ]
  },
  {
   "cell_type": "markdown",
   "metadata": {},
   "source": [
    "#### XGBoost "
   ]
  },
  {
   "cell_type": "code",
   "execution_count": 52,
   "metadata": {
    "collapsed": true
   },
   "outputs": [],
   "source": [
    "X = X_train\n",
    "y = y_train\n",
    "x_test = X_test"
   ]
  },
  {
   "cell_type": "code",
   "execution_count": 85,
   "metadata": {
    "collapsed": true
   },
   "outputs": [],
   "source": [
    "xgbscores = []\n",
    "\n",
    "# Set xgb parameters\n",
    "params = {}\n",
    "params['objective'] = 'binary:logistic'\n",
    "# params['booster'] = 'dart'\n",
    "params['eta'] = 0.02\n",
    "params['silent'] = True\n",
    "# params['eval_metric'] = 'ndcg@20000'\n",
    "params['max_depth'] = 7\n",
    "params['subsample'] = 0.9\n",
    "params['colsample_bytree'] = 0.5\n",
    "params['colsample_bylevel'] = 0.5\n",
    "params['seed'] = 99\n",
    "params['gamma'] = 14\n",
    "params['eval_metric'] = 'logloss'\n",
    "# params['num_class'] = 2\n",
    "# params['lambda'] = 10\n",
    "# params['alpha'] = 1\n",
    "# params['scale_pos_weight'] = 26.43671061122891"
   ]
  },
  {
   "cell_type": "code",
   "execution_count": 86,
   "metadata": {
    "collapsed": false
   },
   "outputs": [
    {
     "name": "stdout",
     "output_type": "stream",
     "text": [
      "[Fold 1/5]\n",
      "[0]\ttrain-mlogloss:0.687135\tvalid-mlogloss:0.68847\n",
      "Multiple eval metrics have been passed: 'valid-mlogloss' will be used for early stopping.\n",
      "\n",
      "Will train until valid-mlogloss hasn't improved in 170 rounds.\n",
      "[100]\ttrain-mlogloss:0.44421\tvalid-mlogloss:0.507937\n",
      "[200]\ttrain-mlogloss:0.422703\tvalid-mlogloss:0.493123\n",
      "[300]\ttrain-mlogloss:0.416039\tvalid-mlogloss:0.489236\n",
      "[400]\ttrain-mlogloss:0.414716\tvalid-mlogloss:0.488257\n"
     ]
    },
    {
     "ename": "KeyboardInterrupt",
     "evalue": "",
     "output_type": "error",
     "traceback": [
      "\u001b[0;31m---------------------------------------------------------------------------\u001b[0m",
      "\u001b[0;31mKeyboardInterrupt\u001b[0m                         Traceback (most recent call last)",
      "\u001b[0;32m<ipython-input-86-46d1a124bf73>\u001b[0m in \u001b[0;36m<module>\u001b[0;34m()\u001b[0m\n\u001b[1;32m     23\u001b[0m     \u001b[0;31m# Train the model! We pass in a max of 2,000 rounds (with early stopping after 100)\u001b[0m\u001b[0;34m\u001b[0m\u001b[0;34m\u001b[0m\u001b[0m\n\u001b[1;32m     24\u001b[0m     \u001b[0;31m# and the custom metric (maximize=True tells xgb that higher metric is better)\u001b[0m\u001b[0;34m\u001b[0m\u001b[0;34m\u001b[0m\u001b[0m\n\u001b[0;32m---> 25\u001b[0;31m     \u001b[0mmdl\u001b[0m \u001b[0;34m=\u001b[0m \u001b[0mxgb\u001b[0m\u001b[0;34m.\u001b[0m\u001b[0mtrain\u001b[0m\u001b[0;34m(\u001b[0m\u001b[0mparams\u001b[0m\u001b[0;34m,\u001b[0m \u001b[0md_train\u001b[0m\u001b[0;34m,\u001b[0m \u001b[0;36m5000\u001b[0m\u001b[0;34m,\u001b[0m \u001b[0mwatchlist\u001b[0m\u001b[0;34m,\u001b[0m \u001b[0mearly_stopping_rounds\u001b[0m\u001b[0;34m=\u001b[0m\u001b[0;36m170\u001b[0m\u001b[0;34m,\u001b[0m \u001b[0mverbose_eval\u001b[0m\u001b[0;34m=\u001b[0m\u001b[0;36m100\u001b[0m\u001b[0;34m)\u001b[0m\u001b[0;34m\u001b[0m\u001b[0m\n\u001b[0m\u001b[1;32m     26\u001b[0m \u001b[0;34m\u001b[0m\u001b[0m\n\u001b[1;32m     27\u001b[0m     \u001b[0mprint\u001b[0m\u001b[0;34m(\u001b[0m\u001b[0;34m'[Fold %d/%d Prediction:]'\u001b[0m \u001b[0;34m%\u001b[0m \u001b[0;34m(\u001b[0m\u001b[0mi\u001b[0m \u001b[0;34m+\u001b[0m \u001b[0;36m1\u001b[0m\u001b[0;34m,\u001b[0m \u001b[0mkfold\u001b[0m\u001b[0;34m)\u001b[0m\u001b[0;34m)\u001b[0m\u001b[0;34m\u001b[0m\u001b[0m\n",
      "\u001b[0;32m/home/arsh/anaconda3/envs/torch/lib/python3.6/site-packages/xgboost/training.py\u001b[0m in \u001b[0;36mtrain\u001b[0;34m(params, dtrain, num_boost_round, evals, obj, feval, maximize, early_stopping_rounds, evals_result, verbose_eval, learning_rates, xgb_model, callbacks)\u001b[0m\n\u001b[1;32m    203\u001b[0m                            \u001b[0mevals\u001b[0m\u001b[0;34m=\u001b[0m\u001b[0mevals\u001b[0m\u001b[0;34m,\u001b[0m\u001b[0;34m\u001b[0m\u001b[0m\n\u001b[1;32m    204\u001b[0m                            \u001b[0mobj\u001b[0m\u001b[0;34m=\u001b[0m\u001b[0mobj\u001b[0m\u001b[0;34m,\u001b[0m \u001b[0mfeval\u001b[0m\u001b[0;34m=\u001b[0m\u001b[0mfeval\u001b[0m\u001b[0;34m,\u001b[0m\u001b[0;34m\u001b[0m\u001b[0m\n\u001b[0;32m--> 205\u001b[0;31m                            xgb_model=xgb_model, callbacks=callbacks)\n\u001b[0m\u001b[1;32m    206\u001b[0m \u001b[0;34m\u001b[0m\u001b[0m\n\u001b[1;32m    207\u001b[0m \u001b[0;34m\u001b[0m\u001b[0m\n",
      "\u001b[0;32m/home/arsh/anaconda3/envs/torch/lib/python3.6/site-packages/xgboost/training.py\u001b[0m in \u001b[0;36m_train_internal\u001b[0;34m(params, dtrain, num_boost_round, evals, obj, feval, xgb_model, callbacks)\u001b[0m\n\u001b[1;32m     74\u001b[0m         \u001b[0;31m# Skip the first update if it is a recovery step.\u001b[0m\u001b[0;34m\u001b[0m\u001b[0;34m\u001b[0m\u001b[0m\n\u001b[1;32m     75\u001b[0m         \u001b[0;32mif\u001b[0m \u001b[0mversion\u001b[0m \u001b[0;34m%\u001b[0m \u001b[0;36m2\u001b[0m \u001b[0;34m==\u001b[0m \u001b[0;36m0\u001b[0m\u001b[0;34m:\u001b[0m\u001b[0;34m\u001b[0m\u001b[0m\n\u001b[0;32m---> 76\u001b[0;31m             \u001b[0mbst\u001b[0m\u001b[0;34m.\u001b[0m\u001b[0mupdate\u001b[0m\u001b[0;34m(\u001b[0m\u001b[0mdtrain\u001b[0m\u001b[0;34m,\u001b[0m \u001b[0mi\u001b[0m\u001b[0;34m,\u001b[0m \u001b[0mobj\u001b[0m\u001b[0;34m)\u001b[0m\u001b[0;34m\u001b[0m\u001b[0m\n\u001b[0m\u001b[1;32m     77\u001b[0m             \u001b[0mbst\u001b[0m\u001b[0;34m.\u001b[0m\u001b[0msave_rabit_checkpoint\u001b[0m\u001b[0;34m(\u001b[0m\u001b[0;34m)\u001b[0m\u001b[0;34m\u001b[0m\u001b[0m\n\u001b[1;32m     78\u001b[0m             \u001b[0mversion\u001b[0m \u001b[0;34m+=\u001b[0m \u001b[0;36m1\u001b[0m\u001b[0;34m\u001b[0m\u001b[0m\n",
      "\u001b[0;32m/home/arsh/anaconda3/envs/torch/lib/python3.6/site-packages/xgboost/core.py\u001b[0m in \u001b[0;36mupdate\u001b[0;34m(self, dtrain, iteration, fobj)\u001b[0m\n\u001b[1;32m    804\u001b[0m \u001b[0;34m\u001b[0m\u001b[0m\n\u001b[1;32m    805\u001b[0m         \u001b[0;32mif\u001b[0m \u001b[0mfobj\u001b[0m \u001b[0;32mis\u001b[0m \u001b[0;32mNone\u001b[0m\u001b[0;34m:\u001b[0m\u001b[0;34m\u001b[0m\u001b[0m\n\u001b[0;32m--> 806\u001b[0;31m             \u001b[0m_check_call\u001b[0m\u001b[0;34m(\u001b[0m\u001b[0m_LIB\u001b[0m\u001b[0;34m.\u001b[0m\u001b[0mXGBoosterUpdateOneIter\u001b[0m\u001b[0;34m(\u001b[0m\u001b[0mself\u001b[0m\u001b[0;34m.\u001b[0m\u001b[0mhandle\u001b[0m\u001b[0;34m,\u001b[0m \u001b[0miteration\u001b[0m\u001b[0;34m,\u001b[0m \u001b[0mdtrain\u001b[0m\u001b[0;34m.\u001b[0m\u001b[0mhandle\u001b[0m\u001b[0;34m)\u001b[0m\u001b[0;34m)\u001b[0m\u001b[0;34m\u001b[0m\u001b[0m\n\u001b[0m\u001b[1;32m    807\u001b[0m         \u001b[0;32melse\u001b[0m\u001b[0;34m:\u001b[0m\u001b[0;34m\u001b[0m\u001b[0m\n\u001b[1;32m    808\u001b[0m             \u001b[0mpred\u001b[0m \u001b[0;34m=\u001b[0m \u001b[0mself\u001b[0m\u001b[0;34m.\u001b[0m\u001b[0mpredict\u001b[0m\u001b[0;34m(\u001b[0m\u001b[0mdtrain\u001b[0m\u001b[0;34m)\u001b[0m\u001b[0;34m\u001b[0m\u001b[0m\n",
      "\u001b[0;31mKeyboardInterrupt\u001b[0m: "
     ]
    }
   ],
   "source": [
    "# Create a submission file\n",
    "sub = pd.DataFrame()\n",
    "sub['id'] = test['id']\n",
    "sub['target'] = np.zeros_like(test['id'])\n",
    "\n",
    "kfold = 5\n",
    "weights = []\n",
    "feature_imps = []\n",
    "sss = KFold(n_splits=kfold, random_state=0)\n",
    "for i, (train_index, test_index) in enumerate(sss.split(X, y)):\n",
    "    \n",
    "    print('[Fold %d/%d]' % (i + 1, kfold))\n",
    "    X_train, X_valid = X[train_index], X[test_index]\n",
    "    y_train, y_valid = y[train_index], y[test_index]\n",
    "    # Convert our data into LGBoost format\n",
    "    d_train = xgb.DMatrix(X_train, y_train, missing=-1)\n",
    "    d_valid = xgb.DMatrix(X_valid, y_valid, missing=-1)\n",
    "#     d_valid_gini = xgb.DMatrix(X_valid)\n",
    "#     d_valid_2 = xgb.DMatrix(X_val, y_val)\n",
    "    d_test = xgb.DMatrix(x_test, missing=-1)\n",
    "    watchlist = [(d_train, 'train'), (d_valid, 'valid')]\n",
    "\n",
    "    # Train the model! We pass in a max of 2,000 rounds (with early stopping after 100)\n",
    "    # and the custom metric (maximize=True tells xgb that higher metric is better)\n",
    "    mdl = xgb.train(params, d_train, 5000, watchlist, early_stopping_rounds=170, verbose_eval=100)\n",
    "\n",
    "    print('[Fold %d/%d Prediction:]' % (i + 1, kfold))\n",
    "    feature_imps.append(mdl.get_fscore())\n",
    "    # Predict on our test data\n",
    "    p_test = mdl.predict(d_test)\n",
    "    print(mdl.best_score)\n",
    "#     val_gini = mdl.predict(d_valid_gini)\n",
    "#     print(gini_normalized(y_valid, val_gini))\n",
    "#     print(gini_normalized(y_val, mdl.predict(d_valid_2)))\n",
    "    weight = mdl.best_score\n",
    "    weights.append(weight)\n",
    "    sub['target'] += p_test*weight\n",
    "\n",
    "sub['target'] = sub['target']/np.sum(weights)"
   ]
  },
  {
   "cell_type": "code",
   "execution_count": 64,
   "metadata": {
    "collapsed": true
   },
   "outputs": [],
   "source": [
    "sub.columns = ['id', 'is_iceberg']"
   ]
  },
  {
   "cell_type": "code",
   "execution_count": 82,
   "metadata": {
    "collapsed": false
   },
   "outputs": [
    {
     "data": {
      "text/plain": [
       "0.17767320000000003"
      ]
     },
     "execution_count": 82,
     "metadata": {},
     "output_type": "execute_result"
    }
   ],
   "source": [
    "np.mean(weights)"
   ]
  },
  {
   "cell_type": "code",
   "execution_count": 65,
   "metadata": {
    "collapsed": true
   },
   "outputs": [],
   "source": [
    "sub.to_csv('./Submissions/v30Oct_XGBoost_1608.csv', index=False)"
   ]
  },
  {
   "cell_type": "code",
   "execution_count": 66,
   "metadata": {
    "collapsed": false
   },
   "outputs": [
    {
     "data": {
      "text/plain": [
       "0.27516619183285851"
      ]
     },
     "execution_count": 66,
     "metadata": {},
     "output_type": "execute_result"
    }
   ],
   "source": [
    "sum(np.array(sub['is_iceberg'])>0.5)/len(sub)"
   ]
  },
  {
   "cell_type": "code",
   "execution_count": 67,
   "metadata": {
    "collapsed": false
   },
   "outputs": [
    {
     "data": {
      "text/html": [
       "<div>\n",
       "<style>\n",
       "    .dataframe thead tr:only-child th {\n",
       "        text-align: right;\n",
       "    }\n",
       "\n",
       "    .dataframe thead th {\n",
       "        text-align: left;\n",
       "    }\n",
       "\n",
       "    .dataframe tbody tr th {\n",
       "        vertical-align: top;\n",
       "    }\n",
       "</style>\n",
       "<table border=\"1\" class=\"dataframe\">\n",
       "  <thead>\n",
       "    <tr style=\"text-align: right;\">\n",
       "      <th></th>\n",
       "      <th>id</th>\n",
       "      <th>is_iceberg</th>\n",
       "    </tr>\n",
       "  </thead>\n",
       "  <tbody>\n",
       "    <tr>\n",
       "      <th>0</th>\n",
       "      <td>5941774d</td>\n",
       "      <td>0.460345</td>\n",
       "    </tr>\n",
       "    <tr>\n",
       "      <th>1</th>\n",
       "      <td>4023181e</td>\n",
       "      <td>0.361958</td>\n",
       "    </tr>\n",
       "    <tr>\n",
       "      <th>2</th>\n",
       "      <td>b20200e4</td>\n",
       "      <td>0.266124</td>\n",
       "    </tr>\n",
       "    <tr>\n",
       "      <th>3</th>\n",
       "      <td>e7f018bb</td>\n",
       "      <td>0.665612</td>\n",
       "    </tr>\n",
       "    <tr>\n",
       "      <th>4</th>\n",
       "      <td>4371c8c3</td>\n",
       "      <td>0.538084</td>\n",
       "    </tr>\n",
       "    <tr>\n",
       "      <th>5</th>\n",
       "      <td>a8d9b1fd</td>\n",
       "      <td>0.0911877</td>\n",
       "    </tr>\n",
       "    <tr>\n",
       "      <th>6</th>\n",
       "      <td>29e7727e</td>\n",
       "      <td>0.3887</td>\n",
       "    </tr>\n",
       "    <tr>\n",
       "      <th>7</th>\n",
       "      <td>92a51ffb</td>\n",
       "      <td>0.733291</td>\n",
       "    </tr>\n",
       "    <tr>\n",
       "      <th>8</th>\n",
       "      <td>c769ac97</td>\n",
       "      <td>0.324631</td>\n",
       "    </tr>\n",
       "    <tr>\n",
       "      <th>9</th>\n",
       "      <td>aee0547d</td>\n",
       "      <td>0.0607445</td>\n",
       "    </tr>\n",
       "    <tr>\n",
       "      <th>10</th>\n",
       "      <td>565b28ac</td>\n",
       "      <td>0.0454808</td>\n",
       "    </tr>\n",
       "    <tr>\n",
       "      <th>11</th>\n",
       "      <td>e04e9775</td>\n",
       "      <td>0.216459</td>\n",
       "    </tr>\n",
       "    <tr>\n",
       "      <th>12</th>\n",
       "      <td>8e8161d1</td>\n",
       "      <td>0.112584</td>\n",
       "    </tr>\n",
       "    <tr>\n",
       "      <th>13</th>\n",
       "      <td>4cf4d256</td>\n",
       "      <td>0.417392</td>\n",
       "    </tr>\n",
       "    <tr>\n",
       "      <th>14</th>\n",
       "      <td>139e5324</td>\n",
       "      <td>0.497771</td>\n",
       "    </tr>\n",
       "    <tr>\n",
       "      <th>15</th>\n",
       "      <td>f156976f</td>\n",
       "      <td>0.301798</td>\n",
       "    </tr>\n",
       "    <tr>\n",
       "      <th>16</th>\n",
       "      <td>68a117cc</td>\n",
       "      <td>0.399357</td>\n",
       "    </tr>\n",
       "    <tr>\n",
       "      <th>17</th>\n",
       "      <td>d9aa7a56</td>\n",
       "      <td>0.299938</td>\n",
       "    </tr>\n",
       "    <tr>\n",
       "      <th>18</th>\n",
       "      <td>9005b143</td>\n",
       "      <td>0.465884</td>\n",
       "    </tr>\n",
       "    <tr>\n",
       "      <th>19</th>\n",
       "      <td>5f6d3988</td>\n",
       "      <td>0.720924</td>\n",
       "    </tr>\n",
       "    <tr>\n",
       "      <th>20</th>\n",
       "      <td>9ad70954</td>\n",
       "      <td>0.353204</td>\n",
       "    </tr>\n",
       "    <tr>\n",
       "      <th>21</th>\n",
       "      <td>b9087b9e</td>\n",
       "      <td>0.615169</td>\n",
       "    </tr>\n",
       "    <tr>\n",
       "      <th>22</th>\n",
       "      <td>a39a1427</td>\n",
       "      <td>0.426783</td>\n",
       "    </tr>\n",
       "    <tr>\n",
       "      <th>23</th>\n",
       "      <td>82fbe8ed</td>\n",
       "      <td>0.687691</td>\n",
       "    </tr>\n",
       "    <tr>\n",
       "      <th>24</th>\n",
       "      <td>1fae4879</td>\n",
       "      <td>0.0605543</td>\n",
       "    </tr>\n",
       "    <tr>\n",
       "      <th>25</th>\n",
       "      <td>6dd8f13d</td>\n",
       "      <td>0.30767</td>\n",
       "    </tr>\n",
       "    <tr>\n",
       "      <th>26</th>\n",
       "      <td>bbad5958</td>\n",
       "      <td>0.173384</td>\n",
       "    </tr>\n",
       "    <tr>\n",
       "      <th>27</th>\n",
       "      <td>54527583</td>\n",
       "      <td>0.168056</td>\n",
       "    </tr>\n",
       "    <tr>\n",
       "      <th>28</th>\n",
       "      <td>be8fa29c</td>\n",
       "      <td>0.422722</td>\n",
       "    </tr>\n",
       "    <tr>\n",
       "      <th>29</th>\n",
       "      <td>81a3328f</td>\n",
       "      <td>0.800812</td>\n",
       "    </tr>\n",
       "    <tr>\n",
       "      <th>...</th>\n",
       "      <td>...</td>\n",
       "      <td>...</td>\n",
       "    </tr>\n",
       "    <tr>\n",
       "      <th>8394</th>\n",
       "      <td>8ae30ce6</td>\n",
       "      <td>0.343178</td>\n",
       "    </tr>\n",
       "    <tr>\n",
       "      <th>8395</th>\n",
       "      <td>de27ed88</td>\n",
       "      <td>0.0659629</td>\n",
       "    </tr>\n",
       "    <tr>\n",
       "      <th>8396</th>\n",
       "      <td>66d5196f</td>\n",
       "      <td>0.431151</td>\n",
       "    </tr>\n",
       "    <tr>\n",
       "      <th>8397</th>\n",
       "      <td>d85f1858</td>\n",
       "      <td>0.190683</td>\n",
       "    </tr>\n",
       "    <tr>\n",
       "      <th>8398</th>\n",
       "      <td>16dcb33a</td>\n",
       "      <td>0.412379</td>\n",
       "    </tr>\n",
       "    <tr>\n",
       "      <th>8399</th>\n",
       "      <td>eca3158e</td>\n",
       "      <td>0.391283</td>\n",
       "    </tr>\n",
       "    <tr>\n",
       "      <th>8400</th>\n",
       "      <td>08daeee6</td>\n",
       "      <td>0.16508</td>\n",
       "    </tr>\n",
       "    <tr>\n",
       "      <th>8401</th>\n",
       "      <td>e9c513ee</td>\n",
       "      <td>0.261623</td>\n",
       "    </tr>\n",
       "    <tr>\n",
       "      <th>8402</th>\n",
       "      <td>b1519fa6</td>\n",
       "      <td>0.447404</td>\n",
       "    </tr>\n",
       "    <tr>\n",
       "      <th>8403</th>\n",
       "      <td>dfc89540</td>\n",
       "      <td>0.231685</td>\n",
       "    </tr>\n",
       "    <tr>\n",
       "      <th>8404</th>\n",
       "      <td>8fd8c0e9</td>\n",
       "      <td>0.269437</td>\n",
       "    </tr>\n",
       "    <tr>\n",
       "      <th>8405</th>\n",
       "      <td>45df6347</td>\n",
       "      <td>0.201831</td>\n",
       "    </tr>\n",
       "    <tr>\n",
       "      <th>8406</th>\n",
       "      <td>bf7928d7</td>\n",
       "      <td>0.241404</td>\n",
       "    </tr>\n",
       "    <tr>\n",
       "      <th>8407</th>\n",
       "      <td>7b587c05</td>\n",
       "      <td>0.230514</td>\n",
       "    </tr>\n",
       "    <tr>\n",
       "      <th>8408</th>\n",
       "      <td>c2834388</td>\n",
       "      <td>0.290056</td>\n",
       "    </tr>\n",
       "    <tr>\n",
       "      <th>8409</th>\n",
       "      <td>146143c3</td>\n",
       "      <td>0.883766</td>\n",
       "    </tr>\n",
       "    <tr>\n",
       "      <th>8410</th>\n",
       "      <td>d59aee00</td>\n",
       "      <td>0.0866275</td>\n",
       "    </tr>\n",
       "    <tr>\n",
       "      <th>8411</th>\n",
       "      <td>cbc0b93b</td>\n",
       "      <td>0.117402</td>\n",
       "    </tr>\n",
       "    <tr>\n",
       "      <th>8412</th>\n",
       "      <td>088e2ff7</td>\n",
       "      <td>0.804552</td>\n",
       "    </tr>\n",
       "    <tr>\n",
       "      <th>8413</th>\n",
       "      <td>673d33cd</td>\n",
       "      <td>0.268318</td>\n",
       "    </tr>\n",
       "    <tr>\n",
       "      <th>8414</th>\n",
       "      <td>674b031e</td>\n",
       "      <td>0.416736</td>\n",
       "    </tr>\n",
       "    <tr>\n",
       "      <th>8415</th>\n",
       "      <td>43db4207</td>\n",
       "      <td>0.374947</td>\n",
       "    </tr>\n",
       "    <tr>\n",
       "      <th>8416</th>\n",
       "      <td>156855e1</td>\n",
       "      <td>0.670599</td>\n",
       "    </tr>\n",
       "    <tr>\n",
       "      <th>8417</th>\n",
       "      <td>ac96cfb0</td>\n",
       "      <td>0.0935695</td>\n",
       "    </tr>\n",
       "    <tr>\n",
       "      <th>8418</th>\n",
       "      <td>fe45aef5</td>\n",
       "      <td>0.751722</td>\n",
       "    </tr>\n",
       "    <tr>\n",
       "      <th>8419</th>\n",
       "      <td>16ee9b50</td>\n",
       "      <td>0.670264</td>\n",
       "    </tr>\n",
       "    <tr>\n",
       "      <th>8420</th>\n",
       "      <td>5a599eb7</td>\n",
       "      <td>0.436321</td>\n",
       "    </tr>\n",
       "    <tr>\n",
       "      <th>8421</th>\n",
       "      <td>df30d6dd</td>\n",
       "      <td>0.250921</td>\n",
       "    </tr>\n",
       "    <tr>\n",
       "      <th>8422</th>\n",
       "      <td>18af95b1</td>\n",
       "      <td>0.863047</td>\n",
       "    </tr>\n",
       "    <tr>\n",
       "      <th>8423</th>\n",
       "      <td>27d788c8</td>\n",
       "      <td>0.444771</td>\n",
       "    </tr>\n",
       "  </tbody>\n",
       "</table>\n",
       "<p>8424 rows × 2 columns</p>\n",
       "</div>"
      ],
      "text/plain": [
       "            id is_iceberg\n",
       "0     5941774d   0.460345\n",
       "1     4023181e   0.361958\n",
       "2     b20200e4   0.266124\n",
       "3     e7f018bb   0.665612\n",
       "4     4371c8c3   0.538084\n",
       "5     a8d9b1fd  0.0911877\n",
       "6     29e7727e     0.3887\n",
       "7     92a51ffb   0.733291\n",
       "8     c769ac97   0.324631\n",
       "9     aee0547d  0.0607445\n",
       "10    565b28ac  0.0454808\n",
       "11    e04e9775   0.216459\n",
       "12    8e8161d1   0.112584\n",
       "13    4cf4d256   0.417392\n",
       "14    139e5324   0.497771\n",
       "15    f156976f   0.301798\n",
       "16    68a117cc   0.399357\n",
       "17    d9aa7a56   0.299938\n",
       "18    9005b143   0.465884\n",
       "19    5f6d3988   0.720924\n",
       "20    9ad70954   0.353204\n",
       "21    b9087b9e   0.615169\n",
       "22    a39a1427   0.426783\n",
       "23    82fbe8ed   0.687691\n",
       "24    1fae4879  0.0605543\n",
       "25    6dd8f13d    0.30767\n",
       "26    bbad5958   0.173384\n",
       "27    54527583   0.168056\n",
       "28    be8fa29c   0.422722\n",
       "29    81a3328f   0.800812\n",
       "...        ...        ...\n",
       "8394  8ae30ce6   0.343178\n",
       "8395  de27ed88  0.0659629\n",
       "8396  66d5196f   0.431151\n",
       "8397  d85f1858   0.190683\n",
       "8398  16dcb33a   0.412379\n",
       "8399  eca3158e   0.391283\n",
       "8400  08daeee6    0.16508\n",
       "8401  e9c513ee   0.261623\n",
       "8402  b1519fa6   0.447404\n",
       "8403  dfc89540   0.231685\n",
       "8404  8fd8c0e9   0.269437\n",
       "8405  45df6347   0.201831\n",
       "8406  bf7928d7   0.241404\n",
       "8407  7b587c05   0.230514\n",
       "8408  c2834388   0.290056\n",
       "8409  146143c3   0.883766\n",
       "8410  d59aee00  0.0866275\n",
       "8411  cbc0b93b   0.117402\n",
       "8412  088e2ff7   0.804552\n",
       "8413  673d33cd   0.268318\n",
       "8414  674b031e   0.416736\n",
       "8415  43db4207   0.374947\n",
       "8416  156855e1   0.670599\n",
       "8417  ac96cfb0  0.0935695\n",
       "8418  fe45aef5   0.751722\n",
       "8419  16ee9b50   0.670264\n",
       "8420  5a599eb7   0.436321\n",
       "8421  df30d6dd   0.250921\n",
       "8422  18af95b1   0.863047\n",
       "8423  27d788c8   0.444771\n",
       "\n",
       "[8424 rows x 2 columns]"
      ]
     },
     "execution_count": 67,
     "metadata": {},
     "output_type": "execute_result"
    }
   ],
   "source": [
    "sub"
   ]
  },
  {
   "cell_type": "markdown",
   "metadata": {},
   "source": []
  },
  {
   "cell_type": "markdown",
   "metadata": {},
   "source": []
  },
  {
   "cell_type": "markdown",
   "metadata": {},
   "source": []
  },
  {
   "cell_type": "code",
   "execution_count": 247,
   "metadata": {
    "collapsed": true
   },
   "outputs": [],
   "source": [
    "# Predict\n",
    "iceNet.eval()\n",
    "test_loader = torch.utils.data.DataLoader(dataset=test_dataset, batch_size=1, shuffle=False)\n",
    "results = []\n",
    "for features, features_angle in test_loader:\n",
    "    iceNet.eval()\n",
    "    features = Variable(features, volatile=True).cuda()\n",
    "    features_angle = Variable(features_angle, volatile=True).cuda()\n",
    "    outputs = F.softmax(iceNet(features, features_angle))\n",
    "    results.append(outputs.data[0][1])"
   ]
  },
  {
   "cell_type": "code",
   "execution_count": 248,
   "metadata": {
    "collapsed": false
   },
   "outputs": [
    {
     "data": {
      "text/plain": [
       "[4.974951934855198e-07,\n",
       " 0.029968729242682457,\n",
       " 3.8373966049221053e-07,\n",
       " 0.007663973607122898,\n",
       " 0.8822445869445801,\n",
       " 0.0792531967163086,\n",
       " 0.104781374335289,\n",
       " 0.000896515091881156,\n",
       " 1.3228373063611798e-06,\n",
       " 4.719344815384829e-06,\n",
       " 3.1641402831183996e-09,\n",
       " 0.1379968374967575,\n",
       " 1.0460860721650533e-05,\n",
       " 0.3653469979763031,\n",
       " 0.15629898011684418,\n",
       " 0.02273099310696125,\n",
       " 0.11287692934274673,\n",
       " 5.7135479437420145e-05,\n",
       " 0.09061847627162933,\n",
       " 0.9990752935409546,\n",
       " 0.017497895285487175,\n",
       " 0.0008137716795317829,\n",
       " 0.6351602077484131,\n",
       " 0.010825518518686295,\n",
       " 5.440843331427914e-10,\n",
       " 1.2547709502541693e-06,\n",
       " 0.008549781516194344,\n",
       " 0.5478723049163818,\n",
       " 0.6568987369537354,\n",
       " 0.18993176519870758,\n",
       " 2.5820247273600216e-08,\n",
       " 0.9969714879989624,\n",
       " 0.6639015078544617,\n",
       " 0.15789631009101868,\n",
       " 0.07133708894252777,\n",
       " 2.446020153001882e-05,\n",
       " 2.094129376928322e-05,\n",
       " 0.9889333248138428,\n",
       " 0.0010424683568999171,\n",
       " 0.998264491558075,\n",
       " 5.059077352598251e-07,\n",
       " 0.9476674199104309,\n",
       " 0.9849733114242554,\n",
       " 0.0020589660853147507,\n",
       " 0.969601571559906,\n",
       " 0.7524036169052124,\n",
       " 0.9998888969421387,\n",
       " 4.6903585371183e-07,\n",
       " 0.9962127208709717,\n",
       " 0.9871386885643005]"
      ]
     },
     "execution_count": 248,
     "metadata": {},
     "output_type": "execute_result"
    }
   ],
   "source": [
    "results[:50]"
   ]
  },
  {
   "cell_type": "code",
   "execution_count": 170,
   "metadata": {
    "collapsed": false
   },
   "outputs": [
    {
     "name": "stdout",
     "output_type": "stream",
     "text": [
      "0 (8424, 2, 75, 75)\n",
      "1 (8424, 1)\n"
     ]
    }
   ],
   "source": [
    "for idx, val in X_test):\n",
    "    print(idx, val.shape)"
   ]
  },
  {
   "cell_type": "code",
   "execution_count": 155,
   "metadata": {
    "collapsed": true
   },
   "outputs": [],
   "source": [
    "sub = pd.read_csv('./Data/sample_submission.csv')"
   ]
  },
  {
   "cell_type": "code",
   "execution_count": 156,
   "metadata": {
    "collapsed": true
   },
   "outputs": [],
   "source": [
    "sub['is_iceberg'] = results"
   ]
  },
  {
   "cell_type": "code",
   "execution_count": 161,
   "metadata": {
    "collapsed": false
   },
   "outputs": [
    {
     "data": {
      "text/plain": [
       "id               378606db\n",
       "is_iceberg    1.12818e-06\n",
       "Name: 3287, dtype: object"
      ]
     },
     "execution_count": 161,
     "metadata": {},
     "output_type": "execute_result"
    }
   ],
   "source": [
    "sub.iloc[3287,:]"
   ]
  },
  {
   "cell_type": "code",
   "execution_count": 162,
   "metadata": {
    "collapsed": false
   },
   "outputs": [
    {
     "data": {
      "text/plain": [
       "band_1       [[-24.0210189819, -24.0210189819, -22.32080268...\n",
       "band_2       [[-25.8426780701, -25.8426780701, -21.23370170...\n",
       "id                                                    378606db\n",
       "inc_angle                                              44.0226\n",
       "Name: 3287, dtype: object"
      ]
     },
     "execution_count": 162,
     "metadata": {},
     "output_type": "execute_result"
    }
   ],
   "source": [
    "test.iloc[3287,:]"
   ]
  },
  {
   "cell_type": "code",
   "execution_count": 157,
   "metadata": {
    "collapsed": true
   },
   "outputs": [],
   "source": [
    "sub.to_csv('./Submissions/sub_30Oct_val_1729.csv', index=False)"
   ]
  }
 ],
 "metadata": {
  "kernelspec": {
   "display_name": "Python 3",
   "language": "python",
   "name": "python3"
  },
  "language_info": {
   "codemirror_mode": {
    "name": "ipython",
    "version": 3
   },
   "file_extension": ".py",
   "mimetype": "text/x-python",
   "name": "python",
   "nbconvert_exporter": "python",
   "pygments_lexer": "ipython3",
   "version": "3.6.0"
  }
 },
 "nbformat": 4,
 "nbformat_minor": 2
}
