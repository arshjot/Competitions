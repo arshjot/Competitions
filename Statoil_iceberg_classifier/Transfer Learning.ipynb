{
 "cells": [
  {
   "cell_type": "markdown",
   "metadata": {},
   "source": [
    "#### Import packages"
   ]
  },
  {
   "cell_type": "code",
   "execution_count": 1,
   "metadata": {
    "collapsed": false
   },
   "outputs": [
    {
     "name": "stderr",
     "output_type": "stream",
     "text": [
      "Using TensorFlow backend.\n",
      "/home/arsh/anaconda3/envs/deepLearn/lib/python3.6/importlib/_bootstrap.py:205: RuntimeWarning: compiletime version 3.5 of module 'tensorflow.python.framework.fast_tensor_util' does not match runtime version 3.6\n",
      "  return f(*args, **kwds)\n"
     ]
    }
   ],
   "source": [
    "# import torch.multiprocessing as mp\n",
    "# mp.set_start_method('spawn') \n",
    "import pandas as pd\n",
    "import numpy as np\n",
    "import os\n",
    "import matplotlib.pyplot as plt\n",
    "import math\n",
    "import shutil\n",
    "from sklearn.model_selection import train_test_split\n",
    "from sklearn.model_selection import KFold\n",
    "from sklearn.preprocessing import MinMaxScaler\n",
    "from sklearn.linear_model import LinearRegression\n",
    "from sklearn.svm import SVC\n",
    "import random\n",
    "import cv2\n",
    "import copy\n",
    "\n",
    "from keras.models import Sequential, Model\n",
    "from keras.applications.vgg16 import VGG16\n",
    "from keras.applications.resnet50 import ResNet50\n",
    "from keras.applications import xception\n",
    "from keras.applications import inception_v3\n",
    "from keras.layers import UpSampling2D, BatchNormalization, Flatten, Dense, GlobalMaxPooling2D, Input, concatenate\n",
    "from keras.layers.core import Dropout\n",
    "from keras.applications.vgg16 import preprocess_input, decode_predictions\n",
    "from keras.callbacks import ModelCheckpoint, Callback, EarlyStopping, ReduceLROnPlateau, TensorBoard\n",
    "from keras.optimizers import SGD\n",
    "\n",
    "seed = 0\n",
    "np.random.seed(seed)\n",
    "from utils_diff_ch_scaled import *"
   ]
  },
  {
   "cell_type": "markdown",
   "metadata": {},
   "source": [
    "#### Load and Prepare Data"
   ]
  },
  {
   "cell_type": "code",
   "execution_count": 2,
   "metadata": {
    "collapsed": true
   },
   "outputs": [],
   "source": [
    "# def scale_range (input_, max_, min_):\n",
    "#     input_[:,0,:,:] += -(-45.594448)\n",
    "#     input_[:,0,:,:] /= 82.68497099999999 / (max_ - min_)\n",
    "#     input_[:,0,:,:] += min_\n",
    "#     input_[:,1,:,:] += -(-49.083500000000001)\n",
    "#     input_[:,1,:,:] /= 69.686413000000002 / (max_ - min_)\n",
    "#     input_[:,1,:,:] += min_\n",
    "#     return input_\n",
    "\n",
    "def scale_range (input_, max_, min_):\n",
    "    return input_"
   ]
  },
  {
   "cell_type": "code",
   "execution_count": 3,
   "metadata": {
    "collapsed": true
   },
   "outputs": [],
   "source": [
    "data = pd.read_json('./Data/train.json', dtype={'inc_angle': str})\n",
    "test = pd.read_json('./Data/test.json', dtype={'inc_angle': str})"
   ]
  },
  {
   "cell_type": "code",
   "execution_count": 4,
   "metadata": {
    "collapsed": true
   },
   "outputs": [],
   "source": [
    "data['band_1'] = data['band_1'].apply(lambda x : np.array(x).reshape(75, 75))\n",
    "data['band_2'] = data['band_2'].apply(lambda x : np.array(x).reshape(75, 75))\n",
    "\n",
    "test['band_1'] = test['band_1'].apply(lambda x : np.array(x).reshape(75, 75))\n",
    "test['band_2'] = test['band_2'].apply(lambda x : np.array(x).reshape(75, 75))\n",
    "\n",
    "test['not_machine_generated'] = test['inc_angle'].apply(lambda x: len(str(x).split('.')[1])) <= 4\n",
    "data['inc_angle'] = pd.to_numeric(data['inc_angle'], errors='coerce')\n",
    "test['inc_angle'] = pd.to_numeric(test['inc_angle'], errors='coerce')"
   ]
  },
  {
   "cell_type": "code",
   "execution_count": 5,
   "metadata": {
    "collapsed": false,
    "scrolled": true
   },
   "outputs": [
    {
     "name": "stderr",
     "output_type": "stream",
     "text": [
      "/home/arsh/anaconda3/envs/deepLearn/lib/python3.6/site-packages/ipykernel/__main__.py:15: SettingWithCopyWarning: \n",
      "A value is trying to be set on a copy of a slice from a DataFrame.\n",
      "Try using .loc[row_indexer,col_indexer] = value instead\n",
      "\n",
      "See the caveats in the documentation: http://pandas.pydata.org/pandas-docs/stable/indexing.html#indexing-view-versus-copy\n"
     ]
    }
   ],
   "source": [
    "# Impute missing incidence angles\n",
    "data_impute = data.dropna(axis=0, how='any')\n",
    "data_impute_b1 = np.array([im.reshape(75*75) for im in data_impute.loc[:,'band_1']])\n",
    "data_impute_b2 = np.array([im.reshape(75*75) for im in data_impute.loc[:,'band_2']])\n",
    "data_impute_X = np.hstack(np.array((data_impute_b1, data_impute_b2)))\n",
    "data_impute_y = np.array(data_impute[['inc_angle']])\n",
    "\n",
    "data_impute_prec = data[~data.index.isin(data_impute.index.values)]\n",
    "data_impute_b1_prec = np.array([im.reshape(75*75) for im in data_impute_prec.loc[:,'band_1']])\n",
    "data_impute_b2_prec = np.array([im.reshape(75*75) for im in data_impute_prec.loc[:,'band_2']])\n",
    "data_impute_X_prec = np.hstack(np.array((data_impute_b1_prec, data_impute_b2_prec)))\n",
    "\n",
    "modelImpute = LinearRegression()\n",
    "modelImpute = modelImpute.fit(data_impute_X, data_impute_y)\n",
    "data_impute_prec['inc_angle'] = modelImpute.predict(data_impute_X_prec)\n",
    "\n",
    "data.loc[data_impute_prec.index] = data_impute_prec"
   ]
  },
  {
   "cell_type": "code",
   "execution_count": 6,
   "metadata": {
    "collapsed": true
   },
   "outputs": [],
   "source": [
    "ids_train = np.array(data.index)\n",
    "ids_train_split, ids_valid_split = train_test_split(ids_train, test_size=0.2, random_state=42)"
   ]
  },
  {
   "cell_type": "markdown",
   "metadata": {},
   "source": [
    "#### Keras Model"
   ]
  },
  {
   "cell_type": "code",
   "execution_count": 9,
   "metadata": {
    "collapsed": true
   },
   "outputs": [],
   "source": [
    "# Hyper Parameters\n",
    "width = 75\n",
    "height = 75\n",
    "channels = 3"
   ]
  },
  {
   "cell_type": "code",
   "execution_count": 26,
   "metadata": {
    "collapsed": true
   },
   "outputs": [],
   "source": [
    "def train_generator():\n",
    "    while True:\n",
    "        for start in range(0, len(ids_train_split), batch_size):\n",
    "            x_batch = []\n",
    "            y_batch = []\n",
    "            end = min(start + batch_size, len(ids_train_split))\n",
    "            ids_train_batch = ids_train_split[start:end]\n",
    "            for idx in ids_train_batch:\n",
    "                \n",
    "                train = data.iloc[idx,]\n",
    "                band_1_tr = np.concatenate([im for im in train['band_1']]).reshape(-1, width, height)\n",
    "                band_2_tr = np.concatenate([im for im in train['band_2']]).reshape(-1, width, height)\n",
    "                X_train = np.concatenate((band_1_tr, band_2_tr), axis=0)\n",
    "\n",
    "                im = X_train\n",
    "                im = randomErodeDilate(im, u=0.5)\n",
    "                im = randomZoomOut(im, u=0.5)\n",
    "                im = randomNoisy(im, u=0.5)\n",
    "                im = randomShift(im, u=0.5)\n",
    "                \n",
    "                # Mean Substraction\n",
    "                im[0, :, :] -= -45.594448\n",
    "                im[1, :, :] -= -49.083500000000001\n",
    "                band_3 = (im[0, :, :]+im[1, :, :])/2\n",
    "                im = np.concatenate((im, band_3.reshape((1, width, height))), axis=0)\n",
    "                \n",
    "                x_batch.append(im.reshape((75,75,channels)))\n",
    "                y_batch.append(train['is_iceberg'].astype(np.float32))\n",
    "            \n",
    "            x_batch = np.array(x_batch, np.float32)\n",
    "            y_batch = np.array(y_batch, np.float32)\n",
    "            yield x_batch, y_batch\n",
    "\n",
    "\n",
    "def valid_generator():\n",
    "    while True:\n",
    "        for start in range(0, len(ids_valid_split), batch_size):\n",
    "            x_batch = []\n",
    "            y_batch = []\n",
    "            end = min(start + batch_size, len(ids_valid_split))\n",
    "            ids_valid_batch = ids_valid_split[start:end]\n",
    "            for idx in ids_valid_batch:\n",
    "                \n",
    "                val = data.iloc[idx,]\n",
    "                band_1_val = np.concatenate([im for im in val['band_1']]).reshape(-1, width, height)\n",
    "                band_2_val = np.concatenate([im for im in val['band_2']]).reshape(-1, width, height)\n",
    "                X_val = np.concatenate((band_1_val, band_2_val), axis=0)\n",
    "\n",
    "                im = X_val\n",
    "                \n",
    "                # Mean Substraction\n",
    "                im[0, :, :] -= -45.594448\n",
    "                im[1, :, :] -= -49.083500000000001\n",
    "                band_3 = (im[0, :, :]+im[1, :, :])/2\n",
    "                im = np.concatenate((im, band_3.reshape((1, width, height))), axis=0)\n",
    "                \n",
    "                x_batch.append(im.reshape((75,75,channels)))\n",
    "                y_batch.append(val['is_iceberg'].astype(np.float32))\n",
    "            \n",
    "            x_batch = np.array(x_batch, np.float32)\n",
    "            y_batch = np.array(y_batch, np.float32)\n",
    "            yield x_batch, y_batch"
   ]
  },
  {
   "cell_type": "code",
   "execution_count": 27,
   "metadata": {
    "collapsed": true
   },
   "outputs": [],
   "source": [
    "def getVggModel():\n",
    "    base_model = VGG16(weights='imagenet', include_top=False, \n",
    "                 input_shape=(width, height, channels), classes=1)\n",
    "    x = base_model.get_layer('block5_pool').output\n",
    "\n",
    "    x = GlobalMaxPooling2D()(x)\n",
    "    x = Dense(512, activation='relu', name='fc2')(x)\n",
    "    x = Dropout(0.5)(x)\n",
    "    x = Dense(512, activation='relu', name='fc3')(x)\n",
    "    x = Dropout(0.5)(x)\n",
    "    \n",
    "    predictions = Dense(1, activation='sigmoid')(x)\n",
    "    \n",
    "    model = Model(inputs=base_model.input, outputs=predictions)\n",
    "    \n",
    "    sgd = SGD(lr=1e-3, decay=1e-6, momentum=0.9, nesterov=True)\n",
    "    model.compile(loss='binary_crossentropy',\n",
    "                  optimizer=sgd,\n",
    "                  metrics=['accuracy'])\n",
    "    return model\n",
    "model = getVggModel()"
   ]
  },
  {
   "cell_type": "code",
   "execution_count": 7,
   "metadata": {
    "collapsed": true
   },
   "outputs": [],
   "source": [
    "def train_generator(ids_train_split=ids_train_split, batch_size=32):\n",
    "    while True:\n",
    "        for start in range(0, len(ids_train_split), batch_size):\n",
    "            x_batch_0 = []\n",
    "            x_batch_1 = []\n",
    "            y_batch = []\n",
    "            end = min(start + batch_size, len(ids_train_split))\n",
    "            ids_train_batch = ids_train_split[start:end]\n",
    "            for idx in ids_train_batch:\n",
    "                \n",
    "                train = data.iloc[idx,]\n",
    "                band_1_tr = np.concatenate([im for im in train['band_1']]).reshape(-1, width, height)\n",
    "                band_2_tr = np.concatenate([im for im in train['band_2']]).reshape(-1, width, height)\n",
    "                X_train = np.concatenate((band_1_tr, band_2_tr), axis=0)\n",
    "                X_train = [X_train, np.array(train['inc_angle'])]\n",
    "\n",
    "                im = X_train[0]\n",
    "                im = randomErodeDilate(im, u=0.5)\n",
    "                im = randomZoomOut(im, u=0.5)\n",
    "                im = randomNoisy(im, u=0.5)\n",
    "                im = randomShift(im, u=0.5)\n",
    "                \n",
    "                # Mean Substraction\n",
    "                im[0, :, :] -= -45.594448\n",
    "                im[1, :, :] -= -49.083500000000001\n",
    "                band_3 = (im[0, :, :]+im[1, :, :])/2\n",
    "                im = np.concatenate((im, band_3.reshape((1, width, height))), axis=0)\n",
    "                \n",
    "                x_batch_0.append(im.reshape((75,75,channels)))\n",
    "                x_batch_1.append(X_train[1].astype(np.float32))\n",
    "                y_batch.append(train['is_iceberg'].astype(np.float32))\n",
    "            \n",
    "            x_batch = [np.array(x_batch_0, np.float32), np.array(x_batch_1, np.float32)]\n",
    "            y_batch = np.array(y_batch, np.float32)\n",
    "            yield x_batch, y_batch\n",
    "\n",
    "\n",
    "def valid_generator(ids_valid_split=ids_valid_split, batch_size=32):\n",
    "    while True:\n",
    "        for start in range(0, len(ids_valid_split), batch_size):\n",
    "            x_batch_0 = []\n",
    "            x_batch_1 = []\n",
    "            y_batch = []\n",
    "            end = min(start + batch_size, len(ids_valid_split))\n",
    "            ids_valid_batch = ids_valid_split[start:end]\n",
    "            for idx in ids_valid_batch:\n",
    "                \n",
    "                val = data.iloc[idx,]\n",
    "                band_1_val = np.concatenate([im for im in val['band_1']]).reshape(-1, width, height)\n",
    "                band_2_val = np.concatenate([im for im in val['band_2']]).reshape(-1, width, height)\n",
    "                X_val = np.concatenate((band_1_val, band_2_val), axis=0)\n",
    "                X_val = [X_val, np.array(val['inc_angle'])]\n",
    "\n",
    "                im = X_val[0]\n",
    "                \n",
    "                # Mean Substraction\n",
    "                im[0, :, :] -= -45.594448\n",
    "                im[1, :, :] -= -49.083500000000001\n",
    "                band_3 = (im[0, :, :]+im[1, :, :])/2\n",
    "                im = np.concatenate((im, band_3.reshape((1, width, height))), axis=0)\n",
    "                \n",
    "                x_batch_0.append(im.reshape((75,75,channels)))\n",
    "                x_batch_1.append(X_val[1].astype(np.float32))\n",
    "                y_batch.append(val['is_iceberg'].astype(np.float32))\n",
    "            \n",
    "            x_batch = [np.array(x_batch_0, np.float32), np.array(x_batch_1, np.float32)]\n",
    "            y_batch = np.array(y_batch, np.float32)\n",
    "            yield x_batch, y_batch"
   ]
  },
  {
   "cell_type": "code",
   "execution_count": 13,
   "metadata": {
    "collapsed": true
   },
   "outputs": [],
   "source": [
    "def getVggAngleModel():\n",
    "    input_2 = Input(shape=[1], name=\"angle\")\n",
    "    angle_layer = Dense(1, )(input_2)\n",
    "    base_model = VGG16(weights='imagenet', include_top=False, \n",
    "                 input_shape=(width, height, channels), classes=1)\n",
    "    x = base_model.get_layer('block5_pool').output\n",
    "    \n",
    "    x = GlobalMaxPooling2D()(x)\n",
    "    merge_one = concatenate([x, angle_layer])\n",
    "    merge_one = Dense(512, activation='relu', name='fc2')(merge_one)\n",
    "    merge_one = Dropout(0.3)(merge_one)\n",
    "    merge_one = Dense(512, activation='relu', name='fc3')(merge_one)\n",
    "    merge_one = Dropout(0.3)(merge_one)\n",
    "    \n",
    "    predictions = Dense(1, activation='sigmoid')(merge_one)\n",
    "    \n",
    "    model = Model(inputs=[base_model.input, input_2], outputs=predictions)\n",
    "    \n",
    "    sgd = SGD(lr=1e-3, decay=1e-6, momentum=0.9, nesterov=True)\n",
    "    model.compile(loss='binary_crossentropy',\n",
    "                  optimizer=sgd,\n",
    "                  metrics=['accuracy'])\n",
    "    return model\n",
    "model = getVggAngleModel()"
   ]
  },
  {
   "cell_type": "code",
   "execution_count": 10,
   "metadata": {
    "collapsed": false
   },
   "outputs": [
    {
     "name": "stdout",
     "output_type": "stream",
     "text": [
      "Epoch 1/300\n",
      "41/41 [==============================] - 6s - loss: 0.8505 - acc: 0.5596 - val_loss: 0.5582 - val_acc: 0.7165\n",
      "Epoch 2/300\n",
      "41/41 [==============================] - 5s - loss: 0.6310 - acc: 0.6324 - val_loss: 0.5268 - val_acc: 0.7103\n",
      "Epoch 3/300\n",
      "41/41 [==============================] - 4s - loss: 0.6700 - acc: 0.6042 - val_loss: 0.5468 - val_acc: 0.7040\n",
      "Epoch 4/300\n",
      "41/41 [==============================] - 5s - loss: 0.5537 - acc: 0.7061 - val_loss: 0.4385 - val_acc: 0.7664\n",
      "Epoch 5/300\n",
      "41/41 [==============================] - 5s - loss: 0.5141 - acc: 0.7160 - val_loss: 0.4422 - val_acc: 0.7882\n",
      "Epoch 6/300\n",
      "41/41 [==============================] - 5s - loss: 0.4688 - acc: 0.7556 - val_loss: 0.3881 - val_acc: 0.8100\n",
      "Epoch 7/300\n",
      "41/41 [==============================] - 5s - loss: 0.4260 - acc: 0.7747 - val_loss: 0.4539 - val_acc: 0.7321\n",
      "Epoch 8/300\n",
      "41/41 [==============================] - 5s - loss: 0.4268 - acc: 0.7667 - val_loss: 0.4600 - val_acc: 0.7383\n",
      "Epoch 9/300\n",
      "41/41 [==============================] - 5s - loss: 0.4222 - acc: 0.7781 - val_loss: 0.3894 - val_acc: 0.7882\n",
      "Epoch 10/300\n",
      "41/41 [==============================] - 5s - loss: 0.3825 - acc: 0.8032 - val_loss: 0.3677 - val_acc: 0.8318\n",
      "Epoch 11/300\n",
      "41/41 [==============================] - 5s - loss: 0.3974 - acc: 0.7976 - val_loss: 0.4181 - val_acc: 0.7944\n",
      "Epoch 12/300\n",
      "41/41 [==============================] - 5s - loss: 0.3724 - acc: 0.8162 - val_loss: 0.3691 - val_acc: 0.8255\n",
      "Epoch 13/300\n",
      "41/41 [==============================] - 5s - loss: 0.3861 - acc: 0.7953 - val_loss: 0.3412 - val_acc: 0.8536\n",
      "Epoch 14/300\n",
      "41/41 [==============================] - 5s - loss: 0.3703 - acc: 0.8052 - val_loss: 0.3227 - val_acc: 0.8567\n",
      "Epoch 15/300\n",
      "41/41 [==============================] - 5s - loss: 0.3328 - acc: 0.8292 - val_loss: 0.3248 - val_acc: 0.8598\n",
      "Epoch 16/300\n",
      "41/41 [==============================] - 5s - loss: 0.3457 - acc: 0.8156 - val_loss: 0.3283 - val_acc: 0.8442\n",
      "Epoch 17/300\n",
      "41/41 [==============================] - 5s - loss: 0.3510 - acc: 0.8136 - val_loss: 0.3424 - val_acc: 0.8785\n",
      "Epoch 18/300\n",
      "41/41 [==============================] - 5s - loss: 0.3503 - acc: 0.8345 - val_loss: 0.3317 - val_acc: 0.8536\n",
      "Epoch 19/300\n",
      "41/41 [==============================] - 5s - loss: 0.3292 - acc: 0.8368 - val_loss: 0.3230 - val_acc: 0.8536\n",
      "Epoch 20/300\n",
      "41/41 [==============================] - 4s - loss: 0.3250 - acc: 0.8406 - val_loss: 0.3514 - val_acc: 0.8287\n",
      "Epoch 21/300\n",
      "41/41 [==============================] - 4s - loss: 0.3355 - acc: 0.8368 - val_loss: 0.3349 - val_acc: 0.8567\n",
      "Epoch 22/300\n",
      "41/41 [==============================] - 5s - loss: 0.3307 - acc: 0.8292 - val_loss: 0.3296 - val_acc: 0.8629\n",
      "Epoch 23/300\n",
      "41/41 [==============================] - 5s - loss: 0.3333 - acc: 0.8327 - val_loss: 0.3178 - val_acc: 0.8723\n",
      "Epoch 24/300\n",
      "41/41 [==============================] - 4s - loss: 0.3172 - acc: 0.8452 - val_loss: 0.3222 - val_acc: 0.8536\n",
      "Epoch 25/300\n",
      "41/41 [==============================] - 4s - loss: 0.3385 - acc: 0.8255 - val_loss: 0.3727 - val_acc: 0.8380\n",
      "Epoch 26/300\n",
      "41/41 [==============================] - 4s - loss: 0.3689 - acc: 0.8136 - val_loss: 0.3581 - val_acc: 0.8100\n",
      "Epoch 27/300\n",
      "41/41 [==============================] - 4s - loss: 0.3421 - acc: 0.8159 - val_loss: 0.3356 - val_acc: 0.8660\n",
      "Epoch 28/300\n",
      "41/41 [==============================] - 4s - loss: 0.2933 - acc: 0.8582 - val_loss: 0.3212 - val_acc: 0.8567\n",
      "Epoch 29/300\n",
      "41/41 [==============================] - 5s - loss: 0.3027 - acc: 0.8536 - val_loss: 0.3004 - val_acc: 0.8754\n",
      "Epoch 30/300\n",
      "41/41 [==============================] - 5s - loss: 0.3149 - acc: 0.8528 - val_loss: 0.3072 - val_acc: 0.8536\n",
      "Epoch 31/300\n",
      "41/41 [==============================] - 5s - loss: 0.2866 - acc: 0.8528 - val_loss: 0.3012 - val_acc: 0.8754\n",
      "Epoch 32/300\n",
      "41/41 [==============================] - 5s - loss: 0.2964 - acc: 0.8499 - val_loss: 0.3398 - val_acc: 0.8100\n",
      "Epoch 33/300\n",
      "41/41 [==============================] - 4s - loss: 0.3193 - acc: 0.8460 - val_loss: 0.3143 - val_acc: 0.8754\n",
      "Epoch 34/300\n",
      "41/41 [==============================] - 4s - loss: 0.2846 - acc: 0.8677 - val_loss: 0.3648 - val_acc: 0.8193\n",
      "Epoch 35/300\n",
      "41/41 [==============================] - 5s - loss: 0.3366 - acc: 0.8322 - val_loss: 0.2939 - val_acc: 0.8723\n",
      "Epoch 36/300\n",
      "41/41 [==============================] - 5s - loss: 0.2933 - acc: 0.8369 - val_loss: 0.3938 - val_acc: 0.8131\n",
      "Epoch 37/300\n",
      "41/41 [==============================] - 5s - loss: 0.3264 - acc: 0.8307 - val_loss: 0.3208 - val_acc: 0.8598\n",
      "Epoch 38/300\n",
      "41/41 [==============================] - 5s - loss: 0.3041 - acc: 0.8437 - val_loss: 0.3063 - val_acc: 0.8785\n",
      "Epoch 39/300\n",
      "41/41 [==============================] - 5s - loss: 0.2987 - acc: 0.8643 - val_loss: 0.2946 - val_acc: 0.8910\n",
      "Epoch 40/300\n",
      "41/41 [==============================] - 5s - loss: 0.3008 - acc: 0.8578 - val_loss: 0.2855 - val_acc: 0.8785\n",
      "Epoch 41/300\n",
      "41/41 [==============================] - 5s - loss: 0.3072 - acc: 0.8536 - val_loss: 0.2966 - val_acc: 0.8816\n",
      "Epoch 42/300\n",
      "41/41 [==============================] - 5s - loss: 0.2753 - acc: 0.8681 - val_loss: 0.2964 - val_acc: 0.8692\n",
      "Epoch 43/300\n",
      "41/41 [==============================] - 5s - loss: 0.2668 - acc: 0.8810 - val_loss: 0.2945 - val_acc: 0.8879\n",
      "Epoch 44/300\n",
      "41/41 [==============================] - 5s - loss: 0.2733 - acc: 0.8734 - val_loss: 0.3370 - val_acc: 0.8692\n",
      "Epoch 45/300\n",
      "41/41 [==============================] - 5s - loss: 0.2907 - acc: 0.8528 - val_loss: 0.2912 - val_acc: 0.9003\n",
      "Epoch 46/300\n",
      "41/41 [==============================] - 4s - loss: 0.2713 - acc: 0.8765 - val_loss: 0.3072 - val_acc: 0.8754\n",
      "Epoch 47/300\n",
      "41/41 [==============================] - 4s - loss: 0.2796 - acc: 0.8578 - val_loss: 0.3535 - val_acc: 0.8411\n",
      "Epoch 48/300\n",
      "41/41 [==============================] - 4s - loss: 0.3035 - acc: 0.8643 - val_loss: 0.3087 - val_acc: 0.8847\n",
      "Epoch 49/300\n",
      "41/41 [==============================] - 5s - loss: 0.2728 - acc: 0.8567 - val_loss: 0.3370 - val_acc: 0.8660\n",
      "Epoch 50/300\n",
      "41/41 [==============================] - 5s - loss: 0.2839 - acc: 0.8555 - val_loss: 0.2871 - val_acc: 0.8941\n",
      "Epoch 51/300\n",
      "41/41 [==============================] - 5s - loss: 0.2661 - acc: 0.8742 - val_loss: 0.3128 - val_acc: 0.8692\n",
      "Epoch 52/300\n",
      "41/41 [==============================] - 5s - loss: 0.2747 - acc: 0.8693 - val_loss: 0.3141 - val_acc: 0.8785\n",
      "Epoch 53/300\n",
      "41/41 [==============================] - 5s - loss: 0.2504 - acc: 0.8716 - val_loss: 0.3212 - val_acc: 0.8910\n",
      "Epoch 54/300\n",
      "41/41 [==============================] - 5s - loss: 0.2768 - acc: 0.8742 - val_loss: 0.3235 - val_acc: 0.8785\n",
      "Epoch 55/300\n",
      "41/41 [==============================] - 5s - loss: 0.2611 - acc: 0.8795 - val_loss: 0.3069 - val_acc: 0.8816\n",
      "Epoch 56/300\n",
      "41/41 [==============================] - 5s - loss: 0.2477 - acc: 0.8716 - val_loss: 0.2942 - val_acc: 0.8785\n",
      "Epoch 57/300\n",
      "41/41 [==============================] - 5s - loss: 0.2733 - acc: 0.8697 - val_loss: 0.5338 - val_acc: 0.7539\n",
      "Epoch 58/300\n",
      "41/41 [==============================] - 4s - loss: 0.3602 - acc: 0.8121 - val_loss: 0.3060 - val_acc: 0.8723\n",
      "Epoch 59/300\n",
      "41/41 [==============================] - 5s - loss: 0.2959 - acc: 0.8620 - val_loss: 0.3083 - val_acc: 0.8879\n",
      "Epoch 60/300\n",
      "41/41 [==============================] - 4s - loss: 0.2765 - acc: 0.8521 - val_loss: 0.3245 - val_acc: 0.8785\n",
      "Epoch 61/300\n",
      "41/41 [==============================] - 4s - loss: 0.2577 - acc: 0.8548 - val_loss: 0.3203 - val_acc: 0.8754\n",
      "Epoch 62/300\n",
      "41/41 [==============================] - 4s - loss: 0.2688 - acc: 0.8662 - val_loss: 0.2916 - val_acc: 0.8972\n",
      "Epoch 63/300\n",
      "41/41 [==============================] - 4s - loss: 0.2842 - acc: 0.8673 - val_loss: 0.2971 - val_acc: 0.8816\n",
      "Epoch 64/300\n",
      "41/41 [==============================] - 4s - loss: 0.2538 - acc: 0.8932 - val_loss: 0.3298 - val_acc: 0.8723\n",
      "Epoch 65/300\n",
      "41/41 [==============================] - 4s - loss: 0.2640 - acc: 0.8787 - val_loss: 0.3256 - val_acc: 0.8847\n",
      "Epoch 66/300\n",
      "41/41 [==============================] - 4s - loss: 0.2607 - acc: 0.8716 - val_loss: 0.3177 - val_acc: 0.8754\n",
      "Epoch 67/300\n",
      "41/41 [==============================] - 4s - loss: 0.2604 - acc: 0.8639 - val_loss: 0.3085 - val_acc: 0.8847\n",
      "Epoch 68/300\n",
      "41/41 [==============================] - 5s - loss: 0.2640 - acc: 0.8780 - val_loss: 0.2783 - val_acc: 0.8816\n",
      "Epoch 69/300\n",
      "41/41 [==============================] - 5s - loss: 0.2437 - acc: 0.8818 - val_loss: 0.3555 - val_acc: 0.8598\n",
      "Epoch 70/300\n",
      "41/41 [==============================] - 5s - loss: 0.2427 - acc: 0.8955 - val_loss: 0.2997 - val_acc: 0.8941\n",
      "Epoch 71/300\n",
      "41/41 [==============================] - 5s - loss: 0.2486 - acc: 0.8848 - val_loss: 0.3277 - val_acc: 0.8879\n",
      "Epoch 72/300\n",
      "41/41 [==============================] - 4s - loss: 0.2526 - acc: 0.8780 - val_loss: 0.3292 - val_acc: 0.8816\n",
      "Epoch 73/300\n",
      "41/41 [==============================] - 5s - loss: 0.2380 - acc: 0.8815 - val_loss: 0.3138 - val_acc: 0.9003\n",
      "Epoch 74/300\n",
      "41/41 [==============================] - 5s - loss: 0.2470 - acc: 0.8787 - val_loss: 0.4064 - val_acc: 0.8567\n",
      "Epoch 75/300\n",
      "41/41 [==============================] - 5s - loss: 0.2449 - acc: 0.8731 - val_loss: 0.3102 - val_acc: 0.8972\n",
      "Epoch 76/300\n",
      "41/41 [==============================] - 5s - loss: 0.2535 - acc: 0.8822 - val_loss: 0.3829 - val_acc: 0.8660\n",
      "Epoch 77/300\n",
      "41/41 [==============================] - 4s - loss: 0.2598 - acc: 0.8742 - val_loss: 0.2930 - val_acc: 0.9128\n",
      "Epoch 78/300\n",
      "41/41 [==============================] - 4s - loss: 0.2308 - acc: 0.8932 - val_loss: 0.3710 - val_acc: 0.8785\n",
      "Epoch 79/300\n",
      "41/41 [==============================] - 4s - loss: 0.2328 - acc: 0.8841 - val_loss: 0.3083 - val_acc: 0.8972\n",
      "Epoch 80/300\n",
      "41/41 [==============================] - 5s - loss: 0.2184 - acc: 0.8925 - val_loss: 0.3230 - val_acc: 0.8941\n",
      "Epoch 81/300\n",
      "41/41 [==============================] - 5s - loss: 0.2228 - acc: 0.8978 - val_loss: 0.3155 - val_acc: 0.8910\n",
      "Epoch 82/300\n",
      "41/41 [==============================] - 4s - loss: 0.2454 - acc: 0.8826 - val_loss: 0.3071 - val_acc: 0.8972\n",
      "Epoch 83/300\n",
      "41/41 [==============================] - 4s - loss: 0.2224 - acc: 0.8967 - val_loss: 0.3550 - val_acc: 0.8847\n",
      "Epoch 84/300\n",
      "41/41 [==============================] - 5s - loss: 0.2285 - acc: 0.8940 - val_loss: 0.3450 - val_acc: 0.8941\n",
      "Epoch 85/300\n",
      "41/41 [==============================] - 5s - loss: 0.2309 - acc: 0.8925 - val_loss: 0.4133 - val_acc: 0.8816\n",
      "Epoch 86/300\n",
      "41/41 [==============================] - 4s - loss: 0.2317 - acc: 0.8777 - val_loss: 0.2976 - val_acc: 0.9128\n",
      "Epoch 87/300\n",
      "41/41 [==============================] - 4s - loss: 0.2505 - acc: 0.8777 - val_loss: 0.3407 - val_acc: 0.8910\n",
      "Epoch 88/300\n",
      "41/41 [==============================] - 5s - loss: 0.2428 - acc: 0.8803 - val_loss: 0.2837 - val_acc: 0.9159\n",
      "Epoch 89/300\n",
      "41/41 [==============================] - 5s - loss: 0.2398 - acc: 0.8731 - val_loss: 0.3098 - val_acc: 0.8910\n",
      "Epoch 90/300\n",
      "41/41 [==============================] - 5s - loss: 0.2285 - acc: 0.8963 - val_loss: 0.3422 - val_acc: 0.8972\n",
      "Epoch 91/300\n",
      "41/41 [==============================] - 5s - loss: 0.2390 - acc: 0.8845 - val_loss: 0.2956 - val_acc: 0.9034\n",
      "Epoch 92/300\n",
      "41/41 [==============================] - 5s - loss: 0.2371 - acc: 0.8807 - val_loss: 0.3438 - val_acc: 0.8785\n",
      "Epoch 93/300\n",
      "41/41 [==============================] - 5s - loss: 0.2447 - acc: 0.8834 - val_loss: 0.3442 - val_acc: 0.8629\n",
      "Epoch 94/300\n",
      "41/41 [==============================] - 5s - loss: 0.2835 - acc: 0.8597 - val_loss: 0.2826 - val_acc: 0.9003\n",
      "Epoch 95/300\n",
      "41/41 [==============================] - 5s - loss: 0.2362 - acc: 0.8993 - val_loss: 0.2983 - val_acc: 0.9003\n",
      "Epoch 96/300\n",
      "41/41 [==============================] - 5s - loss: 0.2189 - acc: 0.8948 - val_loss: 0.3453 - val_acc: 0.8879\n",
      "Epoch 97/300\n",
      "41/41 [==============================] - 5s - loss: 0.2193 - acc: 0.9070 - val_loss: 0.3348 - val_acc: 0.9065\n",
      "Epoch 98/300\n",
      "41/41 [==============================] - 5s - loss: 0.2358 - acc: 0.8899 - val_loss: 0.2984 - val_acc: 0.8847\n",
      "Epoch 99/300\n",
      "41/41 [==============================] - 5s - loss: 0.2336 - acc: 0.8838 - val_loss: 0.3407 - val_acc: 0.8879\n",
      "Epoch 100/300\n",
      "41/41 [==============================] - 5s - loss: 0.2357 - acc: 0.8856 - val_loss: 0.3911 - val_acc: 0.8692\n",
      "Epoch 101/300\n",
      "41/41 [==============================] - 4s - loss: 0.2253 - acc: 0.8970 - val_loss: 0.4622 - val_acc: 0.8723\n",
      "Epoch 102/300\n",
      "41/41 [==============================] - 5s - loss: 0.2186 - acc: 0.9028 - val_loss: 0.4061 - val_acc: 0.8692\n",
      "Epoch 103/300\n",
      "41/41 [==============================] - 4s - loss: 0.2242 - acc: 0.8932 - val_loss: 0.3283 - val_acc: 0.8941\n",
      "Epoch 104/300\n",
      "41/41 [==============================] - 5s - loss: 0.2428 - acc: 0.8761 - val_loss: 0.2721 - val_acc: 0.9003\n",
      "Epoch 105/300\n",
      "41/41 [==============================] - 4s - loss: 0.2356 - acc: 0.8864 - val_loss: 0.3034 - val_acc: 0.8972\n",
      "Epoch 106/300\n",
      "41/41 [==============================] - 4s - loss: 0.2233 - acc: 0.8902 - val_loss: 0.3555 - val_acc: 0.8879\n",
      "Epoch 107/300\n",
      "41/41 [==============================] - 5s - loss: 0.2468 - acc: 0.8822 - val_loss: 0.3188 - val_acc: 0.8816\n",
      "Epoch 108/300\n",
      "41/41 [==============================] - 5s - loss: 0.2541 - acc: 0.8727 - val_loss: 0.2982 - val_acc: 0.9003\n",
      "Epoch 109/300\n",
      "41/41 [==============================] - 5s - loss: 0.2128 - acc: 0.9016 - val_loss: 0.3170 - val_acc: 0.9065\n",
      "Epoch 110/300\n",
      "41/41 [==============================] - 5s - loss: 0.2293 - acc: 0.8879 - val_loss: 0.3372 - val_acc: 0.8972\n",
      "Epoch 111/300\n",
      "41/41 [==============================] - 4s - loss: 0.2241 - acc: 0.8970 - val_loss: 0.2911 - val_acc: 0.9128\n",
      "Epoch 112/300\n",
      "41/41 [==============================] - 5s - loss: 0.2361 - acc: 0.8955 - val_loss: 0.3283 - val_acc: 0.9034\n",
      "Epoch 113/300\n",
      "41/41 [==============================] - 5s - loss: 0.2234 - acc: 0.8932 - val_loss: 0.3232 - val_acc: 0.9034\n",
      "Epoch 114/300\n",
      "41/41 [==============================] - 5s - loss: 0.1919 - acc: 0.9092 - val_loss: 0.3855 - val_acc: 0.8785\n",
      "Epoch 115/300\n",
      "41/41 [==============================] - 5s - loss: 0.2122 - acc: 0.8921 - val_loss: 0.3376 - val_acc: 0.9034\n",
      "Epoch 116/300\n",
      "41/41 [==============================] - 5s - loss: 0.2394 - acc: 0.8807 - val_loss: 0.3108 - val_acc: 0.9065\n",
      "Epoch 117/300\n",
      "41/41 [==============================] - 5s - loss: 0.2033 - acc: 0.9001 - val_loss: 0.3691 - val_acc: 0.9065\n",
      "Epoch 118/300\n",
      "41/41 [==============================] - 4s - loss: 0.2281 - acc: 0.8864 - val_loss: 0.3147 - val_acc: 0.9065\n",
      "Epoch 119/300\n",
      "41/41 [==============================] - 4s - loss: 0.2055 - acc: 0.8998 - val_loss: 0.3124 - val_acc: 0.9097\n",
      "Epoch 120/300\n",
      "41/41 [==============================] - 4s - loss: 0.2242 - acc: 0.8894 - val_loss: 0.3345 - val_acc: 0.9097\n",
      "Epoch 121/300\n",
      "41/41 [==============================] - 5s - loss: 0.2105 - acc: 0.8940 - val_loss: 0.3549 - val_acc: 0.8972\n",
      "Epoch 122/300\n",
      "41/41 [==============================] - 5s - loss: 0.2226 - acc: 0.8990 - val_loss: 0.3554 - val_acc: 0.8879\n",
      "Epoch 123/300\n",
      "41/41 [==============================] - 5s - loss: 0.2178 - acc: 0.8978 - val_loss: 0.3214 - val_acc: 0.8910\n",
      "Epoch 124/300\n",
      "41/41 [==============================] - 5s - loss: 0.1957 - acc: 0.8944 - val_loss: 0.4153 - val_acc: 0.8879\n",
      "Epoch 125/300\n",
      "41/41 [==============================] - 4s - loss: 0.2150 - acc: 0.8955 - val_loss: 0.3397 - val_acc: 0.8972\n",
      "Epoch 126/300\n",
      "41/41 [==============================] - 4s - loss: 0.1989 - acc: 0.9039 - val_loss: 0.3805 - val_acc: 0.8941\n",
      "Epoch 127/300\n",
      "41/41 [==============================] - 5s - loss: 0.2021 - acc: 0.9108 - val_loss: 0.3564 - val_acc: 0.8910\n",
      "Epoch 128/300\n",
      "41/41 [==============================] - 5s - loss: 0.2019 - acc: 0.9043 - val_loss: 0.3634 - val_acc: 0.8972\n",
      "Epoch 129/300\n",
      "41/41 [==============================] - 5s - loss: 0.2157 - acc: 0.8955 - val_loss: 0.3936 - val_acc: 0.8816\n",
      "Epoch 130/300\n",
      "41/41 [==============================] - 5s - loss: 0.1992 - acc: 0.8955 - val_loss: 0.4044 - val_acc: 0.8785\n",
      "Epoch 131/300\n",
      "41/41 [==============================] - 4s - loss: 0.2011 - acc: 0.9024 - val_loss: 0.3583 - val_acc: 0.8879\n",
      "Epoch 132/300\n",
      "41/41 [==============================] - 4s - loss: 0.2186 - acc: 0.8948 - val_loss: 0.4039 - val_acc: 0.8910\n",
      "Epoch 133/300\n",
      "41/41 [==============================] - 4s - loss: 0.1962 - acc: 0.9237 - val_loss: 0.4074 - val_acc: 0.8816\n",
      "Epoch 134/300\n",
      "41/41 [==============================] - 5s - loss: 0.1908 - acc: 0.9115 - val_loss: 0.3937 - val_acc: 0.8879\n",
      "Epoch 135/300\n",
      "41/41 [==============================] - 4s - loss: 0.1865 - acc: 0.9077 - val_loss: 0.4379 - val_acc: 0.8723\n",
      "Epoch 136/300\n",
      "41/41 [==============================] - 5s - loss: 0.1981 - acc: 0.9092 - val_loss: 0.4534 - val_acc: 0.8754\n",
      "Epoch 137/300\n",
      "41/41 [==============================] - 5s - loss: 0.2274 - acc: 0.8970 - val_loss: 0.3381 - val_acc: 0.9065\n",
      "Epoch 138/300\n",
      "41/41 [==============================] - 5s - loss: 0.2084 - acc: 0.9070 - val_loss: 0.4969 - val_acc: 0.8723\n",
      "Epoch 139/300\n",
      "41/41 [==============================] - 5s - loss: 0.2053 - acc: 0.9108 - val_loss: 0.3893 - val_acc: 0.8941\n",
      "Epoch 140/300\n",
      "41/41 [==============================] - 4s - loss: 0.2081 - acc: 0.8937 - val_loss: 0.3754 - val_acc: 0.9003\n",
      "Epoch 141/300\n",
      "41/41 [==============================] - 5s - loss: 0.1966 - acc: 0.9169 - val_loss: 0.3775 - val_acc: 0.8941\n",
      "Epoch 142/300\n",
      "41/41 [==============================] - 5s - loss: 0.2014 - acc: 0.9138 - val_loss: 0.3182 - val_acc: 0.9065\n",
      "Epoch 143/300\n",
      "41/41 [==============================] - 5s - loss: 0.2026 - acc: 0.9077 - val_loss: 0.3390 - val_acc: 0.8972\n",
      "Epoch 144/300\n",
      "41/41 [==============================] - 5s - loss: 0.1905 - acc: 0.9161 - val_loss: 0.4051 - val_acc: 0.8879\n",
      "Epoch 145/300\n",
      "41/41 [==============================] - 4s - loss: 0.1828 - acc: 0.9100 - val_loss: 0.4150 - val_acc: 0.8879\n",
      "Epoch 146/300\n",
      "41/41 [==============================] - 4s - loss: 0.2070 - acc: 0.9047 - val_loss: 0.3527 - val_acc: 0.8816\n",
      "Epoch 147/300\n",
      "41/41 [==============================] - 4s - loss: 0.2053 - acc: 0.9021 - val_loss: 0.3231 - val_acc: 0.8847\n",
      "Epoch 148/300\n",
      "41/41 [==============================] - 5s - loss: 0.2134 - acc: 0.8921 - val_loss: 0.3438 - val_acc: 0.9065\n",
      "Epoch 149/300\n",
      "41/41 [==============================] - 5s - loss: 0.2100 - acc: 0.9070 - val_loss: 0.3802 - val_acc: 0.8910\n",
      "Epoch 150/300\n",
      "41/41 [==============================] - 5s - loss: 0.1995 - acc: 0.9184 - val_loss: 0.3722 - val_acc: 0.8972\n",
      "Epoch 151/300\n",
      "41/41 [==============================] - 4s - loss: 0.1992 - acc: 0.9054 - val_loss: 0.3513 - val_acc: 0.9065\n",
      "Epoch 152/300\n",
      "41/41 [==============================] - 5s - loss: 0.1853 - acc: 0.9215 - val_loss: 0.4320 - val_acc: 0.8567\n",
      "Epoch 153/300\n",
      "41/41 [==============================] - 4s - loss: 0.1829 - acc: 0.9108 - val_loss: 0.4258 - val_acc: 0.8629\n",
      "Epoch 154/300\n",
      "41/41 [==============================] - 5s - loss: 0.1978 - acc: 0.9031 - val_loss: 0.4200 - val_acc: 0.8972\n",
      "Epoch 155/300\n",
      "41/41 [==============================] - 4s - loss: 0.1967 - acc: 0.8993 - val_loss: 0.4668 - val_acc: 0.8754\n",
      "Epoch 156/300\n",
      "41/41 [==============================] - 5s - loss: 0.1955 - acc: 0.9092 - val_loss: 0.3702 - val_acc: 0.8972\n",
      "Epoch 157/300\n",
      "41/41 [==============================] - 5s - loss: 0.2057 - acc: 0.9070 - val_loss: 0.3669 - val_acc: 0.8941\n",
      "Epoch 158/300\n",
      "41/41 [==============================] - 5s - loss: 0.1881 - acc: 0.9192 - val_loss: 0.3564 - val_acc: 0.8941\n",
      "Epoch 159/300\n",
      "41/41 [==============================] - 5s - loss: 0.1850 - acc: 0.9085 - val_loss: 0.3948 - val_acc: 0.9034\n",
      "Epoch 160/300\n",
      "41/41 [==============================] - 4s - loss: 0.1875 - acc: 0.9154 - val_loss: 0.3486 - val_acc: 0.8972\n",
      "Epoch 161/300\n",
      "41/41 [==============================] - 5s - loss: 0.1663 - acc: 0.9268 - val_loss: 0.4900 - val_acc: 0.8660\n",
      "Epoch 162/300\n",
      "41/41 [==============================] - 5s - loss: 0.1999 - acc: 0.9051 - val_loss: 0.4535 - val_acc: 0.8723\n",
      "Epoch 163/300\n",
      "41/41 [==============================] - 5s - loss: 0.2009 - acc: 0.8955 - val_loss: 0.4386 - val_acc: 0.8723\n",
      "Epoch 164/300\n",
      "41/41 [==============================] - 4s - loss: 0.1941 - acc: 0.9085 - val_loss: 0.3722 - val_acc: 0.8910\n",
      "Epoch 165/300\n",
      "40/41 [============================>.] - ETA: 0s - loss: 0.1850 - acc: 0.9109\n",
      "Epoch 00164: reducing learning rate to 0.00010000000474974513.\n",
      "41/41 [==============================] - 4s - loss: 0.1830 - acc: 0.9131 - val_loss: 0.3598 - val_acc: 0.8879\n",
      "Epoch 166/300\n",
      "41/41 [==============================] - 4s - loss: 0.1982 - acc: 0.9161 - val_loss: 0.3663 - val_acc: 0.8910\n",
      "Epoch 167/300\n",
      "41/41 [==============================] - 4s - loss: 0.1609 - acc: 0.9283 - val_loss: 0.3682 - val_acc: 0.8972\n",
      "Epoch 168/300\n",
      "41/41 [==============================] - 5s - loss: 0.1675 - acc: 0.9146 - val_loss: 0.3913 - val_acc: 0.8941\n",
      "Epoch 169/300\n",
      "41/41 [==============================] - 5s - loss: 0.1621 - acc: 0.9237 - val_loss: 0.3791 - val_acc: 0.9034\n",
      "Epoch 170/300\n",
      "41/41 [==============================] - 5s - loss: 0.1512 - acc: 0.9382 - val_loss: 0.3965 - val_acc: 0.8941\n",
      "Epoch 171/300\n",
      "41/41 [==============================] - 5s - loss: 0.1445 - acc: 0.9298 - val_loss: 0.4048 - val_acc: 0.8941\n",
      "Epoch 172/300\n",
      "41/41 [==============================] - 5s - loss: 0.1640 - acc: 0.9321 - val_loss: 0.3799 - val_acc: 0.9034\n",
      "Epoch 173/300\n",
      "41/41 [==============================] - 4s - loss: 0.1560 - acc: 0.9192 - val_loss: 0.3876 - val_acc: 0.8941\n",
      "Epoch 174/300\n",
      "41/41 [==============================] - 4s - loss: 0.1567 - acc: 0.9245 - val_loss: 0.3850 - val_acc: 0.9003\n",
      "Epoch 175/300\n",
      "41/41 [==============================] - 4s - loss: 0.1589 - acc: 0.9276 - val_loss: 0.3747 - val_acc: 0.9003\n",
      "Epoch 176/300\n",
      "41/41 [==============================] - 4s - loss: 0.1417 - acc: 0.9329 - val_loss: 0.3832 - val_acc: 0.8972\n",
      "Epoch 177/300\n",
      "41/41 [==============================] - 4s - loss: 0.1583 - acc: 0.9161 - val_loss: 0.3769 - val_acc: 0.9034\n",
      "Epoch 178/300\n",
      "41/41 [==============================] - 5s - loss: 0.1590 - acc: 0.9260 - val_loss: 0.4080 - val_acc: 0.8879\n",
      "Epoch 179/300\n",
      "41/41 [==============================] - 4s - loss: 0.1589 - acc: 0.9245 - val_loss: 0.3820 - val_acc: 0.9003\n",
      "Epoch 180/300\n",
      "41/41 [==============================] - 5s - loss: 0.1486 - acc: 0.9390 - val_loss: 0.3852 - val_acc: 0.9097\n",
      "Epoch 181/300\n",
      "41/41 [==============================] - 4s - loss: 0.1556 - acc: 0.9291 - val_loss: 0.4208 - val_acc: 0.8972\n",
      "Epoch 182/300\n",
      "41/41 [==============================] - 5s - loss: 0.1712 - acc: 0.9146 - val_loss: 0.3991 - val_acc: 0.8972\n",
      "Epoch 183/300\n",
      "41/41 [==============================] - 4s - loss: 0.1478 - acc: 0.9314 - val_loss: 0.4045 - val_acc: 0.8941\n",
      "Epoch 184/300\n",
      "41/41 [==============================] - 4s - loss: 0.1503 - acc: 0.9359 - val_loss: 0.3913 - val_acc: 0.8972\n",
      "Epoch 185/300\n",
      "41/41 [==============================] - 5s - loss: 0.1482 - acc: 0.9265 - val_loss: 0.3987 - val_acc: 0.8941\n",
      "Epoch 186/300\n",
      "41/41 [==============================] - 4s - loss: 0.1548 - acc: 0.9237 - val_loss: 0.3961 - val_acc: 0.8910\n",
      "Epoch 187/300\n",
      "41/41 [==============================] - 4s - loss: 0.1675 - acc: 0.9222 - val_loss: 0.3901 - val_acc: 0.9003\n",
      "Epoch 188/300\n",
      "41/41 [==============================] - 5s - loss: 0.1576 - acc: 0.9306 - val_loss: 0.4007 - val_acc: 0.9003\n",
      "Epoch 189/300\n",
      "41/41 [==============================] - 4s - loss: 0.1456 - acc: 0.9314 - val_loss: 0.4056 - val_acc: 0.9034\n",
      "Epoch 190/300\n",
      "41/41 [==============================] - 5s - loss: 0.1397 - acc: 0.9337 - val_loss: 0.4177 - val_acc: 0.8816\n",
      "Epoch 191/300\n",
      "41/41 [==============================] - 4s - loss: 0.1470 - acc: 0.9413 - val_loss: 0.4155 - val_acc: 0.8879\n",
      "Epoch 192/300\n",
      "41/41 [==============================] - 4s - loss: 0.1292 - acc: 0.9390 - val_loss: 0.4079 - val_acc: 0.8941\n",
      "Epoch 193/300\n",
      "41/41 [==============================] - 4s - loss: 0.1449 - acc: 0.9276 - val_loss: 0.4209 - val_acc: 0.8847\n",
      "Epoch 194/300\n",
      "41/41 [==============================] - 4s - loss: 0.1417 - acc: 0.9382 - val_loss: 0.4524 - val_acc: 0.8816\n",
      "Epoch 195/300\n",
      "41/41 [==============================] - 5s - loss: 0.1460 - acc: 0.9337 - val_loss: 0.4081 - val_acc: 0.9003\n",
      "Epoch 196/300\n",
      "41/41 [==============================] - 4s - loss: 0.1622 - acc: 0.9222 - val_loss: 0.4157 - val_acc: 0.8847\n",
      "Epoch 197/300\n",
      "41/41 [==============================] - 5s - loss: 0.1484 - acc: 0.9268 - val_loss: 0.4126 - val_acc: 0.8816\n",
      "Epoch 198/300\n",
      "41/41 [==============================] - 4s - loss: 0.1378 - acc: 0.9276 - val_loss: 0.4050 - val_acc: 0.8910\n",
      "Epoch 199/300\n",
      "41/41 [==============================] - 4s - loss: 0.1464 - acc: 0.9359 - val_loss: 0.4134 - val_acc: 0.8972\n",
      "Epoch 200/300\n",
      "41/41 [==============================] - 5s - loss: 0.1513 - acc: 0.9276 - val_loss: 0.4215 - val_acc: 0.8847\n",
      "Epoch 201/300\n",
      "41/41 [==============================] - 5s - loss: 0.1534 - acc: 0.9329 - val_loss: 0.4206 - val_acc: 0.8941\n",
      "Epoch 202/300\n",
      "41/41 [==============================] - 5s - loss: 0.1542 - acc: 0.9291 - val_loss: 0.3957 - val_acc: 0.8972\n",
      "Epoch 203/300\n",
      "41/41 [==============================] - 5s - loss: 0.1589 - acc: 0.9276 - val_loss: 0.3779 - val_acc: 0.8879\n",
      "Epoch 204/300\n",
      "41/41 [==============================] - 4s - loss: 0.1727 - acc: 0.9169 - val_loss: 0.3795 - val_acc: 0.9065\n",
      "Epoch 205/300\n",
      "41/41 [==============================] - 4s - loss: 0.1462 - acc: 0.9359 - val_loss: 0.3806 - val_acc: 0.9065\n",
      "Epoch 00204: early stopping\n"
     ]
    },
    {
     "data": {
      "text/plain": [
       "<keras.callbacks.History at 0x7fb7196ec780>"
      ]
     },
     "execution_count": 10,
     "metadata": {},
     "output_type": "execute_result"
    }
   ],
   "source": [
    "epochs = 300\n",
    "batch_size = 32\n",
    "\n",
    "callbacks = [EarlyStopping(monitor='val_loss',\n",
    "                           patience=100,\n",
    "                           verbose=1,\n",
    "                           min_delta=1e-4),\n",
    "             ReduceLROnPlateau(monitor='val_loss',\n",
    "                               factor=0.1,\n",
    "                               patience=60,\n",
    "                               verbose=1,\n",
    "                               epsilon=1e-4),\n",
    "             ModelCheckpoint(monitor='val_loss',\n",
    "                             filepath='Keras_models/best_weights.hdf5',\n",
    "                             save_best_only=True,\n",
    "                             save_weights_only=True),\n",
    "             TensorBoard(log_dir='keras_logs')]\n",
    "\n",
    "model.fit_generator(generator=train_generator(),\n",
    "                    steps_per_epoch=np.ceil(float(len(ids_train_split)) / float(batch_size)),\n",
    "                    epochs=epochs,\n",
    "                    verbose=1,\n",
    "                    callbacks=callbacks,\n",
    "                    validation_data=valid_generator(),\n",
    "                    validation_steps=np.ceil(float(len(ids_valid_split)) / float(batch_size)))"
   ]
  },
  {
   "cell_type": "markdown",
   "metadata": {},
   "source": [
    "#### KFold"
   ]
  },
  {
   "cell_type": "code",
   "execution_count": 10,
   "metadata": {
    "collapsed": true
   },
   "outputs": [],
   "source": [
    "ids_train = np.array(data.index)\n",
    "band_1_test = np.concatenate([im for im in test['band_1']]).reshape(-1, width, height)\n",
    "band_2_test = np.concatenate([im for im in test['band_2']]).reshape(-1, width, height)\n",
    "im = np.stack((band_1_test, band_2_test), axis=3)\n",
    "# Mean Substraction\n",
    "im[:, :, :, 0] -= -45.594448\n",
    "im[:, :, :, 1] -= -49.083500000000001\n",
    "band_3 = (im[:, :, :, 0]+im[:, :, :, 1])/2\n",
    "im = np.concatenate((im, band_3.reshape((-1, width, height, 1))), axis=3)\n",
    "X_test = [im.reshape((len(im), width, height, channels)), np.array(test['inc_angle'])]"
   ]
  },
  {
   "cell_type": "code",
   "execution_count": 11,
   "metadata": {
    "collapsed": true
   },
   "outputs": [],
   "source": [
    "num_epochs = 500\n",
    "batch_size = 64"
   ]
  },
  {
   "cell_type": "code",
   "execution_count": 16,
   "metadata": {
    "collapsed": false
   },
   "outputs": [
    {
     "name": "stdout",
     "output_type": "stream",
     "text": [
      "Fold [1/5]\n",
      "\n",
      "Epoch 00223: reducing learning rate to 0.00010000000474974513.\n",
      "Epoch 00263: early stopping\n",
      "Val Score : 0.294870\n",
      "Fold [2/5]\n",
      "\n",
      "Epoch 00254: reducing learning rate to 0.00010000000474974513.\n",
      "\n",
      "Epoch 00326: reducing learning rate to 1.0000000474974514e-05.\n",
      "Epoch 00366: early stopping\n",
      "Val Score : 0.246940\n",
      "Fold [3/5]\n",
      "\n",
      "Epoch 00227: reducing learning rate to 0.00010000000474974513.\n",
      "Epoch 00267: early stopping\n",
      "Val Score : 0.322410\n",
      "Fold [4/5]\n",
      "\n",
      "Epoch 00209: reducing learning rate to 0.00010000000474974513.\n",
      "Epoch 00249: early stopping\n",
      "Val Score : 0.280067\n",
      "Fold [5/5]\n",
      "\n",
      "Epoch 00235: reducing learning rate to 0.00010000000474974513.\n",
      "Epoch 00275: early stopping\n",
      "Val Score : 0.231487\n"
     ]
    }
   ],
   "source": [
    "kfold = 5\n",
    "kfold_scores = []\n",
    "\n",
    "results = []\n",
    "fold_predictions = []\n",
    "sss = KFold(n_splits=kfold, random_state=0)\n",
    "for i, (train_index, test_index) in enumerate(sss.split(ids_train)):\n",
    "    \n",
    "    model = getVggAngleModel()\n",
    "    print('Fold [%d/%d]' % (i+1, kfold))\n",
    "\n",
    "    # Train\n",
    "    callbacks = [EarlyStopping(monitor='val_loss',\n",
    "                           patience=100,\n",
    "                           verbose=1,\n",
    "                           min_delta=1e-4),\n",
    "             ReduceLROnPlateau(monitor='val_loss',\n",
    "                               factor=0.1,\n",
    "                               patience=60,\n",
    "                               verbose=1,\n",
    "                               epsilon=1e-4),\n",
    "             ModelCheckpoint(monitor='val_loss',\n",
    "                             filepath='./Models/v1Nov_v1/model_fold_'+str(i+1)+'.hdf5',\n",
    "                             save_best_only=True,\n",
    "                             save_weights_only=True)]\n",
    "    \n",
    "    model.fit_generator(generator=train_generator(train_index, batch_size),\n",
    "                    steps_per_epoch=np.ceil(float(len(train_index)) / float(batch_size)),\n",
    "                    epochs=num_epochs,\n",
    "                    verbose=0,\n",
    "                    callbacks=callbacks,\n",
    "                    validation_data=valid_generator(test_index, batch_size),\n",
    "                    validation_steps=np.ceil(float(len(test_index)) / float(batch_size)))\n",
    "    model.load_weights('./Models/v1Nov_v1/model_fold_'+str(i+1)+'.hdf5')\n",
    "    \n",
    "    best_fold_predictions = model.predict_generator(valid_generator(test_index, 1), \n",
    "                                                    np.ceil(float(len(ids_valid_split)) / float(1)))[:,0]\n",
    "    best_prec1 = model.evaluate_generator(valid_generator(test_index, 1), \n",
    "                                                    np.ceil(float(len(ids_valid_split)) / float(1)))[0]\n",
    "        \n",
    "    print('Val Score : %f' % (best_prec1))\n",
    "    fold_predictions.append(best_fold_predictions)\n",
    "    kfold_scores.append(best_prec1)\n",
    "    \n",
    "    # Predict\n",
    "    results.append(np.array(model.predict(X_test)))"
   ]
  },
  {
   "cell_type": "code",
   "execution_count": 17,
   "metadata": {
    "collapsed": false
   },
   "outputs": [
    {
     "data": {
      "text/plain": [
       "0.27515492565796551"
      ]
     },
     "execution_count": 17,
     "metadata": {},
     "output_type": "execute_result"
    }
   ],
   "source": [
    "np.array(kfold_scores).mean()"
   ]
  },
  {
   "cell_type": "code",
   "execution_count": 18,
   "metadata": {
    "collapsed": false
   },
   "outputs": [
    {
     "data": {
      "text/plain": [
       "0.032707387587890796"
      ]
     },
     "execution_count": 18,
     "metadata": {},
     "output_type": "execute_result"
    }
   ],
   "source": [
    "np.array(kfold_scores).std()"
   ]
  },
  {
   "cell_type": "code",
   "execution_count": 27,
   "metadata": {
    "collapsed": false
   },
   "outputs": [
    {
     "data": {
      "text/plain": [
       "(8424, 1)"
      ]
     },
     "execution_count": 27,
     "metadata": {},
     "output_type": "execute_result"
    }
   ],
   "source": [
    "np.array(results).mean(axis=0).shape"
   ]
  },
  {
   "cell_type": "code",
   "execution_count": 19,
   "metadata": {
    "collapsed": true
   },
   "outputs": [],
   "source": [
    "sub_num = 56\n",
    "os.makedirs(\"./Models/Sub \"+str(sub_num))\n",
    "np.savetxt(\"./Models/Sub \"+str(sub_num)+\"/results.csv\", np.array(results), delimiter=\",\")\n",
    "np.savetxt(\"./Models/Sub \"+str(sub_num)+\"/cv_fold_results.csv\", np.concatenate(fold_predictions), delimiter=\",\")\n",
    "sub = pd.read_csv('./Data/sample_submission.csv')\n",
    "sub['is_iceberg'] = np.array(results).mean(axis=0)\n",
    "sub.to_csv('./Submissions/Sub '+str(sub_num)+' - 5-fold _ Val-2751.csv', index=False)"
   ]
  },
  {
   "cell_type": "code",
   "execution_count": 24,
   "metadata": {
    "collapsed": true
   },
   "outputs": [],
   "source": []
  },
  {
   "cell_type": "code",
   "execution_count": null,
   "metadata": {
    "collapsed": true
   },
   "outputs": [],
   "source": []
  },
  {
   "cell_type": "code",
   "execution_count": 3,
   "metadata": {
    "collapsed": true
   },
   "outputs": [],
   "source": [
    "sub = pd.read_csv('./Data/sample_submission.csv')"
   ]
  },
  {
   "cell_type": "code",
   "execution_count": 4,
   "metadata": {
    "collapsed": true
   },
   "outputs": [],
   "source": [
    "sub1 = pd.read_csv('./Submissions/Sub 46 - 5-fold _ Val-1563.csv')['is_iceberg']\n",
    "sub2 = pd.read_csv('./Submissions/Sub 47 - 5-fold _ Val-1679.csv')['is_iceberg']\n",
    "sub3 = pd.read_csv('./Submissions/Sub 48 - 5-fold _ Val-1583.csv')['is_iceberg']\n",
    "sub4 = pd.read_csv('./Submissions/Sub 22 - 5-fold _ Val-1571.csv')['is_iceberg']\n",
    "# sub5 = pd.read_csv('./Submissions/Sub 8 - 5-fold _ Val-1479.csv')['is_iceberg']\n",
    "# sub6 = pd.read_csv('./Submissions/Sub 16 - 5-fold _ Val-1422.csv')['is_iceberg']"
   ]
  },
  {
   "cell_type": "code",
   "execution_count": 5,
   "metadata": {
    "collapsed": true
   },
   "outputs": [],
   "source": [
    "results = (np.array(sub1)*np.array(sub2)*np.array(sub3)*np.array(sub4))**(1/4)\n",
    "sub['is_iceberg'] = np.array(results)\n",
    "sub.to_csv('./Submissions/Sub 49 - Ensemble_22_46_47_48 - Geometric Mean.csv', index=False)"
   ]
  },
  {
   "cell_type": "markdown",
   "metadata": {},
   "source": []
  },
  {
   "cell_type": "markdown",
   "metadata": {},
   "source": [
    "#### Error Analysis"
   ]
  },
  {
   "cell_type": "code",
   "execution_count": 24,
   "metadata": {
    "collapsed": true
   },
   "outputs": [],
   "source": [
    "def accuracy(loader):\n",
    "    iceNet.eval()\n",
    "    correct = 0\n",
    "    total = 0\n",
    "    loss = []\n",
    "    inc_features = []\n",
    "    inc_feature_angles = []\n",
    "    inc_labels = []\n",
    "    for features, features_angle, labels in loader:\n",
    "        features = Variable(features, volatile=True).cuda()\n",
    "        features_angle = Variable(features_angle, volatile=True).cuda()\n",
    "        labels = Variable(labels, volatile=True).cuda()\n",
    "        outputs = iceNet(features, features_angle)\n",
    "        _loss = criterion(outputs, labels)\n",
    "        loss.append(_loss)\n",
    "        _, predicted = torch.max(outputs.data, 1)\n",
    "        total += labels.size(0)\n",
    "        correct += (predicted == labels.data).sum()\n",
    "        inc_features.append(features.data.cpu().numpy()[np.where((predicted!=labels.data).cpu().numpy())])\n",
    "        inc_feature_angles.append(features_angle.data.cpu().numpy()[np.where((predicted!=labels.data).cpu().numpy())])\n",
    "        inc_labels.append(labels.data.cpu().numpy()[np.where((predicted!=labels.data).cpu().numpy())])\n",
    "        \n",
    "    return np.mean(loss).data[0], (100 * correct / total), [inc_features, inc_feature_angles, inc_labels]"
   ]
  },
  {
   "cell_type": "code",
   "execution_count": 25,
   "metadata": {
    "collapsed": false
   },
   "outputs": [
    {
     "name": "stderr",
     "output_type": "stream",
     "text": [
      "/home/arsh/anaconda3/envs/torch/lib/python3.6/site-packages/ipykernel/__main__.py:8: FutureWarning: comparison to `None` will result in an elementwise object comparison in the future.\n"
     ]
    },
    {
     "name": "stdout",
     "output_type": "stream",
     "text": [
      "Fold [3/5]\n",
      "0.2119673639535904\n"
     ]
    }
   ],
   "source": [
    "kfold = 5\n",
    "kfold_scores = []\n",
    "\n",
    "results = []\n",
    "sss = KFold(n_splits=kfold, random_state=0)\n",
    "for i, (train_index, test_index) in enumerate(sss.split(X_KF[0], X_KF[1], y_KF)):\n",
    "    if i == 2:\n",
    "        X_train_KF, X_valid_KF = [X_KF[0][train_index], X_KF[1][train_index]], [X_KF[0][test_index], X_KF[1][test_index]]\n",
    "        y_train_KF, y_valid_KF = y_KF[train_index], y_KF[test_index]\n",
    "\n",
    "        # Define model\n",
    "        iceNet = net().apply(weight_init).cuda()\n",
    "\n",
    "        # Loss and Optimizer\n",
    "        criterion = nn.CrossEntropyLoss()\n",
    "        optimizer = torch.optim.Adam(iceNet.parameters(), lr=learning_rate, weight_decay=0.0001)\n",
    "\n",
    "        # Data Loader\n",
    "        train_dataset_KF = icebergDataset(X_train_KF, y_train_KF, transform=True)\n",
    "        val_dataset_KF = icebergDataset(X_valid_KF, y_valid_KF)\n",
    "\n",
    "        train_loader_KF = torch.utils.data.DataLoader(dataset=train_dataset_KF, batch_size=batch_size, shuffle=True)\n",
    "        val_loader_KF = torch.utils.data.DataLoader(dataset=val_dataset_KF, batch_size=batch_size, shuffle=False)\n",
    "\n",
    "        print('Fold [%d/%d]' % (i+1, kfold))\n",
    "        # Train\n",
    "        best_prec1 = 1\n",
    "        for epoch in range(num_epochs):\n",
    "            epoch_train_loss = []\n",
    "            for idx, (features, features_angle, labels) in enumerate(train_loader_KF):\n",
    "                iceNet.train()\n",
    "                features = Variable(features).cuda()\n",
    "                features_angle = Variable(features_angle).cuda()\n",
    "                labels = Variable(labels).cuda()\n",
    "                # Forward + Backward + Optimize\n",
    "                optimizer.zero_grad()\n",
    "                outputs = iceNet(features, features_angle)\n",
    "                loss = criterion(outputs, labels)\n",
    "                epoch_train_loss.append(loss)\n",
    "                loss.backward()\n",
    "                optimizer.step()\n",
    "            \n",
    "            acc = accuracy(val_loader_KF)\n",
    "            prec1 = acc[0]\n",
    "\n",
    "            # Save best model\n",
    "            is_best = prec1 < best_prec1\n",
    "            best_prec1 = min(prec1, best_prec1)\n",
    "            if is_best:\n",
    "                incorrect = acc[2]\n",
    "print(best_prec1)"
   ]
  },
  {
   "cell_type": "code",
   "execution_count": 26,
   "metadata": {
    "collapsed": true
   },
   "outputs": [],
   "source": [
    "incorrect[0] = np.vstack(incorrect[0])\n",
    "incorrect[1] = np.vstack(incorrect[1])\n",
    "incorrect[2] = np.hstack(incorrect[2])"
   ]
  },
  {
   "cell_type": "code",
   "execution_count": 46,
   "metadata": {
    "collapsed": true
   },
   "outputs": [],
   "source": [
    "def randomZoomOut(im, zoom_ratio=(-0.5, 0.5), u=0.5):\n",
    "    if np.random.random() < u:\n",
    "        height, width = im[0].shape\n",
    "        \n",
    "        zoom = height*np.random.uniform(zoom_ratio[0], zoom_ratio[1])\n",
    "        if int(zoom)<0:\n",
    "            zoom = abs(int(zoom))\n",
    "            im_0 = cv2.resize(im[0, zoom//2:-zoom//2, zoom//2:-zoom//2], (height, width))\n",
    "            im_1 = cv2.resize(im[1, zoom//2:-zoom//2, zoom//2:-zoom//2], (height, width))\n",
    "#            im_2 = cv2.resize(im[2, zoom//2:-zoom//2, zoom//2:-zoom//2], (height, width))\n",
    "#            im_3 = cv2.resize(im[3, zoom//2:-zoom//2, zoom//2:-zoom//2], (height, width))\n",
    "            return np.stack((im_0,im_1))\n",
    "        \n",
    "        if zoom<0:\n",
    "            zoom = 0\n",
    "        im_0 = cv2.resize(cv2.copyMakeBorder(im[0],int(zoom//2),int(zoom//2),int(zoom//2),int(zoom//2),\n",
    "                                   cv2.BORDER_REFLECT101), (height, width))\n",
    "        im_1 = cv2.resize(cv2.copyMakeBorder(im[1],int(zoom//2),int(zoom//2),int(zoom//2),int(zoom//2),\n",
    "                                   cv2.BORDER_WRAP), (height, width))\n",
    "#        im_2 = cv2.resize(cv2.copyMakeBorder(im[2],int(zoom//2),int(zoom//2),int(zoom//2),int(zoom//2),\n",
    "#                                   cv2.BORDER_REPLICATE), (height, width))\n",
    "#        im_3 = cv2.resize(cv2.copyMakeBorder(im[3],int(zoom//2),int(zoom//2),int(zoom//2),int(zoom//2),\n",
    "#                                   cv2.BORDER_REPLICATE), (height, width))\n",
    "        return np.stack((im_0,im_1))\n",
    "    \n",
    "    return im"
   ]
  },
  {
   "cell_type": "code",
   "execution_count": 47,
   "metadata": {
    "collapsed": false,
    "scrolled": false
   },
   "outputs": [
    {
     "ename": "error",
     "evalue": "/home/travis/miniconda/conda-bld/conda_1486587069159/work/opencv-3.1.0/modules/core/src/copy.cpp:928: error: (-5) Unknown/unsupported border type in function borderInterpolate\n",
     "output_type": "error",
     "traceback": [
      "\u001b[0;31m---------------------------------------------------------------------------\u001b[0m",
      "\u001b[0;31merror\u001b[0m                                     Traceback (most recent call last)",
      "\u001b[0;32m<ipython-input-47-83225d65f6f8>\u001b[0m in \u001b[0;36m<module>\u001b[0;34m()\u001b[0m\n\u001b[1;32m      2\u001b[0m     \u001b[0mf\u001b[0m\u001b[0;34m,\u001b[0m \u001b[0maxarr\u001b[0m \u001b[0;34m=\u001b[0m \u001b[0mplt\u001b[0m\u001b[0;34m.\u001b[0m\u001b[0msubplots\u001b[0m\u001b[0;34m(\u001b[0m\u001b[0;36m2\u001b[0m\u001b[0;34m,\u001b[0m \u001b[0;36m2\u001b[0m\u001b[0;34m,\u001b[0m \u001b[0mfigsize\u001b[0m\u001b[0;34m=\u001b[0m\u001b[0;34m(\u001b[0m\u001b[0;36m10\u001b[0m\u001b[0;34m,\u001b[0m\u001b[0;36m8\u001b[0m\u001b[0;34m)\u001b[0m\u001b[0;34m)\u001b[0m\u001b[0;34m\u001b[0m\u001b[0m\n\u001b[1;32m      3\u001b[0m     \u001b[0mplt\u001b[0m\u001b[0;34m.\u001b[0m\u001b[0mtitle\u001b[0m\u001b[0;34m(\u001b[0m\u001b[0;34m'Label = '\u001b[0m\u001b[0;34m+\u001b[0m\u001b[0mstr\u001b[0m\u001b[0;34m(\u001b[0m\u001b[0mincorrect\u001b[0m\u001b[0;34m[\u001b[0m\u001b[0;36m2\u001b[0m\u001b[0;34m]\u001b[0m\u001b[0;34m[\u001b[0m\u001b[0midx\u001b[0m\u001b[0;34m]\u001b[0m\u001b[0;34m)\u001b[0m\u001b[0;34m+\u001b[0m\u001b[0;34m', Inc Angle = '\u001b[0m\u001b[0;34m+\u001b[0m\u001b[0mstr\u001b[0m\u001b[0;34m(\u001b[0m\u001b[0mincorrect\u001b[0m\u001b[0;34m[\u001b[0m\u001b[0;36m1\u001b[0m\u001b[0;34m]\u001b[0m\u001b[0;34m[\u001b[0m\u001b[0midx\u001b[0m\u001b[0;34m]\u001b[0m\u001b[0;34m[\u001b[0m\u001b[0;36m0\u001b[0m\u001b[0;34m]\u001b[0m\u001b[0;34m)\u001b[0m\u001b[0;34m)\u001b[0m\u001b[0;34m\u001b[0m\u001b[0m\n\u001b[0;32m----> 4\u001b[0;31m     \u001b[0mzm\u001b[0m \u001b[0;34m=\u001b[0m \u001b[0mrandomZoomOut\u001b[0m\u001b[0;34m(\u001b[0m\u001b[0mim\u001b[0m\u001b[0;34m,\u001b[0m \u001b[0;34m(\u001b[0m\u001b[0;36m0\u001b[0m\u001b[0;34m,\u001b[0m \u001b[0;36m0.5\u001b[0m\u001b[0;34m)\u001b[0m\u001b[0;34m,\u001b[0m \u001b[0;36m1\u001b[0m\u001b[0;34m)\u001b[0m\u001b[0;34m\u001b[0m\u001b[0m\n\u001b[0m\u001b[1;32m      5\u001b[0m     \u001b[0maxarr\u001b[0m\u001b[0;34m[\u001b[0m\u001b[0;36m0\u001b[0m\u001b[0;34m,\u001b[0m \u001b[0;36m0\u001b[0m\u001b[0;34m]\u001b[0m\u001b[0;34m.\u001b[0m\u001b[0mimshow\u001b[0m\u001b[0;34m(\u001b[0m\u001b[0mim\u001b[0m\u001b[0;34m[\u001b[0m\u001b[0;36m0\u001b[0m\u001b[0;34m]\u001b[0m\u001b[0;34m,\u001b[0m \u001b[0mcmap\u001b[0m\u001b[0;34m=\u001b[0m\u001b[0;34m'gray'\u001b[0m\u001b[0;34m)\u001b[0m\u001b[0;34m\u001b[0m\u001b[0m\n\u001b[1;32m      6\u001b[0m     \u001b[0maxarr\u001b[0m\u001b[0;34m[\u001b[0m\u001b[0;36m0\u001b[0m\u001b[0;34m,\u001b[0m \u001b[0;36m1\u001b[0m\u001b[0;34m]\u001b[0m\u001b[0;34m.\u001b[0m\u001b[0mimshow\u001b[0m\u001b[0;34m(\u001b[0m\u001b[0mim\u001b[0m\u001b[0;34m[\u001b[0m\u001b[0;36m1\u001b[0m\u001b[0;34m]\u001b[0m\u001b[0;34m,\u001b[0m \u001b[0mcmap\u001b[0m\u001b[0;34m=\u001b[0m\u001b[0;34m'gray'\u001b[0m\u001b[0;34m)\u001b[0m\u001b[0;34m\u001b[0m\u001b[0m\n",
      "\u001b[0;32m<ipython-input-46-3544e4fb7feb>\u001b[0m in \u001b[0;36mrandomZoomOut\u001b[0;34m(im, zoom_ratio, u)\u001b[0m\n\u001b[1;32m     15\u001b[0m             \u001b[0mzoom\u001b[0m \u001b[0;34m=\u001b[0m \u001b[0;36m0\u001b[0m\u001b[0;34m\u001b[0m\u001b[0m\n\u001b[1;32m     16\u001b[0m         im_0 = cv2.resize(cv2.copyMakeBorder(im[0],int(zoom//2),int(zoom//2),int(zoom//2),int(zoom//2),\n\u001b[0;32m---> 17\u001b[0;31m                                    cv2.BORDER_TRANSPARENT), (height, width))\n\u001b[0m\u001b[1;32m     18\u001b[0m         im_1 = cv2.resize(cv2.copyMakeBorder(im[1],int(zoom//2),int(zoom//2),int(zoom//2),int(zoom//2),\n\u001b[1;32m     19\u001b[0m                                    cv2.BORDER_WRAP), (height, width))\n",
      "\u001b[0;31merror\u001b[0m: /home/travis/miniconda/conda-bld/conda_1486587069159/work/opencv-3.1.0/modules/core/src/copy.cpp:928: error: (-5) Unknown/unsupported border type in function borderInterpolate\n"
     ]
    }
   ],
   "source": [
    "for idx, im in enumerate(incorrect[0]):\n",
    "    f, axarr = plt.subplots(2, 2, figsize=(10,8))\n",
    "    plt.title('Label = '+str(incorrect[2][idx])+', Inc Angle = '+str(incorrect[1][idx][0]))\n",
    "    zm = randomZoomOut(im, (0, 0.5), 1)\n",
    "    axarr[0, 0].imshow(im[0], cmap='gray')\n",
    "    axarr[0, 1].imshow(im[1], cmap='gray')\n",
    "    axarr[1, 0].imshow(zm[0], cmap='gray')\n",
    "    axarr[1, 1].imshow(zm[1], cmap='gray')\n",
    "    plt.show()"
   ]
  }
 ],
 "metadata": {
  "kernelspec": {
   "display_name": "Python 3",
   "language": "python",
   "name": "python3"
  },
  "language_info": {
   "codemirror_mode": {
    "name": "ipython",
    "version": 3
   },
   "file_extension": ".py",
   "mimetype": "text/x-python",
   "name": "python",
   "nbconvert_exporter": "python",
   "pygments_lexer": "ipython3",
   "version": "3.6.0"
  }
 },
 "nbformat": 4,
 "nbformat_minor": 2
}
