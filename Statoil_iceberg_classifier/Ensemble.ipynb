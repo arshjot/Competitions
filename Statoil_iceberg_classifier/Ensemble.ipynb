{
 "cells": [
  {
   "cell_type": "markdown",
   "metadata": {},
   "source": [
    "#### Import packages"
   ]
  },
  {
   "cell_type": "code",
   "execution_count": 1,
   "metadata": {
    "collapsed": false
   },
   "outputs": [
    {
     "name": "stderr",
     "output_type": "stream",
     "text": [
      "/home/arsh/anaconda3/envs/torch/lib/python3.6/site-packages/sklearn/cross_validation.py:44: DeprecationWarning: This module was deprecated in version 0.18 in favor of the model_selection module into which all the refactored classes and functions are moved. Also note that the interface of the new CV iterators are different from that of this module. This module will be removed in 0.20.\n",
      "  \"This module will be removed in 0.20.\", DeprecationWarning)\n"
     ]
    }
   ],
   "source": [
    "import pandas as pd\n",
    "import numpy as np\n",
    "import matplotlib.pyplot as plt\n",
    "import math\n",
    "import shutil\n",
    "from sklearn.model_selection import train_test_split\n",
    "from sklearn.model_selection import KFold\n",
    "from sklearn.model_selection import cross_val_score\n",
    "from sklearn.model_selection import GridSearchCV\n",
    "from sklearn.preprocessing import MinMaxScaler\n",
    "from sklearn.linear_model import LogisticRegression\n",
    "from sklearn.svm import SVC\n",
    "import xgboost as xgb\n",
    "\n",
    "from sklearn.metrics import log_loss\n",
    "from sklearn.metrics import accuracy_score\n",
    "\n",
    "import math\n",
    "\n",
    "def sigmoid(x):\n",
    "    return 1 / (1 + math.exp(-x))\n",
    "\n",
    "seed = 0\n",
    "np.random.seed(seed)"
   ]
  },
  {
   "cell_type": "markdown",
   "metadata": {},
   "source": [
    "#### Load and Prepare Data"
   ]
  },
  {
   "cell_type": "code",
   "execution_count": 2,
   "metadata": {
    "collapsed": true
   },
   "outputs": [],
   "source": [
    "data = pd.read_json('./Data/train.json')\n",
    "data['band_1'] = data['band_1'].apply(lambda x : np.array(x).reshape(75, 75))\n",
    "data['band_2'] = data['band_2'].apply(lambda x : np.array(x).reshape(75, 75))\n",
    "data['inc_angle'] = pd.to_numeric(data['inc_angle'], errors='coerce')\n",
    "\n",
    "# data = data.dropna(axis=0, how='any')"
   ]
  },
  {
   "cell_type": "code",
   "execution_count": 3,
   "metadata": {
    "collapsed": true
   },
   "outputs": [],
   "source": [
    "band_1_KF = np.concatenate([im for im in data['band_1']]).reshape(-1, 75, 75)\n",
    "band_2_KF = np.concatenate([im for im in data['band_2']]).reshape(-1, 75, 75)\n",
    "X_KF = np.stack((band_1_KF, band_2_KF), axis=1)\n",
    "X_KF = [X_KF, np.array(data['inc_angle']).reshape((len(data), 1))]\n",
    "y_KF = data['is_iceberg'].values.astype(np.float32)\n",
    "\n",
    "kfold = 5\n",
    "y_labels = []\n",
    "sss = KFold(n_splits=kfold, random_state=0)\n",
    "for i, (train_index, test_index) in enumerate(sss.split(X_KF[0], X_KF[1], y_KF)):\n",
    "    y_train_KF, y_valid_KF = y_KF[train_index], y_KF[test_index]\n",
    "    y_labels.append(y_valid_KF)\n",
    "y_labels = np.concatenate(y_labels)"
   ]
  },
  {
   "cell_type": "code",
   "execution_count": 79,
   "metadata": {
    "collapsed": true
   },
   "outputs": [],
   "source": [
    "# Submissions to be used\n",
    "sub_list = [54]\n",
    "sub_results = []\n",
    "sub_fold_results = []\n",
    "for sub in sub_list:\n",
    "    sub_results.append(np.mean(np.loadtxt('./Models/Sub '+str(sub)+'/results.csv', delimiter=','),axis=0))\n",
    "    sub_fold_results.append(np.loadtxt('./Models/Sub '+str(sub)+'/cv_fold_results.csv', delimiter=','))"
   ]
  },
  {
   "cell_type": "code",
   "execution_count": 80,
   "metadata": {
    "collapsed": true
   },
   "outputs": [],
   "source": [
    "y = y_labels"
   ]
  },
  {
   "cell_type": "code",
   "execution_count": 81,
   "metadata": {
    "collapsed": true
   },
   "outputs": [],
   "source": [
    "sig = np.vectorize(sigmoid)"
   ]
  },
  {
   "cell_type": "code",
   "execution_count": 82,
   "metadata": {
    "collapsed": true
   },
   "outputs": [],
   "source": [
    "sub_fold_results = sig(sub_fold_results)"
   ]
  },
  {
   "cell_type": "code",
   "execution_count": 83,
   "metadata": {
    "collapsed": true
   },
   "outputs": [],
   "source": [
    "y_harmonic = 1/np.mean(1/np.array(sub_fold_results), axis=0)"
   ]
  },
  {
   "cell_type": "code",
   "execution_count": 84,
   "metadata": {
    "collapsed": true
   },
   "outputs": [],
   "source": [
    "y_geom = np.prod(np.array(sub_fold_results), axis=0)**(1/(len(sub_fold_results)))"
   ]
  },
  {
   "cell_type": "code",
   "execution_count": 85,
   "metadata": {
    "collapsed": false
   },
   "outputs": [
    {
     "name": "stdout",
     "output_type": "stream",
     "text": [
      "0.187773171363 0.187773171363 0.187773171363\n"
     ]
    }
   ],
   "source": [
    "print(log_loss(y, y_harmonic), log_loss(y, y_geom), \n",
    "      log_loss(y, np.reshape(sub_fold_results, (sub_fold_results.shape[1]))))"
   ]
  },
  {
   "cell_type": "code",
   "execution_count": 34,
   "metadata": {
    "collapsed": true
   },
   "outputs": [],
   "source": [
    "# Training Data\n",
    "X = np.stack(sub_fold_results).T\n",
    "y = y_labels\n",
    "X_test = np.stack(sub_results).T"
   ]
  },
  {
   "cell_type": "code",
   "execution_count": 15,
   "metadata": {
    "collapsed": false
   },
   "outputs": [
    {
     "ename": "NameError",
     "evalue": "name 'X' is not defined",
     "output_type": "error",
     "traceback": [
      "\u001b[0;31m---------------------------------------------------------------------------\u001b[0m",
      "\u001b[0;31mNameError\u001b[0m                                 Traceback (most recent call last)",
      "\u001b[0;32m<ipython-input-15-723785785bdf>\u001b[0m in \u001b[0;36m<module>\u001b[0;34m()\u001b[0m\n\u001b[1;32m      1\u001b[0m \u001b[0msig\u001b[0m \u001b[0;34m=\u001b[0m \u001b[0mnp\u001b[0m\u001b[0;34m.\u001b[0m\u001b[0mvectorize\u001b[0m\u001b[0;34m(\u001b[0m\u001b[0msigmoid\u001b[0m\u001b[0;34m)\u001b[0m\u001b[0;34m\u001b[0m\u001b[0m\n\u001b[0;32m----> 2\u001b[0;31m \u001b[0mX\u001b[0m \u001b[0;34m=\u001b[0m \u001b[0msig\u001b[0m\u001b[0;34m(\u001b[0m\u001b[0mX\u001b[0m\u001b[0;34m)\u001b[0m\u001b[0;34m\u001b[0m\u001b[0m\n\u001b[0m",
      "\u001b[0;31mNameError\u001b[0m: name 'X' is not defined"
     ]
    }
   ],
   "source": [
    "sig = np.vectorize(sigmoid)\n",
    "X = sig(X)"
   ]
  },
  {
   "cell_type": "code",
   "execution_count": 36,
   "metadata": {
    "collapsed": true
   },
   "outputs": [],
   "source": [
    "X = np.hstack((X, (np.prod(X, axis=1)**(1/len(X.T))).reshape((len(X), 1))))\n",
    "X_test = np.hstack((X_test, (np.prod(X_test, axis=1)**(1/len(X.T))).reshape((len(X_test), 1))))"
   ]
  },
  {
   "cell_type": "markdown",
   "metadata": {},
   "source": [
    "#### XGBoost"
   ]
  },
  {
   "cell_type": "code",
   "execution_count": 37,
   "metadata": {
    "collapsed": true
   },
   "outputs": [],
   "source": [
    "xgbscores = []\n",
    "\n",
    "# Set xgb parameters\n",
    "params = {}\n",
    "params['objective'] = 'binary:logistic'\n",
    "params['eta'] = 0.01\n",
    "params['silent'] = True\n",
    "params['max_depth'] = 10\n",
    "params['subsample'] = 0.7\n",
    "params['colsample_bytree'] = 0.8\n",
    "params['colsample_bylevel'] = 0.9\n",
    "params['seed'] = 99\n",
    "params['gamma'] = 8\n",
    "params['eval_metric'] = 'logloss'"
   ]
  },
  {
   "cell_type": "code",
   "execution_count": 38,
   "metadata": {
    "collapsed": false
   },
   "outputs": [
    {
     "name": "stdout",
     "output_type": "stream",
     "text": [
      "[Fold 1/5]\n",
      "[0]\ttrain-logloss:0.685156\tvalid-logloss:0.685122\n",
      "Multiple eval metrics have been passed: 'valid-logloss' will be used for early stopping.\n",
      "\n",
      "Will train until valid-logloss hasn't improved in 170 rounds.\n",
      "[200]\ttrain-logloss:0.194323\tvalid-logloss:0.197194\n",
      "[400]\ttrain-logloss:0.150516\tvalid-logloss:0.156306\n",
      "[600]\ttrain-logloss:0.14557\tvalid-logloss:0.152746\n",
      "[800]\ttrain-logloss:0.143766\tvalid-logloss:0.152042\n",
      "[1000]\ttrain-logloss:0.142342\tvalid-logloss:0.151697\n",
      "[1200]\ttrain-logloss:0.141549\tvalid-logloss:0.151194\n",
      "[1400]\ttrain-logloss:0.140695\tvalid-logloss:0.150853\n",
      "[1600]\ttrain-logloss:0.140444\tvalid-logloss:0.150825\n",
      "Stopping. Best iteration:\n",
      "[1538]\ttrain-logloss:0.140444\tvalid-logloss:0.150823\n",
      "\n",
      "[Fold 1/5 Prediction:]\n",
      "0.150823\n",
      "[Fold 2/5]\n",
      "[0]\ttrain-logloss:0.685122\tvalid-logloss:0.68499\n",
      "Multiple eval metrics have been passed: 'valid-logloss' will be used for early stopping.\n",
      "\n",
      "Will train until valid-logloss hasn't improved in 170 rounds.\n",
      "[200]\ttrain-logloss:0.195521\tvalid-logloss:0.187927\n",
      "[400]\ttrain-logloss:0.152281\tvalid-logloss:0.145812\n",
      "[600]\ttrain-logloss:0.147638\tvalid-logloss:0.142356\n",
      "[800]\ttrain-logloss:0.14603\tvalid-logloss:0.141406\n",
      "[1000]\ttrain-logloss:0.144035\tvalid-logloss:0.140434\n",
      "[1200]\ttrain-logloss:0.143474\tvalid-logloss:0.140236\n",
      "[1400]\ttrain-logloss:0.14247\tvalid-logloss:0.140079\n",
      "[1600]\ttrain-logloss:0.142355\tvalid-logloss:0.139949\n",
      "[1800]\ttrain-logloss:0.14154\tvalid-logloss:0.139706\n",
      "[2000]\ttrain-logloss:0.140771\tvalid-logloss:0.139413\n",
      "[2200]\ttrain-logloss:0.140499\tvalid-logloss:0.139372\n",
      "Stopping. Best iteration:\n",
      "[2132]\ttrain-logloss:0.140503\tvalid-logloss:0.139368\n",
      "\n",
      "[Fold 2/5 Prediction:]\n",
      "0.139368\n",
      "[Fold 3/5]\n",
      "[0]\ttrain-logloss:0.684818\tvalid-logloss:0.685434\n",
      "Multiple eval metrics have been passed: 'valid-logloss' will be used for early stopping.\n",
      "\n",
      "Will train until valid-logloss hasn't improved in 170 rounds.\n",
      "[200]\ttrain-logloss:0.181581\tvalid-logloss:0.237641\n",
      "[400]\ttrain-logloss:0.134318\tvalid-logloss:0.208829\n",
      "[600]\ttrain-logloss:0.128776\tvalid-logloss:0.207907\n",
      "Stopping. Best iteration:\n",
      "[469]\ttrain-logloss:0.131106\tvalid-logloss:0.207708\n",
      "\n",
      "[Fold 3/5 Prediction:]\n",
      "0.207708\n",
      "[Fold 4/5]\n",
      "[0]\ttrain-logloss:0.684981\tvalid-logloss:0.684825\n",
      "Multiple eval metrics have been passed: 'valid-logloss' will be used for early stopping.\n",
      "\n",
      "Will train until valid-logloss hasn't improved in 170 rounds.\n",
      "[200]\ttrain-logloss:0.195689\tvalid-logloss:0.194765\n",
      "[400]\ttrain-logloss:0.151664\tvalid-logloss:0.148043\n",
      "[600]\ttrain-logloss:0.146532\tvalid-logloss:0.144639\n",
      "[800]\ttrain-logloss:0.14424\tvalid-logloss:0.143219\n",
      "[1000]\ttrain-logloss:0.143379\tvalid-logloss:0.142867\n",
      "[1200]\ttrain-logloss:0.143039\tvalid-logloss:0.142929\n",
      "Stopping. Best iteration:\n",
      "[1060]\ttrain-logloss:0.143186\tvalid-logloss:0.142792\n",
      "\n",
      "[Fold 4/5 Prediction:]\n",
      "0.142792\n",
      "[Fold 5/5]\n",
      "[0]\ttrain-logloss:0.685017\tvalid-logloss:0.685021\n",
      "Multiple eval metrics have been passed: 'valid-logloss' will be used for early stopping.\n",
      "\n",
      "Will train until valid-logloss hasn't improved in 170 rounds.\n",
      "[200]\ttrain-logloss:0.192191\tvalid-logloss:0.200707\n",
      "[400]\ttrain-logloss:0.14758\tvalid-logloss:0.162285\n",
      "[600]\ttrain-logloss:0.143436\tvalid-logloss:0.159709\n",
      "[800]\ttrain-logloss:0.142069\tvalid-logloss:0.158814\n",
      "[1000]\ttrain-logloss:0.141048\tvalid-logloss:0.157904\n",
      "[1200]\ttrain-logloss:0.140883\tvalid-logloss:0.157945\n",
      "[1400]\ttrain-logloss:0.1398\tvalid-logloss:0.15736\n",
      "[1600]\ttrain-logloss:0.13922\tvalid-logloss:0.15706\n",
      "[1800]\ttrain-logloss:0.138829\tvalid-logloss:0.157009\n",
      "[2000]\ttrain-logloss:0.138407\tvalid-logloss:0.156781\n",
      "Stopping. Best iteration:\n",
      "[1847]\ttrain-logloss:0.138451\tvalid-logloss:0.156675\n",
      "\n",
      "[Fold 5/5 Prediction:]\n",
      "0.156675\n",
      "Mean = 0.1594732 \n",
      "Std =  0.0248665772265\n"
     ]
    }
   ],
   "source": [
    "# Create a submission file\n",
    "sub = pd.read_csv('./Data/sample_submission.csv')\n",
    "sub['is_iceberg'] = np.ones_like(sub['is_iceberg'])\n",
    "\n",
    "kfold = 5\n",
    "weights = []\n",
    "feature_imps = []\n",
    "sss = KFold(n_splits=kfold, random_state=0)\n",
    "for i, (train_index, test_index) in enumerate(sss.split(X, y)):\n",
    "    \n",
    "    print('[Fold %d/%d]' % (i + 1, kfold))\n",
    "    X_train, X_valid = X[train_index], X[test_index]\n",
    "    y_train, y_valid = y[train_index], y[test_index]\n",
    "    # Convert our data into LGBoost format\n",
    "    d_train = xgb.DMatrix(X_train, y_train, missing=-1)\n",
    "    d_valid = xgb.DMatrix(X_valid, y_valid, missing=-1)\n",
    "    d_test = xgb.DMatrix(X_test, missing=-1)\n",
    "    watchlist = [(d_train, 'train'), (d_valid, 'valid')]\n",
    "\n",
    "    # Train the model! We pass in a max of 2,000 rounds (with early stopping after 100)\n",
    "    # and the custom metric (maximize=True tells xgb that higher metric is better)\n",
    "    mdl = xgb.train(params, d_train, 5000, watchlist, early_stopping_rounds=170, verbose_eval=200)\n",
    "\n",
    "    print('[Fold %d/%d Prediction:]' % (i + 1, kfold))\n",
    "    feature_imps.append(mdl.get_fscore())\n",
    "    # Predict on our test data\n",
    "    p_test = mdl.predict(d_test)\n",
    "    print(mdl.best_score)\n",
    "#     val_gini = mdl.predict(d_valid_gini)\n",
    "#     print(gini_normalized(y_valid, val_gini))\n",
    "#     print(gini_normalized(y_val, mdl.predict(d_valid_2)))\n",
    "    weight = mdl.best_score\n",
    "    weights.append(weight)\n",
    "    sub['is_iceberg'] += p_test*weight\n",
    "\n",
    "sub['is_iceberg'] = sub['is_iceberg']/np.sum(weights)\n",
    "print('Mean =', str(np.mean(weights)), '\\nStd = ', np.std(weights))"
   ]
  },
  {
   "cell_type": "code",
   "execution_count": 186,
   "metadata": {
    "collapsed": true
   },
   "outputs": [],
   "source": [
    "overall_sub_num = 41\n",
    "sub.to_csv('./Submissions/Sub '+str(overall_sub_num)+' - fold_model_ensemble -'+'_'.join(map(str, sub_list))+'.csv',\n",
    "           index=False)"
   ]
  },
  {
   "cell_type": "markdown",
   "metadata": {},
   "source": [
    "#### Misc "
   ]
  },
  {
   "cell_type": "code",
   "execution_count": 85,
   "metadata": {
    "collapsed": true
   },
   "outputs": [],
   "source": [
    "sub_fold_results = sig(sub_fold_results)"
   ]
  },
  {
   "cell_type": "code",
   "execution_count": 60,
   "metadata": {
    "collapsed": true
   },
   "outputs": [],
   "source": [
    "y_harmonic = 1/np.mean((1/sub_fold_results[0], 1/sub_fold_results[1], 1/sub_fold_results[2]), axis=0)"
   ]
  },
  {
   "cell_type": "code",
   "execution_count": 61,
   "metadata": {
    "collapsed": true
   },
   "outputs": [],
   "source": [
    "y_geom = (sub_fold_results[0]*sub_fold_results[1]*sub_fold_results[2])**(1/3)"
   ]
  },
  {
   "cell_type": "code",
   "execution_count": 62,
   "metadata": {
    "collapsed": true
   },
   "outputs": [],
   "source": [
    "y_am = np.mean(sub_fold_results, axis=0)"
   ]
  },
  {
   "cell_type": "code",
   "execution_count": 39,
   "metadata": {
    "collapsed": false
   },
   "outputs": [
    {
     "data": {
      "image/png": "[encoded data removed]",
      "text/plain": [
       "<matplotlib.figure.Figure at 0x7fab5bcdcc18>"
      ]
     },
     "metadata": {},
     "output_type": "display_data"
    },
    {
     "data": {
      "image/png": "[encoded data removed]",
      "text/plain": [
       "<matplotlib.figure.Figure at 0x7fab5d1ccb00>"
      ]
     },
     "metadata": {},
     "output_type": "display_data"
    }
   ],
   "source": [
    "import seaborn as sns\n",
    "sns.jointplot(sub_results[1], sub_results[0])\n",
    "plt.show()\n",
    "sns.distplot(sub_results[1])\n",
    "plt.show()"
   ]
  },
  {
   "cell_type": "code",
   "execution_count": 44,
   "metadata": {
    "collapsed": false
   },
   "outputs": [
    {
     "data": {
      "text/html": [
       "<div>\n",
       "<style>\n",
       "    .dataframe thead tr:only-child th {\n",
       "        text-align: right;\n",
       "    }\n",
       "\n",
       "    .dataframe thead th {\n",
       "        text-align: left;\n",
       "    }\n",
       "\n",
       "    .dataframe tbody tr th {\n",
       "        vertical-align: top;\n",
       "    }\n",
       "</style>\n",
       "<table border=\"1\" class=\"dataframe\">\n",
       "  <thead>\n",
       "    <tr style=\"text-align: right;\">\n",
       "      <th></th>\n",
       "      <th>0</th>\n",
       "      <th>1</th>\n",
       "      <th>2</th>\n",
       "    </tr>\n",
       "  </thead>\n",
       "  <tbody>\n",
       "    <tr>\n",
       "      <th>0</th>\n",
       "      <td>1.000000</td>\n",
       "      <td>0.931067</td>\n",
       "      <td>0.960161</td>\n",
       "    </tr>\n",
       "    <tr>\n",
       "      <th>1</th>\n",
       "      <td>0.931067</td>\n",
       "      <td>1.000000</td>\n",
       "      <td>0.873093</td>\n",
       "    </tr>\n",
       "    <tr>\n",
       "      <th>2</th>\n",
       "      <td>0.960161</td>\n",
       "      <td>0.873093</td>\n",
       "      <td>1.000000</td>\n",
       "    </tr>\n",
       "  </tbody>\n",
       "</table>\n",
       "</div>"
      ],
      "text/plain": [
       "          0         1         2\n",
       "0  1.000000  0.931067  0.960161\n",
       "1  0.931067  1.000000  0.873093\n",
       "2  0.960161  0.873093  1.000000"
      ]
     },
     "execution_count": 44,
     "metadata": {},
     "output_type": "execute_result"
    }
   ],
   "source": [
    "pd.DataFrame(np.array(sub_results).T).corr()"
   ]
  },
  {
   "cell_type": "code",
   "execution_count": 63,
   "metadata": {
    "collapsed": true
   },
   "outputs": [],
   "source": [
    "y_geom_harmonic = 1/np.mean((1/y_geom, 1/y_harmonic), axis=0)"
   ]
  },
  {
   "cell_type": "code",
   "execution_count": 114,
   "metadata": {
    "collapsed": true
   },
   "outputs": [],
   "source": [
    "import copy\n",
    "temp = copy.deepcopy(sub_fold_results[0])\n",
    "temp[(temp>=0.9) & (temp>=0.9)] = 0.99\n",
    "temp[temp<0.1] = 0.01\n",
    "# temp[(temp>0.4) & (temp<0.6)] = 0.5"
   ]
  },
  {
   "cell_type": "code",
   "execution_count": 115,
   "metadata": {
    "collapsed": false
   },
   "outputs": [
    {
     "name": "stdout",
     "output_type": "stream",
     "text": [
      "0.148578754892 0.149386206193 0.152498427582 0.184369698771\n"
     ]
    }
   ],
   "source": [
    "print(log_loss(y, y_harmonic), log_loss(y, y_geom), log_loss(y, y_am), log_loss(y, temp))"
   ]
  },
  {
   "cell_type": "code",
   "execution_count": 286,
   "metadata": {
    "collapsed": false
   },
   "outputs": [
    {
     "data": {
      "text/plain": [
       "-0.17091827316332908"
      ]
     },
     "execution_count": 286,
     "metadata": {},
     "output_type": "execute_result"
    }
   ],
   "source": [
    "cross_val_score(LogisticRegression(), np.hstack((X, np.log(X), X**(3))), y,\n",
    "                cv=3, scoring='neg_log_loss').mean()"
   ]
  },
  {
   "cell_type": "code",
   "execution_count": 17,
   "metadata": {
    "collapsed": false
   },
   "outputs": [
    {
     "data": {
      "text/plain": [
       "-0.18073536641984442"
      ]
     },
     "execution_count": 17,
     "metadata": {},
     "output_type": "execute_result"
    }
   ],
   "source": [
    "cross_val_score(LogisticRegression(), X, y, cv=3, scoring='neg_log_loss').mean()"
   ]
  },
  {
   "cell_type": "code",
   "execution_count": 115,
   "metadata": {
    "collapsed": true
   },
   "outputs": [],
   "source": [
    "modelLogistic = LogisticRegression()\n",
    "parametersLogistic={'C':(0.0001,0.0005,0.001,0.005,0.01,0.05,0.1,1,10,100,1000),\n",
    "                   'solver':('newton-cg', 'lbfgs'),\n",
    "                   'multi_class':('multinomial','ovr')}\n",
    "gs_Logistic=GridSearchCV(modelLogistic, parametersLogistic, n_jobs=-1)\n",
    "gs_Logistic=gs_Logistic.fit(X, y)"
   ]
  },
  {
   "cell_type": "code",
   "execution_count": 116,
   "metadata": {
    "collapsed": false
   },
   "outputs": [
    {
     "data": {
      "text/plain": [
       "{'C': 0.005, 'multi_class': 'ovr', 'solver': 'newton-cg'}"
      ]
     },
     "execution_count": 116,
     "metadata": {},
     "output_type": "execute_result"
    }
   ],
   "source": [
    "gs_Logistic.best_params_"
   ]
  },
  {
   "cell_type": "code",
   "execution_count": 26,
   "metadata": {
    "collapsed": true
   },
   "outputs": [],
   "source": [
    "modelLogistic = LogisticRegression()\n",
    "modelLogistic = modelLogistic.fit(X, y)\n",
    "y_log = modelLogistic.predict_proba(X)"
   ]
  },
  {
   "cell_type": "code",
   "execution_count": 19,
   "metadata": {
    "collapsed": false
   },
   "outputs": [
    {
     "data": {
      "text/plain": [
       "array([[ 2.03518931,  1.87842376,  2.19877137,  1.39811089]])"
      ]
     },
     "execution_count": 19,
     "metadata": {},
     "output_type": "execute_result"
    }
   ],
   "source": [
    "modelLogistic.coef_"
   ]
  },
  {
   "cell_type": "code",
   "execution_count": 118,
   "metadata": {
    "collapsed": true
   },
   "outputs": [],
   "source": [
    "y_test = modelLogistic.predict_proba(X_test)"
   ]
  },
  {
   "cell_type": "code",
   "execution_count": 125,
   "metadata": {
    "collapsed": true,
    "scrolled": true
   },
   "outputs": [],
   "source": [
    "sub_num = 28\n",
    "sub = pd.read_csv('./Data/sample_submission.csv')\n",
    "sub['is_iceberg'] = y_test[:,0]\n",
    "sub.to_csv('./Submissions/Sub '+str(sub_num)+' - 5-fold _ Logistic_Ensemble.csv', index=False)"
   ]
  }
 ],
 "metadata": {
  "kernelspec": {
   "display_name": "Python 3",
   "language": "python",
   "name": "python3"
  },
  "language_info": {
   "codemirror_mode": {
    "name": "ipython",
    "version": 3
   },
   "file_extension": ".py",
   "mimetype": "text/x-python",
   "name": "python",
   "nbconvert_exporter": "python",
   "pygments_lexer": "ipython3",
   "version": "3.6.0"
  }
 },
 "nbformat": 4,
 "nbformat_minor": 2
}
