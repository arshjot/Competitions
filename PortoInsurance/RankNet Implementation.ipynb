{
 "cells": [
  {
   "cell_type": "markdown",
   "metadata": {},
   "source": [
    "#### Import packages"
   ]
  },
  {
   "cell_type": "code",
   "execution_count": 1,
   "metadata": {},
   "outputs": [],
   "source": [
    "import pandas as pd\n",
    "import numpy as np\n",
    "from sklearn.model_selection import KFold\n",
    "from sklearn.model_selection import StratifiedKFold\n",
    "from sklearn.preprocessing import MinMaxScaler, StandardScaler\n",
    "from sklearn.preprocessing import OneHotEncoder\n",
    "from sklearn.model_selection import train_test_split\n",
    "\n",
    "import matplotlib.pyplot as plt\n",
    "from learning2rank.rank import RankNet\n",
    "from learning2rank.rank import ListNet"
   ]
  },
  {
   "cell_type": "markdown",
   "metadata": {},
   "source": [
    "#### Read Data "
   ]
  },
  {
   "cell_type": "code",
   "execution_count": 2,
   "metadata": {},
   "outputs": [
    {
     "name": "stdout",
     "output_type": "stream",
     "text": [
      "('Train shape:', (595212, 59))\n",
      "('Test shape:', (892816, 58))\n"
     ]
    }
   ],
   "source": [
    "# Read in our input data\n",
    "train = pd.read_csv('../Dataset/train/train.csv')\n",
    "test = pd.read_csv('../Dataset/test/test.csv')\n",
    "\n",
    "\n",
    "# This prints out (rows, columns) in each dataframe\n",
    "print('Train shape:', train.shape)\n",
    "print('Test shape:', test.shape)\n",
    "\n",
    "\n",
    "id_train = train['id'].values\n",
    "y = train.target.values\n",
    "id_test = test['id'].values"
   ]
  },
  {
   "cell_type": "code",
   "execution_count": 3,
   "metadata": {
    "collapsed": true
   },
   "outputs": [],
   "source": [
    "# Define the gini metric - from https://www.kaggle.com/c/ClaimPredictionChallenge/discussion/703#5897\n",
    "def gini(actual, pred, cmpcol = 0, sortcol = 1):\n",
    "    assert( len(actual) == len(pred) )\n",
    "    all = np.asarray(np.c_[ actual, pred, np.arange(len(actual)) ], dtype=np.float)\n",
    "    all = all[ np.lexsort((all[:,2], -1*all[:,1])) ]\n",
    "    totalLosses = all[:,0].sum()\n",
    "    giniSum = all[:,0].cumsum().sum() / totalLosses\n",
    "    \n",
    "    giniSum -= (len(actual) + 1) / 2.\n",
    "    return giniSum / len(actual)\n",
    " \n",
    "def gini_normalized(a, p):\n",
    "    return gini(a, p) / gini(a, a)\n",
    "\n",
    "# Create an XGBoost-compatible metric from Gini\n",
    "\n",
    "def gini_xgb(preds, dtrain):\n",
    "    labels = dtrain.get_label()\n",
    "    gini_score = gini_normalized(labels, preds)\n",
    "    return 'gini', gini_score\n",
    "\n",
    "def gini_lgb(preds, dtrain):\n",
    "    labels = dtrain.get_label()\n",
    "    gini_score = gini_normalized(labels, preds)\n",
    "    return 'gini', 1-gini_score, False"
   ]
  },
  {
   "cell_type": "code",
   "execution_count": 4,
   "metadata": {
    "collapsed": true
   },
   "outputs": [],
   "source": [
    "# We drop these variables as we don't want to train on them\n",
    "# The other 57 columns are all numerical and can be trained on without preprocessing\n",
    "\n",
    "train['countNAs'] = train.isin(['-1']).sum(axis=1)\n",
    "test['countNAs'] = test.isin(['-1']).sum(axis=1)\n",
    "\n",
    "train = train.drop(['id','target'], axis=1)\n",
    "test = test.drop(['id'], axis=1)\n",
    "\n",
    "# train_cont = train.drop(['id','ps_ind_02_cat','ps_ind_04_cat','ps_ind_05_cat','ps_car_01_cat',\n",
    "#                     'ps_car_02_cat','ps_car_03_cat','ps_car_04_cat','ps_car_05_cat',\n",
    "#                     'ps_car_06_cat','ps_car_07_cat','ps_car_08_cat','ps_car_09_cat',\n",
    "#                     'ps_car_10_cat','ps_car_11_cat','target'], axis=1)\n",
    "# test_cont = test.drop(['id','ps_ind_02_cat','ps_ind_04_cat','ps_ind_05_cat','ps_car_01_cat',\n",
    "#                     'ps_car_02_cat','ps_car_03_cat','ps_car_04_cat','ps_car_05_cat',\n",
    "#                     'ps_car_06_cat','ps_car_07_cat','ps_car_08_cat','ps_car_09_cat',\n",
    "#                     'ps_car_10_cat','ps_car_11_cat'], axis=1)\n",
    "\n",
    "# # One-hot encoding\n",
    "# one_hot = OneHotEncoder()\n",
    "# train_cat = train[['ps_ind_02_cat','ps_ind_04_cat','ps_ind_05_cat','ps_car_01_cat',\n",
    "#                     'ps_car_02_cat','ps_car_03_cat','ps_car_04_cat','ps_car_05_cat',\n",
    "#                     'ps_car_06_cat','ps_car_07_cat','ps_car_08_cat','ps_car_09_cat',\n",
    "#                     'ps_car_10_cat','ps_car_11_cat']]\n",
    "# test_cat = test[['ps_ind_02_cat','ps_ind_04_cat','ps_ind_05_cat','ps_car_01_cat',\n",
    "#                     'ps_car_02_cat','ps_car_03_cat','ps_car_04_cat','ps_car_05_cat',\n",
    "#                     'ps_car_06_cat','ps_car_07_cat','ps_car_08_cat','ps_car_09_cat',\n",
    "#                     'ps_car_10_cat','ps_car_11_cat']]\n",
    "\n",
    "# train_cat = train_cat.replace(-1, 999)\n",
    "# test_cat = test_cat.replace(-1, 999)\n",
    "\n",
    "# train_cat = one_hot.fit_transform(train_cat).toarray()\n",
    "# test_cat = one_hot.fit_transform(test_cat).toarray()\n",
    "\n",
    "# X = np.concatenate((train_cat, train_cont.values), axis=1)\n",
    "# test = np.concatenate((test_cat, test_cont.values), axis=1)\n",
    "# standardise = StandardScaler()\n",
    "# standardise = standardise.fit(X)\n",
    "# X = standardise.transform(X)\n",
    "# test = standardise.transform(test)\n",
    "# # print('Train shape:', train.shape)\n",
    "# # print('Test shape:', test.shape)"
   ]
  },
  {
   "cell_type": "code",
   "execution_count": 5,
   "metadata": {},
   "outputs": [],
   "source": [
    "X = train.values"
   ]
  },
  {
   "cell_type": "code",
   "execution_count": 6,
   "metadata": {
    "collapsed": true
   },
   "outputs": [],
   "source": [
    "X_train, X_val, y_train, y_val = train_test_split(X, y, test_size=0.2, random_state=42)"
   ]
  },
  {
   "cell_type": "markdown",
   "metadata": {},
   "source": [
    "#### RankNet "
   ]
  },
  {
   "cell_type": "code",
   "execution_count": 10,
   "metadata": {
    "collapsed": true
   },
   "outputs": [],
   "source": [
    "model = RankNet.RankNet()"
   ]
  },
  {
   "cell_type": "code",
   "execution_count": 11,
   "metadata": {},
   "outputs": [
    {
     "name": "stderr",
     "output_type": "stream",
     "text": [
      "\r",
      "  0%|          | 0/5000 [00:00<?, ?it/s]"
     ]
    },
    {
     "name": "stdout",
     "output_type": "stream",
     "text": [
      "load dataset\n",
      "('The number of data, train:', 380935, 'validate:', 95234)\n",
      "prepare initialized model!\n"
     ]
    },
    {
     "name": "stderr",
     "output_type": "stream",
     "text": [
      "  3%|▎         | 161/5000 [00:01<00:54, 88.72it/s]"
     ]
    },
    {
     "name": "stdout",
     "output_type": "stream",
     "text": [
      "step: 100\n",
      "NDCG@100 | train: 0.0734669888251, test: 0.0616783233232\n"
     ]
    },
    {
     "name": "stderr",
     "output_type": "stream",
     "text": [
      "  5%|▌         | 261/5000 [00:03<01:04, 73.92it/s]"
     ]
    },
    {
     "name": "stdout",
     "output_type": "stream",
     "text": [
      "step: 200\n",
      "NDCG@100 | train: 0.143841001285, test: 0.0417503389691\n"
     ]
    },
    {
     "name": "stderr",
     "output_type": "stream",
     "text": [
      "  7%|▋         | 362/5000 [00:05<01:07, 69.19it/s]"
     ]
    },
    {
     "name": "stdout",
     "output_type": "stream",
     "text": [
      "step: 300\n",
      "NDCG@100 | train: 0.024041319355, test: 0.0317844766396\n"
     ]
    },
    {
     "name": "stderr",
     "output_type": "stream",
     "text": [
      "  9%|▉         | 461/5000 [00:06<01:08, 66.26it/s]"
     ]
    },
    {
     "name": "stdout",
     "output_type": "stream",
     "text": [
      "step: 400\n",
      "NDCG@100 | train: 0.0875006159397, test: 0.0300361195331\n"
     ]
    },
    {
     "name": "stderr",
     "output_type": "stream",
     "text": [
      " 11%|█         | 561/5000 [00:08<01:08, 64.55it/s]"
     ]
    },
    {
     "name": "stdout",
     "output_type": "stream",
     "text": [
      "step: 500\n",
      "NDCG@100 | train: 0.0439412912319, test: 0.107212473947\n"
     ]
    },
    {
     "name": "stderr",
     "output_type": "stream",
     "text": [
      " 13%|█▎        | 661/5000 [00:10<01:08, 63.45it/s]"
     ]
    },
    {
     "name": "stdout",
     "output_type": "stream",
     "text": [
      "step: 600\n",
      "NDCG@100 | train: 0.0456311650737, test: 0.0882331223579\n"
     ]
    },
    {
     "name": "stderr",
     "output_type": "stream",
     "text": [
      " 15%|█▌        | 753/5000 [00:12<01:08, 61.99it/s]"
     ]
    },
    {
     "name": "stdout",
     "output_type": "stream",
     "text": [
      "step: 700\n",
      "NDCG@100 | train: 0.0498336764605, test: 0.0397500077792\n"
     ]
    },
    {
     "name": "stderr",
     "output_type": "stream",
     "text": [
      " 17%|█▋        | 844/5000 [00:13<01:08, 60.84it/s]"
     ]
    },
    {
     "name": "stdout",
     "output_type": "stream",
     "text": [
      "step: 800\n",
      "NDCG@100 | train: 0.0397159444897, test: 0.0285009065917\n"
     ]
    },
    {
     "name": "stderr",
     "output_type": "stream",
     "text": [
      " 19%|█▉        | 966/5000 [00:15<01:05, 61.59it/s]"
     ]
    },
    {
     "name": "stdout",
     "output_type": "stream",
     "text": [
      "step: 900\n",
      "NDCG@100 | train: 0.0406937047313, test: 0.0780913228984\n"
     ]
    },
    {
     "name": "stderr",
     "output_type": "stream",
     "text": [
      " 21%|██        | 1044/5000 [00:17<01:05, 60.04it/s]"
     ]
    },
    {
     "name": "stdout",
     "output_type": "stream",
     "text": [
      "step: 1000\n",
      "NDCG@100 | train: 0.0873985782474, test: 0.0349569510321\n"
     ]
    },
    {
     "name": "stderr",
     "output_type": "stream",
     "text": [
      " 23%|██▎       | 1165/5000 [00:19<01:03, 60.70it/s]"
     ]
    },
    {
     "name": "stdout",
     "output_type": "stream",
     "text": [
      "step: 1100\n",
      "NDCG@100 | train: 0.0438517417961, test: 0.0327714942258\n"
     ]
    },
    {
     "name": "stderr",
     "output_type": "stream",
     "text": [
      " 25%|██▍       | 1244/5000 [00:20<01:03, 59.57it/s]"
     ]
    },
    {
     "name": "stdout",
     "output_type": "stream",
     "text": [
      "step: 1200\n",
      "NDCG@100 | train: 0.0743265158343, test: 0.0718647332114\n"
     ]
    },
    {
     "name": "stderr",
     "output_type": "stream",
     "text": [
      " 27%|██▋       | 1364/5000 [00:22<01:00, 60.18it/s]"
     ]
    },
    {
     "name": "stdout",
     "output_type": "stream",
     "text": [
      "step: 1300\n",
      "NDCG@100 | train: 0.0220961754455, test: 0.0435133517722\n"
     ]
    },
    {
     "name": "stderr",
     "output_type": "stream",
     "text": [
      " 29%|██▉       | 1443/5000 [00:24<01:00, 59.26it/s]"
     ]
    },
    {
     "name": "stdout",
     "output_type": "stream",
     "text": [
      "step: 1400\n",
      "NDCG@100 | train: 0.0561176976347, test: 0.0592542458928\n"
     ]
    },
    {
     "name": "stderr",
     "output_type": "stream",
     "text": [
      " 31%|███       | 1561/5000 [00:26<00:57, 59.70it/s]"
     ]
    },
    {
     "name": "stdout",
     "output_type": "stream",
     "text": [
      "step: 1500\n",
      "NDCG@100 | train: 0.0230215565699, test: 0.109638179022\n"
     ]
    },
    {
     "name": "stderr",
     "output_type": "stream",
     "text": [
      " 33%|███▎      | 1642/5000 [00:27<00:56, 58.98it/s]"
     ]
    },
    {
     "name": "stdout",
     "output_type": "stream",
     "text": [
      "step: 1600\n",
      "NDCG@100 | train: 0.0761288189914, test: 0.0831689263449\n"
     ]
    },
    {
     "name": "stderr",
     "output_type": "stream",
     "text": [
      " 35%|███▌      | 1758/5000 [00:29<00:54, 59.33it/s]"
     ]
    },
    {
     "name": "stdout",
     "output_type": "stream",
     "text": [
      "step: 1700\n",
      "NDCG@100 | train: 0.0316138232114, test: 0.13795044833\n"
     ]
    },
    {
     "name": "stderr",
     "output_type": "stream",
     "text": [
      " 37%|███▋      | 1872/5000 [00:31<00:52, 59.61it/s]"
     ]
    },
    {
     "name": "stdout",
     "output_type": "stream",
     "text": [
      "step: 1800\n",
      "NDCG@100 | train: 0.0554173068353, test: 0.128961238008\n"
     ]
    },
    {
     "name": "stderr",
     "output_type": "stream",
     "text": [
      " 39%|███▉      | 1942/5000 [00:33<00:52, 58.71it/s]"
     ]
    },
    {
     "name": "stdout",
     "output_type": "stream",
     "text": [
      "step: 1900\n",
      "NDCG@100 | train: 0.0759008795063, test: 0.117318462497\n"
     ]
    },
    {
     "name": "stderr",
     "output_type": "stream",
     "text": [
      " 41%|████      | 2055/5000 [00:34<00:49, 58.93it/s]"
     ]
    },
    {
     "name": "stdout",
     "output_type": "stream",
     "text": [
      "step: 2000\n",
      "NDCG@100 | train: 0.0506465590566, test: 0.108259797575\n"
     ]
    },
    {
     "name": "stderr",
     "output_type": "stream",
     "text": [
      " 43%|████▎     | 2168/5000 [00:36<00:47, 59.14it/s]"
     ]
    },
    {
     "name": "stdout",
     "output_type": "stream",
     "text": [
      "step: 2100\n",
      "NDCG@100 | train: 0.0742920559433, test: 0.100760021317\n"
     ]
    },
    {
     "name": "stderr",
     "output_type": "stream",
     "text": [
      " 45%|████▍     | 2240/5000 [00:38<00:47, 58.45it/s]"
     ]
    },
    {
     "name": "stdout",
     "output_type": "stream",
     "text": [
      "step: 2200\n",
      "NDCG@100 | train: 0.053923890633, test: 0.0313603254612\n"
     ]
    },
    {
     "name": "stderr",
     "output_type": "stream",
     "text": [
      " 47%|████▋     | 2351/5000 [00:40<00:45, 58.60it/s]"
     ]
    },
    {
     "name": "stdout",
     "output_type": "stream",
     "text": [
      "step: 2300\n",
      "NDCG@100 | train: 0.0889479905805, test: 0.129624426641\n"
     ]
    },
    {
     "name": "stderr",
     "output_type": "stream",
     "text": [
      " 49%|████▉     | 2463/5000 [00:41<00:43, 58.76it/s]"
     ]
    },
    {
     "name": "stdout",
     "output_type": "stream",
     "text": [
      "step: 2400\n",
      "NDCG@100 | train: 0.131129852462, test: 0.116827263295\n"
     ]
    },
    {
     "name": "stderr",
     "output_type": "stream",
     "text": [
      " 51%|█████     | 2540/5000 [00:43<00:42, 58.22it/s]"
     ]
    },
    {
     "name": "stdout",
     "output_type": "stream",
     "text": [
      "step: 2500\n",
      "NDCG@100 | train: 0.109926220261, test: 0.145717904343\n"
     ]
    },
    {
     "name": "stderr",
     "output_type": "stream",
     "text": [
      " 53%|█████▎    | 2651/5000 [00:45<00:40, 58.40it/s]"
     ]
    },
    {
     "name": "stdout",
     "output_type": "stream",
     "text": [
      "step: 2600\n",
      "NDCG@100 | train: 0.147491588801, test: 0.115957651277\n"
     ]
    },
    {
     "name": "stderr",
     "output_type": "stream",
     "text": [
      " 55%|█████▌    | 2762/5000 [00:47<00:38, 58.55it/s]"
     ]
    },
    {
     "name": "stdout",
     "output_type": "stream",
     "text": [
      "step: 2700\n",
      "NDCG@100 | train: 0.131496165771, test: 0.0970652680131\n"
     ]
    },
    {
     "name": "stderr",
     "output_type": "stream",
     "text": [
      " 57%|█████▋    | 2840/5000 [00:48<00:37, 58.11it/s]"
     ]
    },
    {
     "name": "stdout",
     "output_type": "stream",
     "text": [
      "step: 2800\n",
      "NDCG@100 | train: 0.0801641396727, test: 0.0422439768065\n"
     ]
    },
    {
     "name": "stderr",
     "output_type": "stream",
     "text": [
      " 59%|█████▉    | 2949/5000 [00:50<00:35, 58.20it/s]"
     ]
    },
    {
     "name": "stdout",
     "output_type": "stream",
     "text": [
      "step: 2900\n",
      "NDCG@100 | train: 0.0763159863635, test: 0.0775234709384\n"
     ]
    },
    {
     "name": "stderr",
     "output_type": "stream",
     "text": [
      " 61%|██████    | 3059/5000 [00:52<00:33, 58.30it/s]"
     ]
    },
    {
     "name": "stdout",
     "output_type": "stream",
     "text": [
      "step: 3000\n",
      "NDCG@100 | train: 0.0346093836848, test: 0.0686848423558\n"
     ]
    },
    {
     "name": "stderr",
     "output_type": "stream",
     "text": [
      " 63%|██████▎   | 3168/5000 [00:54<00:31, 58.40it/s]"
     ]
    },
    {
     "name": "stdout",
     "output_type": "stream",
     "text": [
      "step: 3100\n",
      "NDCG@100 | train: 0.0367657217901, test: 0.0323444912889\n"
     ]
    },
    {
     "name": "stderr",
     "output_type": "stream",
     "text": [
      " 65%|██████▍   | 3239/5000 [00:55<00:30, 57.93it/s]"
     ]
    },
    {
     "name": "stdout",
     "output_type": "stream",
     "text": [
      "step: 3200\n",
      "NDCG@100 | train: 0.027769342211, test: 0.0462937070816\n"
     ]
    },
    {
     "name": "stderr",
     "output_type": "stream",
     "text": [
      " 67%|██████▋   | 3347/5000 [00:57<00:28, 58.00it/s]"
     ]
    },
    {
     "name": "stdout",
     "output_type": "stream",
     "text": [
      "step: 3300\n",
      "NDCG@100 | train: 0.0839193537697, test: 0.0234288535604\n"
     ]
    },
    {
     "name": "stderr",
     "output_type": "stream",
     "text": [
      " 69%|██████▉   | 3454/5000 [00:59<00:26, 58.06it/s]"
     ]
    },
    {
     "name": "stdout",
     "output_type": "stream",
     "text": [
      "step: 3400\n",
      "NDCG@100 | train: 0.0883287891157, test: 0.00751209321231\n"
     ]
    },
    {
     "name": "stderr",
     "output_type": "stream",
     "text": [
      " 71%|███████   | 3559/5000 [01:01<00:24, 58.10it/s]"
     ]
    },
    {
     "name": "stdout",
     "output_type": "stream",
     "text": [
      "step: 3500\n",
      "NDCG@100 | train: 0.0893872475027, test: 0.0945823707225\n"
     ]
    },
    {
     "name": "stderr",
     "output_type": "stream",
     "text": [
      " 73%|███████▎  | 3665/5000 [01:03<00:22, 58.17it/s]"
     ]
    },
    {
     "name": "stdout",
     "output_type": "stream",
     "text": [
      "step: 3600\n",
      "NDCG@100 | train: 0.0256623837001, test: 0.0244557279736\n"
     ]
    },
    {
     "name": "stderr",
     "output_type": "stream",
     "text": [
      " 75%|███████▍  | 3737/5000 [01:04<00:21, 57.78it/s]"
     ]
    },
    {
     "name": "stdout",
     "output_type": "stream",
     "text": [
      "step: 3700\n",
      "NDCG@100 | train: 0.0507248750452, test: 0.0305050619532\n"
     ]
    },
    {
     "name": "stderr",
     "output_type": "stream",
     "text": [
      " 77%|███████▋  | 3841/5000 [01:06<00:20, 57.80it/s]"
     ]
    },
    {
     "name": "stdout",
     "output_type": "stream",
     "text": [
      "step: 3800\n",
      "NDCG@100 | train: 0.0846975037594, test: 0.0733020087676\n"
     ]
    },
    {
     "name": "stderr",
     "output_type": "stream",
     "text": [
      " 79%|███████▉  | 3946/5000 [01:08<00:18, 57.85it/s]"
     ]
    },
    {
     "name": "stdout",
     "output_type": "stream",
     "text": [
      "step: 3900\n",
      "NDCG@100 | train: 0.0821111723561, test: 0.0192605581832\n"
     ]
    },
    {
     "name": "stderr",
     "output_type": "stream",
     "text": [
      " 81%|████████  | 4051/5000 [01:09<00:16, 57.92it/s]"
     ]
    },
    {
     "name": "stdout",
     "output_type": "stream",
     "text": [
      "step: 4000\n",
      "NDCG@100 | train: 0.0345490892746, test: 0.0384251012498\n"
     ]
    },
    {
     "name": "stderr",
     "output_type": "stream",
     "text": [
      " 83%|████████▎ | 4155/5000 [01:11<00:14, 57.95it/s]"
     ]
    },
    {
     "name": "stdout",
     "output_type": "stream",
     "text": [
      "step: 4100\n",
      "NDCG@100 | train: 0.0427102788838, test: 0.0573699756156\n"
     ]
    },
    {
     "name": "stderr",
     "output_type": "stream",
     "text": [
      " 85%|████████▌ | 4258/5000 [01:13<00:12, 57.95it/s]"
     ]
    },
    {
     "name": "stdout",
     "output_type": "stream",
     "text": [
      "step: 4200\n",
      "NDCG@100 | train: 0.0758504167259, test: 0.0359183367001\n"
     ]
    },
    {
     "name": "stderr",
     "output_type": "stream",
     "text": [
      " 87%|████████▋ | 4362/5000 [01:15<00:11, 57.98it/s]"
     ]
    },
    {
     "name": "stdout",
     "output_type": "stream",
     "text": [
      "step: 4300\n",
      "NDCG@100 | train: 0.105931703194, test: 0.0810254415504\n"
     ]
    },
    {
     "name": "stderr",
     "output_type": "stream",
     "text": [
      " 89%|████████▉ | 4467/5000 [01:16<00:09, 58.03it/s]"
     ]
    },
    {
     "name": "stdout",
     "output_type": "stream",
     "text": [
      "step: 4400\n",
      "NDCG@100 | train: 0.112597123666, test: 0.05598629064\n"
     ]
    },
    {
     "name": "stderr",
     "output_type": "stream",
     "text": [
      " 91%|█████████ | 4537/5000 [01:18<00:08, 57.70it/s]"
     ]
    },
    {
     "name": "stdout",
     "output_type": "stream",
     "text": [
      "step: 4500\n",
      "NDCG@100 | train: 0.109251033127, test: 0.0721073746468\n"
     ]
    },
    {
     "name": "stderr",
     "output_type": "stream",
     "text": [
      " 93%|█████████▎| 4640/5000 [01:20<00:06, 57.71it/s]"
     ]
    },
    {
     "name": "stdout",
     "output_type": "stream",
     "text": [
      "step: 4600\n",
      "NDCG@100 | train: 0.109066951281, test: 0.0685078318454\n"
     ]
    },
    {
     "name": "stderr",
     "output_type": "stream",
     "text": [
      " 95%|█████████▍| 4743/5000 [01:22<00:04, 57.73it/s]"
     ]
    },
    {
     "name": "stdout",
     "output_type": "stream",
     "text": [
      "step: 4700\n",
      "NDCG@100 | train: 0.0340313218002, test: 0.077136382631\n"
     ]
    },
    {
     "name": "stderr",
     "output_type": "stream",
     "text": [
      " 97%|█████████▋| 4847/5000 [01:23<00:02, 57.74it/s]"
     ]
    },
    {
     "name": "stdout",
     "output_type": "stream",
     "text": [
      "step: 4800\n",
      "NDCG@100 | train: 0.0960204608238, test: 0.0238033321937\n"
     ]
    },
    {
     "name": "stderr",
     "output_type": "stream",
     "text": [
      " 99%|█████████▉| 4950/5000 [01:25<00:00, 57.74it/s]"
     ]
    },
    {
     "name": "stdout",
     "output_type": "stream",
     "text": [
      "step: 4900\n",
      "NDCG@100 | train: 0.0423879033843, test: 0.111161521527\n"
     ]
    },
    {
     "name": "stderr",
     "output_type": "stream",
     "text": [
      "100%|██████████| 5000/5000 [01:27<00:00, 57.23it/s]"
     ]
    },
    {
     "name": "stdout",
     "output_type": "stream",
     "text": [
      "step: 5000\n",
      "NDCG@100 | train: 0.0915668364523, test: 0.0420745086167\n",
      "save the model\n",
      "save the optimizer\n"
     ]
    },
    {
     "name": "stderr",
     "output_type": "stream",
     "text": [
      "\n"
     ]
    }
   ],
   "source": [
    "model.fit(X_train, y_train, \n",
    "          batchsize=100, n_iter=5000, n_units1=512, n_units2=128, tv_ratio=0.8,\n",
    "          optimizerAlgorithm=\"Adam\", savefigName=\"result.pdf\", savemodelName=\"RankNet.model\")"
   ]
  },
  {
   "cell_type": "code",
   "execution_count": 21,
   "metadata": {},
   "outputs": [],
   "source": [
    "pred_val = model.predict(X_val)"
   ]
  },
  {
   "cell_type": "code",
   "execution_count": 19,
   "metadata": {},
   "outputs": [
    {
     "data": {
      "text/plain": [
       "-0.032743058415376149"
      ]
     },
     "execution_count": 19,
     "metadata": {},
     "output_type": "execute_result"
    }
   ],
   "source": [
    "gini_normalized(y_val, pred_val)"
   ]
  },
  {
   "cell_type": "markdown",
   "metadata": {},
   "source": [
    "A waste!"
   ]
  },
  {
   "cell_type": "markdown",
   "metadata": {},
   "source": [
    "#### ListNet"
   ]
  },
  {
   "cell_type": "code",
   "execution_count": 7,
   "metadata": {
    "collapsed": true
   },
   "outputs": [],
   "source": [
    "model = ListNet.ListNet()"
   ]
  },
  {
   "cell_type": "code",
   "execution_count": null,
   "metadata": {},
   "outputs": [
    {
     "name": "stderr",
     "output_type": "stream",
     "text": [
      "\r",
      "  0%|          | 0/3810 [00:00<?, ?it/s]"
     ]
    },
    {
     "name": "stdout",
     "output_type": "stream",
     "text": [
      "load dataset\n",
      "('The number of data, train:', 380935, 'validate:', 95234)\n",
      "prepare initialized model!\n",
      "Start training and validation loop......\n",
      "('epoch', 1)\n"
     ]
    },
    {
     "name": "stderr",
     "output_type": "stream",
     "text": [
      "100%|██████████| 3810/3810 [00:51<00:00, 74.20it/s]\n",
      "  6%|▌         | 57/953 [00:00<00:01, 564.65it/s]"
     ]
    },
    {
     "name": "stdout",
     "output_type": "stream",
     "text": [
      "train mean loss=0.0415852282434\n"
     ]
    },
    {
     "name": "stderr",
     "output_type": "stream",
     "text": [
      "100%|██████████| 953/953 [00:01<00:00, 570.72it/s]\n"
     ]
    },
    {
     "name": "stdout",
     "output_type": "stream",
     "text": [
      "test  mean loss=0.0\n"
     ]
    },
    {
     "name": "stderr",
     "output_type": "stream",
     "text": [
      "  0%|          | 8/3810 [00:00<00:51, 73.74it/s]"
     ]
    },
    {
     "name": "stdout",
     "output_type": "stream",
     "text": [
      "epoch: 2\n",
      "NDCG@100 | train: 0.0251646568178, test: 0.025829837313\n",
      "('epoch', 2)\n"
     ]
    },
    {
     "name": "stderr",
     "output_type": "stream",
     "text": [
      "100%|██████████| 3810/3810 [00:52<00:00, 73.25it/s]\n",
      "  6%|▌         | 58/953 [00:00<00:01, 576.82it/s]"
     ]
    },
    {
     "name": "stdout",
     "output_type": "stream",
     "text": [
      "train mean loss=0.0\n"
     ]
    },
    {
     "name": "stderr",
     "output_type": "stream",
     "text": [
      "100%|██████████| 953/953 [00:01<00:00, 573.70it/s]\n"
     ]
    },
    {
     "name": "stdout",
     "output_type": "stream",
     "text": [
      "test  mean loss=0.0\n"
     ]
    },
    {
     "name": "stderr",
     "output_type": "stream",
     "text": [
      "  0%|          | 8/3810 [00:00<00:50, 74.60it/s]"
     ]
    },
    {
     "name": "stdout",
     "output_type": "stream",
     "text": [
      "epoch: 3\n",
      "NDCG@100 | train: 0.0251646568178, test: 0.025829837313\n",
      "('epoch', 3)\n"
     ]
    },
    {
     "name": "stderr",
     "output_type": "stream",
     "text": [
      "100%|██████████| 3810/3810 [00:51<00:00, 73.87it/s]\n",
      "  6%|▌         | 58/953 [00:00<00:01, 575.92it/s]"
     ]
    },
    {
     "name": "stdout",
     "output_type": "stream",
     "text": [
      "train mean loss=0.0\n"
     ]
    },
    {
     "name": "stderr",
     "output_type": "stream",
     "text": [
      "100%|██████████| 953/953 [00:01<00:00, 572.93it/s]\n"
     ]
    },
    {
     "name": "stdout",
     "output_type": "stream",
     "text": [
      "test  mean loss=0.0\n"
     ]
    },
    {
     "name": "stderr",
     "output_type": "stream",
     "text": [
      "  0%|          | 8/3810 [00:00<00:51, 73.27it/s]"
     ]
    },
    {
     "name": "stdout",
     "output_type": "stream",
     "text": [
      "epoch: 4\n",
      "NDCG@100 | train: 0.0251646568178, test: 0.025829837313\n",
      "('epoch', 4)\n"
     ]
    },
    {
     "name": "stderr",
     "output_type": "stream",
     "text": [
      "100%|██████████| 3810/3810 [00:51<00:00, 73.61it/s]\n",
      "  6%|▌         | 58/953 [00:00<00:01, 575.93it/s]"
     ]
    },
    {
     "name": "stdout",
     "output_type": "stream",
     "text": [
      "train mean loss=0.0\n"
     ]
    },
    {
     "name": "stderr",
     "output_type": "stream",
     "text": [
      "100%|██████████| 953/953 [00:01<00:00, 573.89it/s]\n"
     ]
    },
    {
     "name": "stdout",
     "output_type": "stream",
     "text": [
      "test  mean loss=0.0\n"
     ]
    },
    {
     "name": "stderr",
     "output_type": "stream",
     "text": [
      "  0%|          | 8/3810 [00:00<00:51, 74.01it/s]"
     ]
    },
    {
     "name": "stdout",
     "output_type": "stream",
     "text": [
      "epoch: 5\n",
      "NDCG@100 | train: 0.0251646568178, test: 0.025829837313\n",
      "('epoch', 5)\n"
     ]
    },
    {
     "name": "stderr",
     "output_type": "stream",
     "text": [
      "100%|██████████| 3810/3810 [00:52<00:00, 73.18it/s]\n",
      "  6%|▌         | 58/953 [00:00<00:01, 576.53it/s]"
     ]
    },
    {
     "name": "stdout",
     "output_type": "stream",
     "text": [
      "train mean loss=0.0\n"
     ]
    },
    {
     "name": "stderr",
     "output_type": "stream",
     "text": [
      "100%|██████████| 953/953 [00:01<00:00, 572.95it/s]\n"
     ]
    },
    {
     "name": "stdout",
     "output_type": "stream",
     "text": [
      "test  mean loss=0.0\n"
     ]
    },
    {
     "name": "stderr",
     "output_type": "stream",
     "text": [
      "  0%|          | 8/3810 [00:00<00:51, 73.65it/s]"
     ]
    },
    {
     "name": "stdout",
     "output_type": "stream",
     "text": [
      "epoch: 6\n",
      "NDCG@100 | train: 0.0251646568178, test: 0.025829837313\n",
      "('epoch', 6)\n"
     ]
    },
    {
     "name": "stderr",
     "output_type": "stream",
     "text": [
      "100%|██████████| 3810/3810 [00:52<00:00, 73.11it/s]\n",
      "  6%|▌         | 58/953 [00:00<00:01, 573.17it/s]"
     ]
    },
    {
     "name": "stdout",
     "output_type": "stream",
     "text": [
      "train mean loss=0.0\n"
     ]
    },
    {
     "name": "stderr",
     "output_type": "stream",
     "text": [
      "100%|██████████| 953/953 [00:01<00:00, 571.62it/s]\n"
     ]
    },
    {
     "name": "stdout",
     "output_type": "stream",
     "text": [
      "test  mean loss=0.0\n"
     ]
    },
    {
     "name": "stderr",
     "output_type": "stream",
     "text": [
      "  0%|          | 8/3810 [00:00<00:51, 73.39it/s]"
     ]
    },
    {
     "name": "stdout",
     "output_type": "stream",
     "text": [
      "epoch: 7\n",
      "NDCG@100 | train: 0.0251646568178, test: 0.025829837313\n",
      "('epoch', 7)\n"
     ]
    },
    {
     "name": "stderr",
     "output_type": "stream",
     "text": [
      "100%|██████████| 3810/3810 [00:52<00:00, 72.92it/s]\n",
      "  6%|▌         | 58/953 [00:00<00:01, 573.77it/s]"
     ]
    },
    {
     "name": "stdout",
     "output_type": "stream",
     "text": [
      "train mean loss=0.0\n"
     ]
    },
    {
     "name": "stderr",
     "output_type": "stream",
     "text": [
      "100%|██████████| 953/953 [00:01<00:00, 571.66it/s]\n"
     ]
    },
    {
     "name": "stdout",
     "output_type": "stream",
     "text": [
      "test  mean loss=0.0\n"
     ]
    },
    {
     "name": "stderr",
     "output_type": "stream",
     "text": [
      "  0%|          | 8/3810 [00:00<00:52, 72.84it/s]"
     ]
    },
    {
     "name": "stdout",
     "output_type": "stream",
     "text": [
      "epoch: 8\n",
      "NDCG@100 | train: 0.0251646568178, test: 0.025829837313\n",
      "('epoch', 8)\n"
     ]
    },
    {
     "name": "stderr",
     "output_type": "stream",
     "text": [
      "100%|██████████| 3810/3810 [00:51<00:00, 73.32it/s]\n",
      "  6%|▌         | 58/953 [00:00<00:01, 572.03it/s]"
     ]
    },
    {
     "name": "stdout",
     "output_type": "stream",
     "text": [
      "train mean loss=0.0\n"
     ]
    },
    {
     "name": "stderr",
     "output_type": "stream",
     "text": [
      "100%|██████████| 953/953 [00:01<00:00, 569.96it/s]\n"
     ]
    },
    {
     "name": "stdout",
     "output_type": "stream",
     "text": [
      "test  mean loss=0.0\n"
     ]
    },
    {
     "name": "stderr",
     "output_type": "stream",
     "text": [
      "  0%|          | 8/3810 [00:00<00:51, 73.64it/s]"
     ]
    },
    {
     "name": "stdout",
     "output_type": "stream",
     "text": [
      "epoch: 9\n",
      "NDCG@100 | train: 0.0251646568178, test: 0.025829837313\n",
      "('epoch', 9)\n"
     ]
    },
    {
     "name": "stderr",
     "output_type": "stream",
     "text": [
      "100%|██████████| 3810/3810 [00:52<00:00, 72.94it/s]\n",
      "  6%|▌         | 58/953 [00:00<00:01, 573.24it/s]"
     ]
    },
    {
     "name": "stdout",
     "output_type": "stream",
     "text": [
      "train mean loss=0.0\n"
     ]
    },
    {
     "name": "stderr",
     "output_type": "stream",
     "text": [
      "100%|██████████| 953/953 [00:01<00:00, 570.30it/s]\n"
     ]
    },
    {
     "name": "stdout",
     "output_type": "stream",
     "text": [
      "test  mean loss=0.0\n"
     ]
    },
    {
     "name": "stderr",
     "output_type": "stream",
     "text": [
      "  0%|          | 8/3810 [00:00<00:51, 73.67it/s]"
     ]
    },
    {
     "name": "stdout",
     "output_type": "stream",
     "text": [
      "epoch: 10\n",
      "NDCG@100 | train: 0.0251646568178, test: 0.025829837313\n",
      "('epoch', 10)\n"
     ]
    },
    {
     "name": "stderr",
     "output_type": "stream",
     "text": [
      "100%|██████████| 3810/3810 [00:51<00:00, 73.48it/s]\n",
      "  6%|▌         | 58/953 [00:00<00:01, 576.07it/s]"
     ]
    },
    {
     "name": "stdout",
     "output_type": "stream",
     "text": [
      "train mean loss=0.0\n"
     ]
    },
    {
     "name": "stderr",
     "output_type": "stream",
     "text": [
      "100%|██████████| 953/953 [00:01<00:00, 571.64it/s]\n"
     ]
    },
    {
     "name": "stdout",
     "output_type": "stream",
     "text": [
      "test  mean loss=0.0\n"
     ]
    },
    {
     "name": "stderr",
     "output_type": "stream",
     "text": [
      "  0%|          | 8/3810 [00:00<00:52, 72.95it/s]"
     ]
    },
    {
     "name": "stdout",
     "output_type": "stream",
     "text": [
      "epoch: 11\n",
      "NDCG@100 | train: 0.0251646568178, test: 0.025829837313\n",
      "('epoch', 11)\n"
     ]
    },
    {
     "name": "stderr",
     "output_type": "stream",
     "text": [
      "100%|██████████| 3810/3810 [00:52<00:00, 73.23it/s]\n",
      "  6%|▌         | 58/953 [00:00<00:01, 572.46it/s]"
     ]
    },
    {
     "name": "stdout",
     "output_type": "stream",
     "text": [
      "train mean loss=0.0\n"
     ]
    },
    {
     "name": "stderr",
     "output_type": "stream",
     "text": [
      "100%|██████████| 953/953 [00:01<00:00, 570.92it/s]\n"
     ]
    },
    {
     "name": "stdout",
     "output_type": "stream",
     "text": [
      "test  mean loss=0.0\n"
     ]
    },
    {
     "name": "stderr",
     "output_type": "stream",
     "text": [
      "  0%|          | 8/3810 [00:00<00:51, 73.43it/s]"
     ]
    },
    {
     "name": "stdout",
     "output_type": "stream",
     "text": [
      "epoch: 12\n",
      "NDCG@100 | train: 0.0251646568178, test: 0.025829837313\n",
      "('epoch', 12)\n"
     ]
    },
    {
     "name": "stderr",
     "output_type": "stream",
     "text": [
      "100%|██████████| 3810/3810 [00:52<00:00, 72.75it/s]\n",
      "  6%|▌         | 58/953 [00:00<00:01, 571.94it/s]"
     ]
    },
    {
     "name": "stdout",
     "output_type": "stream",
     "text": [
      "train mean loss=0.0\n"
     ]
    },
    {
     "name": "stderr",
     "output_type": "stream",
     "text": [
      "100%|██████████| 953/953 [00:01<00:00, 569.80it/s]\n"
     ]
    },
    {
     "name": "stdout",
     "output_type": "stream",
     "text": [
      "test  mean loss=0.0\n"
     ]
    },
    {
     "name": "stderr",
     "output_type": "stream",
     "text": [
      "  0%|          | 8/3810 [00:00<00:51, 73.85it/s]"
     ]
    },
    {
     "name": "stdout",
     "output_type": "stream",
     "text": [
      "epoch: 13\n",
      "NDCG@100 | train: 0.0251646568178, test: 0.025829837313\n",
      "('epoch', 13)\n"
     ]
    },
    {
     "name": "stderr",
     "output_type": "stream",
     "text": [
      "100%|██████████| 3810/3810 [00:51<00:00, 73.33it/s]\n",
      "  6%|▌         | 58/953 [00:00<00:01, 572.73it/s]"
     ]
    },
    {
     "name": "stdout",
     "output_type": "stream",
     "text": [
      "train mean loss=0.0\n"
     ]
    },
    {
     "name": "stderr",
     "output_type": "stream",
     "text": [
      "100%|██████████| 953/953 [00:01<00:00, 571.26it/s]\n"
     ]
    },
    {
     "name": "stdout",
     "output_type": "stream",
     "text": [
      "test  mean loss=0.0\n"
     ]
    },
    {
     "name": "stderr",
     "output_type": "stream",
     "text": [
      "  0%|          | 8/3810 [00:00<00:51, 73.80it/s]"
     ]
    },
    {
     "name": "stdout",
     "output_type": "stream",
     "text": [
      "epoch: 14\n",
      "NDCG@100 | train: 0.0251646568178, test: 0.025829837313\n",
      "('epoch', 14)\n"
     ]
    },
    {
     "name": "stderr",
     "output_type": "stream",
     "text": [
      "100%|██████████| 3810/3810 [00:51<00:00, 73.46it/s]\n",
      "  6%|▌         | 58/953 [00:00<00:01, 575.06it/s]"
     ]
    },
    {
     "name": "stdout",
     "output_type": "stream",
     "text": [
      "train mean loss=0.0\n"
     ]
    },
    {
     "name": "stderr",
     "output_type": "stream",
     "text": [
      "100%|██████████| 953/953 [00:01<00:00, 574.14it/s]\n"
     ]
    },
    {
     "name": "stdout",
     "output_type": "stream",
     "text": [
      "test  mean loss=0.0\n"
     ]
    },
    {
     "name": "stderr",
     "output_type": "stream",
     "text": [
      "  0%|          | 8/3810 [00:00<00:51, 74.04it/s]"
     ]
    },
    {
     "name": "stdout",
     "output_type": "stream",
     "text": [
      "epoch: 15\n",
      "NDCG@100 | train: 0.0251646568178, test: 0.025829837313\n",
      "('epoch', 15)\n"
     ]
    },
    {
     "name": "stderr",
     "output_type": "stream",
     "text": [
      "100%|██████████| 3810/3810 [00:51<00:00, 73.53it/s]\n",
      "  6%|▌         | 58/953 [00:00<00:01, 578.77it/s]"
     ]
    },
    {
     "name": "stdout",
     "output_type": "stream",
     "text": [
      "train mean loss=0.0\n"
     ]
    },
    {
     "name": "stderr",
     "output_type": "stream",
     "text": [
      "100%|██████████| 953/953 [00:01<00:00, 575.60it/s]\n"
     ]
    },
    {
     "name": "stdout",
     "output_type": "stream",
     "text": [
      "test  mean loss=0.0\n"
     ]
    },
    {
     "name": "stderr",
     "output_type": "stream",
     "text": [
      "  0%|          | 8/3810 [00:00<00:51, 74.17it/s]"
     ]
    },
    {
     "name": "stdout",
     "output_type": "stream",
     "text": [
      "epoch: 16\n",
      "NDCG@100 | train: 0.0251646568178, test: 0.025829837313\n",
      "('epoch', 16)\n"
     ]
    },
    {
     "name": "stderr",
     "output_type": "stream",
     "text": [
      "100%|██████████| 3810/3810 [00:51<00:00, 73.44it/s]\n",
      "  6%|▌         | 58/953 [00:00<00:01, 577.15it/s]"
     ]
    },
    {
     "name": "stdout",
     "output_type": "stream",
     "text": [
      "train mean loss=0.0\n"
     ]
    },
    {
     "name": "stderr",
     "output_type": "stream",
     "text": [
      "100%|██████████| 953/953 [00:01<00:00, 575.23it/s]\n"
     ]
    },
    {
     "name": "stdout",
     "output_type": "stream",
     "text": [
      "test  mean loss=0.0\n"
     ]
    },
    {
     "name": "stderr",
     "output_type": "stream",
     "text": [
      "  0%|          | 8/3810 [00:00<00:51, 73.79it/s]"
     ]
    },
    {
     "name": "stdout",
     "output_type": "stream",
     "text": [
      "epoch: 17\n",
      "NDCG@100 | train: 0.0251646568178, test: 0.025829837313\n",
      "('epoch', 17)\n"
     ]
    },
    {
     "name": "stderr",
     "output_type": "stream",
     "text": [
      "100%|██████████| 3810/3810 [00:52<00:00, 73.25it/s]\n",
      "  6%|▌         | 58/953 [00:00<00:01, 578.08it/s]"
     ]
    },
    {
     "name": "stdout",
     "output_type": "stream",
     "text": [
      "train mean loss=0.0\n"
     ]
    },
    {
     "name": "stderr",
     "output_type": "stream",
     "text": [
      "100%|██████████| 953/953 [00:01<00:00, 577.11it/s]\n"
     ]
    },
    {
     "name": "stdout",
     "output_type": "stream",
     "text": [
      "test  mean loss=0.0\n"
     ]
    },
    {
     "name": "stderr",
     "output_type": "stream",
     "text": [
      "  0%|          | 8/3810 [00:00<00:51, 73.90it/s]"
     ]
    },
    {
     "name": "stdout",
     "output_type": "stream",
     "text": [
      "epoch: 18\n",
      "NDCG@100 | train: 0.0251646568178, test: 0.025829837313\n",
      "('epoch', 18)\n"
     ]
    },
    {
     "name": "stderr",
     "output_type": "stream",
     "text": [
      "100%|██████████| 3810/3810 [00:52<00:00, 73.23it/s]\n",
      "  6%|▌         | 58/953 [00:00<00:01, 577.31it/s]"
     ]
    },
    {
     "name": "stdout",
     "output_type": "stream",
     "text": [
      "train mean loss=0.0\n"
     ]
    },
    {
     "name": "stderr",
     "output_type": "stream",
     "text": [
      "100%|██████████| 953/953 [00:01<00:00, 574.20it/s]\n"
     ]
    },
    {
     "name": "stdout",
     "output_type": "stream",
     "text": [
      "test  mean loss=0.0\n"
     ]
    },
    {
     "name": "stderr",
     "output_type": "stream",
     "text": [
      "  0%|          | 8/3810 [00:00<00:51, 73.51it/s]"
     ]
    },
    {
     "name": "stdout",
     "output_type": "stream",
     "text": [
      "epoch: 19\n",
      "NDCG@100 | train: 0.0251646568178, test: 0.025829837313\n",
      "('epoch', 19)\n"
     ]
    },
    {
     "name": "stderr",
     "output_type": "stream",
     "text": [
      "100%|██████████| 3810/3810 [00:52<00:00, 73.00it/s]\n",
      "  6%|▌         | 59/953 [00:00<00:01, 583.70it/s]"
     ]
    },
    {
     "name": "stdout",
     "output_type": "stream",
     "text": [
      "train mean loss=0.0\n"
     ]
    },
    {
     "name": "stderr",
     "output_type": "stream",
     "text": [
      "100%|██████████| 953/953 [00:01<00:00, 579.68it/s]\n"
     ]
    },
    {
     "name": "stdout",
     "output_type": "stream",
     "text": [
      "test  mean loss=0.0\n"
     ]
    },
    {
     "name": "stderr",
     "output_type": "stream",
     "text": [
      "  0%|          | 8/3810 [00:00<00:51, 74.24it/s]"
     ]
    },
    {
     "name": "stdout",
     "output_type": "stream",
     "text": [
      "epoch: 20\n",
      "NDCG@100 | train: 0.0251646568178, test: 0.025829837313\n",
      "('epoch', 20)\n"
     ]
    },
    {
     "name": "stderr",
     "output_type": "stream",
     "text": [
      "100%|██████████| 3810/3810 [00:51<00:00, 73.41it/s]\n",
      "  6%|▌         | 58/953 [00:00<00:01, 573.49it/s]"
     ]
    },
    {
     "name": "stdout",
     "output_type": "stream",
     "text": [
      "train mean loss=0.0\n"
     ]
    },
    {
     "name": "stderr",
     "output_type": "stream",
     "text": [
      "100%|██████████| 953/953 [00:01<00:00, 578.55it/s]\n"
     ]
    },
    {
     "name": "stdout",
     "output_type": "stream",
     "text": [
      "test  mean loss=0.0\n"
     ]
    },
    {
     "name": "stderr",
     "output_type": "stream",
     "text": [
      "  0%|          | 8/3810 [00:00<00:51, 73.97it/s]"
     ]
    },
    {
     "name": "stdout",
     "output_type": "stream",
     "text": [
      "epoch: 21\n",
      "NDCG@100 | train: 0.0251646568178, test: 0.025829837313\n",
      "('epoch', 21)\n"
     ]
    },
    {
     "name": "stderr",
     "output_type": "stream",
     "text": [
      "100%|██████████| 3810/3810 [00:51<00:00, 73.39it/s]\n",
      "  6%|▌         | 59/953 [00:00<00:01, 580.21it/s]"
     ]
    },
    {
     "name": "stdout",
     "output_type": "stream",
     "text": [
      "train mean loss=0.0\n"
     ]
    },
    {
     "name": "stderr",
     "output_type": "stream",
     "text": [
      "100%|██████████| 953/953 [00:01<00:00, 578.36it/s]\n"
     ]
    },
    {
     "name": "stdout",
     "output_type": "stream",
     "text": [
      "test  mean loss=0.0\n"
     ]
    },
    {
     "name": "stderr",
     "output_type": "stream",
     "text": [
      "  0%|          | 8/3810 [00:00<00:51, 73.48it/s]"
     ]
    },
    {
     "name": "stdout",
     "output_type": "stream",
     "text": [
      "epoch: 22\n",
      "NDCG@100 | train: 0.0251646568178, test: 0.025829837313\n",
      "('epoch', 22)\n"
     ]
    },
    {
     "name": "stderr",
     "output_type": "stream",
     "text": [
      "100%|██████████| 3810/3810 [00:52<00:00, 73.23it/s]\n",
      "  6%|▌         | 58/953 [00:00<00:01, 578.09it/s]"
     ]
    },
    {
     "name": "stdout",
     "output_type": "stream",
     "text": [
      "train mean loss=0.0\n"
     ]
    },
    {
     "name": "stderr",
     "output_type": "stream",
     "text": [
      "100%|██████████| 953/953 [00:01<00:00, 576.84it/s]\n"
     ]
    },
    {
     "name": "stdout",
     "output_type": "stream",
     "text": [
      "test  mean loss=0.0\n"
     ]
    },
    {
     "name": "stderr",
     "output_type": "stream",
     "text": [
      "  0%|          | 8/3810 [00:00<00:51, 73.83it/s]"
     ]
    },
    {
     "name": "stdout",
     "output_type": "stream",
     "text": [
      "epoch: 23\n",
      "NDCG@100 | train: 0.0251646568178, test: 0.025829837313\n",
      "('epoch', 23)\n"
     ]
    },
    {
     "name": "stderr",
     "output_type": "stream",
     "text": [
      "100%|██████████| 3810/3810 [00:51<00:00, 73.40it/s]\n",
      "  6%|▌         | 58/953 [00:00<00:01, 571.48it/s]"
     ]
    },
    {
     "name": "stdout",
     "output_type": "stream",
     "text": [
      "train mean loss=0.0\n"
     ]
    },
    {
     "name": "stderr",
     "output_type": "stream",
     "text": [
      "100%|██████████| 953/953 [00:01<00:00, 576.33it/s]\n"
     ]
    },
    {
     "name": "stdout",
     "output_type": "stream",
     "text": [
      "test  mean loss=0.0\n"
     ]
    },
    {
     "name": "stderr",
     "output_type": "stream",
     "text": [
      "  0%|          | 8/3810 [00:00<00:51, 74.10it/s]"
     ]
    },
    {
     "name": "stdout",
     "output_type": "stream",
     "text": [
      "epoch: 24\n",
      "NDCG@100 | train: 0.0251646568178, test: 0.025829837313\n",
      "('epoch', 24)\n"
     ]
    },
    {
     "name": "stderr",
     "output_type": "stream",
     "text": [
      "100%|██████████| 3810/3810 [00:51<00:00, 73.47it/s]\n",
      "  6%|▌         | 58/953 [00:00<00:01, 576.33it/s]"
     ]
    },
    {
     "name": "stdout",
     "output_type": "stream",
     "text": [
      "train mean loss=0.0\n"
     ]
    },
    {
     "name": "stderr",
     "output_type": "stream",
     "text": [
      "100%|██████████| 953/953 [00:01<00:00, 574.39it/s]\n"
     ]
    },
    {
     "name": "stdout",
     "output_type": "stream",
     "text": [
      "test  mean loss=0.0\n"
     ]
    },
    {
     "name": "stderr",
     "output_type": "stream",
     "text": [
      "  0%|          | 8/3810 [00:00<00:51, 73.90it/s]"
     ]
    },
    {
     "name": "stdout",
     "output_type": "stream",
     "text": [
      "epoch: 25\n",
      "NDCG@100 | train: 0.0251646568178, test: 0.025829837313\n",
      "('epoch', 25)\n"
     ]
    },
    {
     "name": "stderr",
     "output_type": "stream",
     "text": [
      "100%|██████████| 3810/3810 [00:51<00:00, 73.44it/s]\n",
      "  6%|▌         | 59/953 [00:00<00:01, 581.59it/s]"
     ]
    },
    {
     "name": "stdout",
     "output_type": "stream",
     "text": [
      "train mean loss=0.0\n"
     ]
    },
    {
     "name": "stderr",
     "output_type": "stream",
     "text": [
      "100%|██████████| 953/953 [00:01<00:00, 579.68it/s]\n"
     ]
    },
    {
     "name": "stdout",
     "output_type": "stream",
     "text": [
      "test  mean loss=0.0\n"
     ]
    },
    {
     "name": "stderr",
     "output_type": "stream",
     "text": [
      "  0%|          | 8/3810 [00:00<00:52, 73.01it/s]"
     ]
    },
    {
     "name": "stdout",
     "output_type": "stream",
     "text": [
      "epoch: 26\n",
      "NDCG@100 | train: 0.0251646568178, test: 0.025829837313\n",
      "('epoch', 26)\n"
     ]
    },
    {
     "name": "stderr",
     "output_type": "stream",
     "text": [
      "100%|██████████| 3810/3810 [00:52<00:00, 73.25it/s]\n",
      "  6%|▌         | 58/953 [00:00<00:01, 579.63it/s]"
     ]
    },
    {
     "name": "stdout",
     "output_type": "stream",
     "text": [
      "train mean loss=0.0\n"
     ]
    },
    {
     "name": "stderr",
     "output_type": "stream",
     "text": [
      "100%|██████████| 953/953 [00:01<00:00, 578.11it/s]\n"
     ]
    },
    {
     "name": "stdout",
     "output_type": "stream",
     "text": [
      "test  mean loss=0.0\n"
     ]
    },
    {
     "name": "stderr",
     "output_type": "stream",
     "text": [
      "  0%|          | 8/3810 [00:00<00:51, 73.63it/s]"
     ]
    },
    {
     "name": "stdout",
     "output_type": "stream",
     "text": [
      "epoch: 27\n",
      "NDCG@100 | train: 0.0251646568178, test: 0.025829837313\n",
      "('epoch', 27)\n"
     ]
    },
    {
     "name": "stderr",
     "output_type": "stream",
     "text": [
      "100%|██████████| 3810/3810 [00:51<00:00, 73.88it/s]\n",
      "  6%|▌         | 58/953 [00:00<00:01, 576.31it/s]"
     ]
    },
    {
     "name": "stdout",
     "output_type": "stream",
     "text": [
      "train mean loss=0.0\n"
     ]
    },
    {
     "name": "stderr",
     "output_type": "stream",
     "text": [
      "100%|██████████| 953/953 [00:01<00:00, 573.95it/s]\n"
     ]
    },
    {
     "name": "stdout",
     "output_type": "stream",
     "text": [
      "test  mean loss=0.0\n"
     ]
    },
    {
     "name": "stderr",
     "output_type": "stream",
     "text": [
      "  0%|          | 8/3810 [00:00<00:51, 74.16it/s]"
     ]
    },
    {
     "name": "stdout",
     "output_type": "stream",
     "text": [
      "epoch: 28\n",
      "NDCG@100 | train: 0.0251646568178, test: 0.025829837313\n",
      "('epoch', 28)\n"
     ]
    },
    {
     "name": "stderr",
     "output_type": "stream",
     "text": [
      "100%|██████████| 3810/3810 [00:51<00:00, 73.57it/s]\n",
      "  6%|▌         | 58/953 [00:00<00:01, 577.57it/s]"
     ]
    },
    {
     "name": "stdout",
     "output_type": "stream",
     "text": [
      "train mean loss=0.0\n"
     ]
    },
    {
     "name": "stderr",
     "output_type": "stream",
     "text": [
      "100%|██████████| 953/953 [00:01<00:00, 576.87it/s]\n"
     ]
    },
    {
     "name": "stdout",
     "output_type": "stream",
     "text": [
      "test  mean loss=0.0\n"
     ]
    },
    {
     "name": "stderr",
     "output_type": "stream",
     "text": [
      "  0%|          | 8/3810 [00:00<00:51, 74.48it/s]"
     ]
    },
    {
     "name": "stdout",
     "output_type": "stream",
     "text": [
      "epoch: 29\n",
      "NDCG@100 | train: 0.0251646568178, test: 0.025829837313\n",
      "('epoch', 29)\n"
     ]
    },
    {
     "name": "stderr",
     "output_type": "stream",
     "text": [
      "100%|██████████| 3810/3810 [00:51<00:00, 73.82it/s]\n",
      "  6%|▌         | 58/953 [00:00<00:01, 574.29it/s]"
     ]
    },
    {
     "name": "stdout",
     "output_type": "stream",
     "text": [
      "train mean loss=0.0\n"
     ]
    },
    {
     "name": "stderr",
     "output_type": "stream",
     "text": [
      "100%|██████████| 953/953 [00:01<00:00, 570.83it/s]\n"
     ]
    },
    {
     "name": "stdout",
     "output_type": "stream",
     "text": [
      "test  mean loss=0.0\n"
     ]
    },
    {
     "name": "stderr",
     "output_type": "stream",
     "text": [
      "  0%|          | 8/3810 [00:00<00:51, 73.69it/s]"
     ]
    },
    {
     "name": "stdout",
     "output_type": "stream",
     "text": [
      "epoch: 30\n",
      "NDCG@100 | train: 0.0251646568178, test: 0.025829837313\n",
      "('epoch', 30)\n"
     ]
    },
    {
     "name": "stderr",
     "output_type": "stream",
     "text": [
      " 60%|██████    | 2288/3810 [00:31<00:20, 73.06it/s]"
     ]
    }
   ],
   "source": [
    "model.fit(X_train, y_train, \n",
    "          batchsize=100, n_epoch=50, n_units1=1000, n_units2=1000, tv_ratio=0.8, \n",
    "          optimizerAlgorithm=\"Adam\", savefigName=\"result.pdf\", savemodelName=\"ListNet.model\")"
   ]
  },
  {
   "cell_type": "code",
   "execution_count": 9,
   "metadata": {
    "collapsed": true
   },
   "outputs": [],
   "source": [
    "pred_val = model.predict(X_val)"
   ]
  },
  {
   "cell_type": "code",
   "execution_count": 10,
   "metadata": {},
   "outputs": [
    {
     "data": {
      "text/plain": [
       "0.0094413502746843354"
      ]
     },
     "execution_count": 10,
     "metadata": {},
     "output_type": "execute_result"
    }
   ],
   "source": [
    "gini_normalized(y_val, pred_val)"
   ]
  },
  {
   "cell_type": "code",
   "execution_count": null,
   "metadata": {
    "collapsed": true
   },
   "outputs": [],
   "source": []
  },
  {
   "cell_type": "code",
   "execution_count": null,
   "metadata": {
    "collapsed": true
   },
   "outputs": [],
   "source": []
  },
  {
   "cell_type": "code",
   "execution_count": null,
   "metadata": {
    "collapsed": true
   },
   "outputs": [],
   "source": []
  },
  {
   "cell_type": "code",
   "execution_count": null,
   "metadata": {
    "collapsed": true
   },
   "outputs": [],
   "source": []
  },
  {
   "cell_type": "code",
   "execution_count": null,
   "metadata": {
    "collapsed": true
   },
   "outputs": [],
   "source": []
  },
  {
   "cell_type": "code",
   "execution_count": 11,
   "metadata": {},
   "outputs": [
    {
     "name": "stdout",
     "output_type": "stream",
     "text": [
      "[Fold 1/5]\n",
      "[0]\ttrain-gini:0.001824\tvalid-gini:0.011031\n",
      "Multiple eval metrics have been passed: 'valid-gini' will be used for early stopping.\n",
      "\n",
      "Will train until valid-gini hasn't improved in 170 rounds.\n",
      "[100]\ttrain-gini:0.224605\tvalid-gini:0.222834\n",
      "[200]\ttrain-gini:0.280562\tvalid-gini:0.260546\n",
      "[300]\ttrain-gini:0.307019\tvalid-gini:0.272488\n",
      "[400]\ttrain-gini:0.320362\tvalid-gini:0.276742\n",
      "[500]\ttrain-gini:0.33093\tvalid-gini:0.279036\n",
      "[600]\ttrain-gini:0.340504\tvalid-gini:0.280816\n",
      "[700]\ttrain-gini:0.349537\tvalid-gini:0.281532\n",
      "[800]\ttrain-gini:0.357212\tvalid-gini:0.281994\n",
      "[900]\ttrain-gini:0.363843\tvalid-gini:0.282007\n",
      "Stopping. Best iteration:\n",
      "[803]\ttrain-gini:0.357522\tvalid-gini:0.282158\n",
      "\n",
      "[Fold 1/5 Prediction:]\n",
      "0.282158\n",
      "[Fold 2/5]\n",
      "[0]\ttrain-gini:0.001527\tvalid-gini:0.01579\n",
      "Multiple eval metrics have been passed: 'valid-gini' will be used for early stopping.\n",
      "\n",
      "Will train until valid-gini hasn't improved in 170 rounds.\n",
      "[100]\ttrain-gini:0.226065\tvalid-gini:0.206092\n",
      "[200]\ttrain-gini:0.279942\tvalid-gini:0.256991\n",
      "[300]\ttrain-gini:0.305918\tvalid-gini:0.272968\n",
      "[400]\ttrain-gini:0.320449\tvalid-gini:0.278177\n",
      "[500]\ttrain-gini:0.332166\tvalid-gini:0.280322\n",
      "[600]\ttrain-gini:0.341342\tvalid-gini:0.280801\n",
      "[700]\ttrain-gini:0.350013\tvalid-gini:0.281468\n",
      "[800]\ttrain-gini:0.357644\tvalid-gini:0.281789\n",
      "[900]\ttrain-gini:0.365064\tvalid-gini:0.282042\n",
      "[1000]\ttrain-gini:0.372694\tvalid-gini:0.282186\n",
      "[1100]\ttrain-gini:0.379529\tvalid-gini:0.282284\n",
      "[1200]\ttrain-gini:0.386709\tvalid-gini:0.282122\n",
      "Stopping. Best iteration:\n",
      "[1068]\ttrain-gini:0.377318\tvalid-gini:0.282431\n",
      "\n",
      "[Fold 2/5 Prediction:]\n",
      "0.282431\n",
      "[Fold 3/5]\n",
      "[0]\ttrain-gini:0.002641\tvalid-gini:-0.001816\n",
      "Multiple eval metrics have been passed: 'valid-gini' will be used for early stopping.\n",
      "\n",
      "Will train until valid-gini hasn't improved in 170 rounds.\n",
      "[100]\ttrain-gini:0.225357\tvalid-gini:0.221344\n",
      "[200]\ttrain-gini:0.282577\tvalid-gini:0.25965\n",
      "[300]\ttrain-gini:0.306242\tvalid-gini:0.273156\n",
      "[400]\ttrain-gini:0.319436\tvalid-gini:0.279274\n",
      "[500]\ttrain-gini:0.330618\tvalid-gini:0.282327\n",
      "[600]\ttrain-gini:0.339639\tvalid-gini:0.284213\n",
      "[700]\ttrain-gini:0.347958\tvalid-gini:0.285157\n",
      "[800]\ttrain-gini:0.355582\tvalid-gini:0.285677\n",
      "[900]\ttrain-gini:0.36268\tvalid-gini:0.285926\n",
      "[1000]\ttrain-gini:0.369544\tvalid-gini:0.28621\n",
      "[1100]\ttrain-gini:0.376422\tvalid-gini:0.286183\n",
      "[1200]\ttrain-gini:0.382935\tvalid-gini:0.286085\n",
      "Stopping. Best iteration:\n",
      "[1118]\ttrain-gini:0.377694\tvalid-gini:0.286325\n",
      "\n",
      "[Fold 3/5 Prediction:]\n",
      "0.286325\n",
      "[Fold 4/5]\n",
      "[0]\ttrain-gini:0.002473\tvalid-gini:-0.001158\n",
      "Multiple eval metrics have been passed: 'valid-gini' will be used for early stopping.\n",
      "\n",
      "Will train until valid-gini hasn't improved in 170 rounds.\n",
      "[100]\ttrain-gini:0.225752\tvalid-gini:0.208769\n",
      "[200]\ttrain-gini:0.2786\tvalid-gini:0.257578\n",
      "[300]\ttrain-gini:0.304847\tvalid-gini:0.278856\n",
      "[400]\ttrain-gini:0.318767\tvalid-gini:0.285361\n",
      "[500]\ttrain-gini:0.330148\tvalid-gini:0.288642\n",
      "[600]\ttrain-gini:0.339682\tvalid-gini:0.290925\n",
      "[700]\ttrain-gini:0.347547\tvalid-gini:0.292254\n",
      "[800]\ttrain-gini:0.355205\tvalid-gini:0.292751\n",
      "[900]\ttrain-gini:0.362645\tvalid-gini:0.293268\n",
      "[1000]\ttrain-gini:0.36987\tvalid-gini:0.293395\n",
      "[1100]\ttrain-gini:0.376736\tvalid-gini:0.293731\n",
      "[1200]\ttrain-gini:0.383476\tvalid-gini:0.293877\n",
      "[1300]\ttrain-gini:0.389779\tvalid-gini:0.294134\n",
      "[1400]\ttrain-gini:0.396363\tvalid-gini:0.293938\n",
      "[1500]\ttrain-gini:0.402714\tvalid-gini:0.294274\n",
      "[1600]\ttrain-gini:0.408904\tvalid-gini:0.294407\n",
      "[1700]\ttrain-gini:0.415056\tvalid-gini:0.294114\n",
      "Stopping. Best iteration:\n",
      "[1568]\ttrain-gini:0.406586\tvalid-gini:0.294444\n",
      "\n",
      "[Fold 4/5 Prediction:]\n",
      "0.294444\n",
      "[Fold 5/5]\n",
      "[0]\ttrain-gini:0.002641\tvalid-gini:-0.002997\n",
      "Multiple eval metrics have been passed: 'valid-gini' will be used for early stopping.\n",
      "\n",
      "Will train until valid-gini hasn't improved in 170 rounds.\n",
      "[100]\ttrain-gini:0.225508\tvalid-gini:0.217037\n",
      "[200]\ttrain-gini:0.283814\tvalid-gini:0.254613\n",
      "[300]\ttrain-gini:0.308288\tvalid-gini:0.266433\n",
      "[400]\ttrain-gini:0.322082\tvalid-gini:0.271423\n",
      "[500]\ttrain-gini:0.333124\tvalid-gini:0.273884\n",
      "[600]\ttrain-gini:0.342048\tvalid-gini:0.274361\n",
      "[700]\ttrain-gini:0.349988\tvalid-gini:0.274756\n",
      "[800]\ttrain-gini:0.357608\tvalid-gini:0.274896\n",
      "[900]\ttrain-gini:0.365214\tvalid-gini:0.275084\n",
      "[1000]\ttrain-gini:0.3719\tvalid-gini:0.275088\n",
      "[1100]\ttrain-gini:0.378671\tvalid-gini:0.275349\n",
      "[1200]\ttrain-gini:0.385711\tvalid-gini:0.275444\n",
      "[1300]\ttrain-gini:0.392504\tvalid-gini:0.275421\n",
      "Stopping. Best iteration:\n",
      "[1144]\ttrain-gini:0.381593\tvalid-gini:0.275561\n",
      "\n",
      "[Fold 5/5 Prediction:]\n",
      "0.275561\n"
     ]
    }
   ],
   "source": [
    "# Create a submission file\n",
    "sub = pd.DataFrame()\n",
    "sub['id'] = id_test\n",
    "sub['target'] = np.zeros_like(id_test)\n",
    "\n",
    "kfold = 5\n",
    "weights = []\n",
    "sss = StratifiedKFold(n_splits=kfold, random_state=0)\n",
    "for i, (train_index, test_index) in enumerate(sss.split(X, y)):\n",
    "    print('[Fold %d/%d]' % (i + 1, kfold))\n",
    "    X_train, X_valid = X[train_index], X[test_index]\n",
    "    y_train, y_valid = y[train_index], y[test_index]\n",
    "    # Convert our data into LGBoost format\n",
    "    d_train = xgb.DMatrix(X_train, y_train)\n",
    "    d_valid = xgb.DMatrix(X_valid, y_valid)\n",
    "    d_test = xgb.DMatrix(x_test)\n",
    "    watchlist = [(d_train, 'train'), (d_valid, 'valid')]\n",
    "\n",
    "    # Train the model! We pass in a max of 2,000 rounds (with early stopping after 100)\n",
    "    # and the custom metric (maximize=True tells xgb that higher metric is better)\n",
    "    mdl = xgb.train(params, d_train, 2000, watchlist, early_stopping_rounds=170, feval=gini_xgb, \n",
    "                    maximize=True, verbose_eval=100)\n",
    "\n",
    "    print('[Fold %d/%d Prediction:]' % (i + 1, kfold))\n",
    "    # Predict on our test data\n",
    "    p_test = mdl.predict(d_test)\n",
    "    print(mdl.best_score)\n",
    "    weight = mdl.best_score\n",
    "    weights.append(weight)\n",
    "    sub['target'] += p_test*weight\n",
    "\n",
    "sub['target'] = sub['target']/np.sum(weights)"
   ]
  },
  {
   "cell_type": "code",
   "execution_count": 17,
   "metadata": {
    "collapsed": true
   },
   "outputs": [],
   "source": [
    "# Create a submission file\n",
    "sub.to_csv('./submit/v11_xgb_one_hot_standard_strat_lambda_100_val_2842.csv.gz', \n",
    "           index=False, compression='gzip')"
   ]
  },
  {
   "cell_type": "code",
   "execution_count": 109,
   "metadata": {},
   "outputs": [
    {
     "data": {
      "text/plain": [
       "0.28306339999999997"
      ]
     },
     "execution_count": 109,
     "metadata": {},
     "output_type": "execute_result"
    }
   ],
   "source": [
    "val_scores = [0.279973, 0.283588, 0.282138, 0.291781, 0.277837]\n",
    "np.mean(val_scores)"
   ]
  },
  {
   "cell_type": "code",
   "execution_count": 12,
   "metadata": {},
   "outputs": [
    {
     "data": {
      "text/plain": [
       "0.28418379999999999"
      ]
     },
     "execution_count": 12,
     "metadata": {},
     "output_type": "execute_result"
    }
   ],
   "source": [
    "one_hot_standardized_lambda_100_val_scores = [0.282158, 0.282431, 0.286325, 0.294444, 0.275561]\n",
    "np.mean(one_hot_standardized_lambda_100_val_scores)"
   ]
  },
  {
   "cell_type": "code",
   "execution_count": 33,
   "metadata": {},
   "outputs": [
    {
     "data": {
      "image/png": "[encoded data removed]",
      "text/plain": [
       "<matplotlib.figure.Figure at 0x7feaca9080f0>"
      ]
     },
     "metadata": {},
     "output_type": "display_data"
    }
   ],
   "source": [
    "test_pred = np.array(sub[['target']])\n",
    "test_pred = test_pred.reshape((len(test_pred)))\n",
    "plt.hist(test_pred)\n",
    "plt.show()"
   ]
  }
 ],
 "metadata": {
  "kernelspec": {
   "display_name": "Python [conda env:py2]",
   "language": "python",
   "name": "conda-env-py2-py"
  },
  "language_info": {
   "codemirror_mode": {
    "name": "ipython",
    "version": 2
   },
   "file_extension": ".py",
   "mimetype": "text/x-python",
   "name": "python",
   "nbconvert_exporter": "python",
   "pygments_lexer": "ipython2",
   "version": "2.7.13"
  }
 },
 "nbformat": 4,
 "nbformat_minor": 2
}
