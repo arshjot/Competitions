{
 "cells": [
  {
   "cell_type": "code",
   "execution_count": 1,
   "metadata": {},
   "outputs": [
    {
     "name": "stderr",
     "output_type": "stream",
     "text": [
      "Using TensorFlow backend.\n",
      "/home/arsh/anaconda3/envs/deepLearn/lib/python3.6/importlib/_bootstrap.py:205: RuntimeWarning: compiletime version 3.5 of module 'tensorflow.python.framework.fast_tensor_util' does not match runtime version 3.6\n",
      "  return f(*args, **kwds)\n"
     ]
    }
   ],
   "source": [
    "import IPython.display as ipd\n",
    "import librosa\n",
    "import librosa.display\n",
    "from scipy.io import wavfile\n",
    "import soundfile as sf\n",
    "import os\n",
    "from os.path import basename\n",
    "import cv2\n",
    "import glob\n",
    "import pandas as pd\n",
    "import numpy as np\n",
    "from sklearn.model_selection import train_test_split\n",
    "import matplotlib.pyplot as plt\n",
    "import IPython.display as ipd\n",
    "import gc\n",
    "%matplotlib inline\n",
    "\n",
    "import pickle\n",
    "import tempfile\n",
    "import time\n",
    "import math\n",
    "import keras\n",
    "from keras.optimizers import SGD\n",
    "from keras.optimizers import Adam\n",
    "from keras.models import Sequential\n",
    "from keras.layers import MaxPooling2D\n",
    "from keras.callbacks import EarlyStopping, ReduceLROnPlateau, ModelCheckpoint, TensorBoard\n",
    "from keras.layers.convolutional import Conv2D\n",
    "from keras.layers import Dense, Dropout, Flatten, BatchNormalization, Activation\n",
    "\n",
    "from utils import *\n",
    "\n",
    "seed = 0\n",
    "np.random.seed(seed)\n",
    "import random\n",
    "random.seed(seed)"
   ]
  },
  {
   "cell_type": "code",
   "execution_count": 2,
   "metadata": {
    "collapsed": true
   },
   "outputs": [],
   "source": [
    "def readData(data_folder_path, iterations = 50, audio_length = 45, n_mels = 128, val_split = 0.2):\n",
    "    \"\"\"\n",
    "    Return consolidated and preprocessed wav file melspectograms and labels \n",
    "    imported from the provided locations \n",
    "    \n",
    "    Arguments:\n",
    "    data_folder_path  -- Path of folder containing training audio folders\n",
    "    audio_length      -- Length of output audio (milliseconds)\n",
    "    \"\"\"\n",
    "    \n",
    "    # Get list of speakers for train-val split\n",
    "    speakers = []\n",
    "    for file_ in glob.glob(data_folder_path+'/*/*.wav'):\n",
    "        if file_[file_[:file_.rfind('/')].rfind('/')+1:file_.rfind('/')]=='_background_noise_':\n",
    "            continue            \n",
    "        speakers.append(file_[file_.rfind('/')+1:file_.find('_')])\n",
    "    \n",
    "    # Split into training and validation\n",
    "    train_speakers, val_speakers = train_test_split(list(set(speakers)), test_size=val_split, random_state=42)\n",
    "    train_size = len([i for i in speakers if i in train_speakers])\n",
    "    val_size = len([i for i in speakers if i in val_speakers])\n",
    "    # Add more space for 'silence' labels\n",
    "    train_size+=1950\n",
    "    train_size*=10\n",
    "    val_size+=450\n",
    "    \n",
    "    label_list = 'yes no up down left right on off stop go'.split()+['unknown', 'silence']\n",
    "    # Load background noise files to avoid repeated loading\n",
    "    bg_files = ['pink_noise.wav', 'dude_miaowing.wav', 'exercise_bike.wav',\n",
    "                    'doing_the_dishes.wav', 'white_noise.wav', 'running_tap.wav']\n",
    "    bg_wavs = {file_ : sf.read(data_folder_path+'/_background_noise_/'+file_)[0] for file_ in bg_files}\n",
    "    \n",
    "    for iter_ in range(iterations):\n",
    "        print('Iteration =', iter_+1)\n",
    "        # Initialize arrays for storing data\n",
    "        train_features = np.zeros((train_size, audio_length, n_mels, 2), np.float32)\n",
    "        train_labels = np.zeros((train_size, len(label_list)), np.int64)\n",
    "        if iter_ == 0:\n",
    "            val_features = np.zeros((val_size, audio_length, n_mels, 2), np.float32)\n",
    "            val_labels = np.zeros((val_size, len(label_list)), np.int64)\n",
    "\n",
    "        # For shuffling\n",
    "        p = np.random.permutation(train_size)\n",
    "\n",
    "        # Iterate over audio files to extract features and labels\n",
    "        tr_num, val_num, print_num = 0, 0, 0\n",
    "        length = []\n",
    "        for file_ in glob.glob(data_folder_path+'/*/*.wav'):\n",
    "            label = file_[file_[:file_.rfind('/')].rfind('/')+1:file_.rfind('/')]\n",
    "            if label=='_background_noise_':\n",
    "                continue\n",
    "            if label not in label_list[:-2]:\n",
    "                unknown_label = label\n",
    "                label = 'unknown'\n",
    "                if np.random.choice([True, False], p=[15/16, 1/16]):\n",
    "                    continue\n",
    "\n",
    "            speaker = file_[file_.rfind('/')+1:file_.find('_')]\n",
    "            if (speaker in val_speakers and label != 'unknown') or (label == 'unknown' and \n",
    "                                                                    speaker in val_speakers and\n",
    "                                                                    unknown_label in ['house', 'dog', 'two', 'five']):\n",
    "                if iter_ == 0:\n",
    "                    X, sample_rate = sf.read(file_)\n",
    "                    X, _ = librosa.effects.trim(X) # Remove leading and trailing silence\n",
    "                    file_feature = librosa.feature.melspectrogram(X, sample_rate, n_mels=n_mels, hop_length=370)\n",
    "                    file_feature2 = librosa.feature.mfcc(X, sample_rate, n_mfcc=n_mels, hop_length=370)\n",
    "                    file_feature = cv2.resize(librosa.power_to_db(file_feature, ref=np.max), (audio_length, n_mels))\n",
    "                    file_feature2 = cv2.resize(file_feature2, (audio_length, n_mels))\n",
    "                    file_feature = np.stack((file_feature, file_feature2), axis=2)\n",
    "\n",
    "                    val_features[val_num] = file_feature.reshape((audio_length, n_mels, 2))\n",
    "                    val_labels[val_num, label_list.index(label)] = 1.0\n",
    "                    val_num+=1\n",
    "            elif (speaker in train_speakers and label != 'unknown') or (\n",
    "                label == 'unknown' and speaker in train_speakers and unknown_label not in ['house', 'dog', 'two', 'five']):\n",
    "\n",
    "                # Generate samples for training with augmentation\n",
    "                X, sample_rate = sf.read(file_)\n",
    "                X, _ = librosa.effects.trim(X) # Remove leading and trailing silence\n",
    "                stored_X, stored_sr = X, sample_rate\n",
    "                for i in range(2):\n",
    "                    X, sample_rate = stored_X, stored_sr\n",
    "                    if label == 'unknown':\n",
    "                        X = randomMix(X, sample_rate, speaker, unknown_label, u=0.6)\n",
    "                    X = randomNoise(X, sample_rate, bg_wavs, u=0.94)\n",
    "                    X = randomSpeed(X, sample_rate, u=0.94)\n",
    "\n",
    "                    file_feature = librosa.feature.melspectrogram(X, sample_rate, n_mels=n_mels, hop_length=370)\n",
    "                    file_feature2 = librosa.feature.mfcc(X, sample_rate, n_mfcc=n_mels, hop_length=370)\n",
    "                    file_feature = cv2.resize(librosa.power_to_db(file_feature, ref=np.max), (audio_length, n_mels))\n",
    "                    file_feature2 = cv2.resize(file_feature2, (audio_length, n_mels))\n",
    "                    file_feature = np.stack((file_feature, file_feature2), axis=2)\n",
    "\n",
    "                    train_features[p[tr_num]] = file_feature.reshape((audio_length, n_mels, 2))\n",
    "                    train_labels[p[tr_num], label_list.index(label)] = 1.0\n",
    "                    tr_num+=1\n",
    "\n",
    "            if (tr_num+val_num)>print_num:\n",
    "                print(tr_num+val_num)\n",
    "                print_num+=10000\n",
    "\n",
    "        # Add 'silence' labels\n",
    "        for file_ in glob.glob(data_folder_path+'/_background_noise_/*.wav'):\n",
    "            X, sample_rate = sf.read(file_)\n",
    "            file_feature = librosa.power_to_db(librosa.feature.melspectrogram(X, sample_rate, n_mels=n_mels,\n",
    "                                                                              hop_length=370), ref=np.max)\n",
    "            file_feature2 = librosa.feature.mfcc(X, sample_rate, n_mfcc=n_mels, hop_length=370)\n",
    "            file_feature = np.stack((file_feature, file_feature2), axis=2)\n",
    "\n",
    "            random_samples = [file_feature[:,i:i+audio_length,:].reshape((audio_length, n_mels, 2))\n",
    "                              for i in np.random.randint(file_feature.shape[1]-audio_length, size=(3325))]\n",
    "\n",
    "            train_features[p[tr_num:tr_num+3250]] = random_samples[:3250]\n",
    "            train_labels[p[tr_num:tr_num+3250], label_list.index('silence')] = 1.0\n",
    "            val_features[val_num:val_num+75] = random_samples[3250:]\n",
    "            val_labels[val_num:val_num+75, label_list.index('silence')] = 1.0\n",
    "            tr_num+=3250\n",
    "            val_num+=75\n",
    "\n",
    "        # Remove blank rows\n",
    "        idx_tr = np.where(np.sum(train_labels, 1)==0)[0]\n",
    "        train_labels = np.delete(train_labels, idx_tr, 0)\n",
    "        train_features = np.delete(train_features, idx_tr, 0)\n",
    "        if iter_ == 0:\n",
    "            idx_val = np.where(np.sum(val_labels, 1)==0)[0]\n",
    "            val_labels = np.delete(val_labels, idx_val, 0)\n",
    "            val_features = np.delete(val_features, idx_val, 0)\n",
    "        \n",
    "        data = {'train_X' : train_features, 'train_y' : train_labels}\n",
    "        pickle.dump(data, open('./Data/training_data/train_val_'+str(iter_)+'.pickle', 'wb'))\n",
    "        del train_features\n",
    "        del train_labels\n",
    "        gc.collect()\n",
    "        \n",
    "    return {'val_X' : val_features, 'val_y' : val_labels}"
   ]
  },
  {
   "cell_type": "code",
   "execution_count": 3,
   "metadata": {
    "collapsed": true
   },
   "outputs": [],
   "source": [
    "# data = readData('./Data/train/audio/', n_mels=128)"
   ]
  },
  {
   "cell_type": "code",
   "execution_count": 4,
   "metadata": {
    "collapsed": true
   },
   "outputs": [],
   "source": [
    "# data = pickle.load(open('./Data/train_val_balanced.pickle', 'rb'))"
   ]
  },
  {
   "cell_type": "code",
   "execution_count": 5,
   "metadata": {
    "collapsed": true
   },
   "outputs": [],
   "source": [
    "# pickle.dump(data, open('./Data/train_val.pickle', 'wb'))\n",
    "# pickle.dump(data, open('./Data/train_val_balanced.pickle', 'wb'))\n",
    "# pickle.dump(data, open('./Data/training_data/val_data.pickle', 'wb'))"
   ]
  },
  {
   "cell_type": "markdown",
   "metadata": {},
   "source": [
    "#### Generator Functions"
   ]
  },
  {
   "cell_type": "code",
   "execution_count": 3,
   "metadata": {
    "collapsed": true
   },
   "outputs": [],
   "source": [
    "def train_generator():\n",
    "    epoch = 0\n",
    "    while True:\n",
    "        train_data = pickle.load(open('./Data/training_data/train_val_'+str(epoch)+'.pickle', 'rb'))\n",
    "        ids_train_split = np.arange(len(train_data['train_X']))\n",
    "        for start in range(0, len(train_data['train_X']), batch_size):\n",
    "            x_batch = []\n",
    "            y_batch = []\n",
    "            end = min(start + batch_size, len(train_data['train_X']))\n",
    "            ids_train_batch = ids_train_split[start:end]\n",
    "            for id_ in ids_train_batch:\n",
    "                img = train_data['train_X'][id_]\n",
    "                x_batch.append(img)\n",
    "                y_batch.append(train_data['train_y'][id_])\n",
    "            x_batch = np.array(x_batch, np.float32)\n",
    "            y_batch = np.array(y_batch, np.float32)\n",
    "            yield x_batch, y_batch\n",
    "        if epoch<49:\n",
    "            epoch+=1\n",
    "        else:\n",
    "            epoch = 0"
   ]
  },
  {
   "cell_type": "code",
   "execution_count": 4,
   "metadata": {
    "collapsed": true
   },
   "outputs": [],
   "source": [
    "val_data = pickle.load(open('./Data/training_data/val_data.pickle', 'rb'))\n",
    "def valid_generator():\n",
    "    ids_valid_split = np.arange(len(val_data['val_X']))\n",
    "    while True:\n",
    "        for start in range(0, len(val_data['val_X']), batch_size):\n",
    "            x_batch = []\n",
    "            y_batch = []\n",
    "            end = min(start + batch_size, len(val_data['val_X']))\n",
    "            ids_valid_batch = ids_valid_split[start:end]\n",
    "            for id_ in ids_valid_batch:\n",
    "                img = val_data['val_X'][id_]\n",
    "                x_batch.append(img)\n",
    "                y_batch.append(val_data['val_y'][id_])\n",
    "            x_batch = np.array(x_batch, np.float32)\n",
    "            y_batch = np.array(y_batch, np.float32)\n",
    "            yield x_batch, y_batch"
   ]
  },
  {
   "cell_type": "code",
   "execution_count": 24,
   "metadata": {},
   "outputs": [
    {
     "name": "stdout",
     "output_type": "stream",
     "text": [
      "(128, 44)\n"
     ]
    },
    {
     "data": {
      "image/png": "[encoded data removed]",
      "text/plain": [
       "<matplotlib.figure.Figure at 0x7f01913a6b70>"
      ]
     },
     "metadata": {},
     "output_type": "display_data"
    }
   ],
   "source": [
    "y, sr = sf.read('./Data/train/audio/go/0ab3b47d_nohash_1.wav')\n",
    "S = librosa.power_to_db(librosa.feature.melspectrogram(y=y, sr=sr, n_mels=128, fmax=8000, hop_length=370), ref=np.max)\n",
    "print(S.shape)\n",
    "plt.figure(figsize=(10, 4))\n",
    "librosa.display.specshow(S, y_axis='mel', hop_length=370,\n",
    "                         fmax=8000, x_axis='time')\n",
    "plt.colorbar(format='%+2.0f dB')\n",
    "plt.title('Mel spectrogram')\n",
    "plt.tight_layout()"
   ]
  },
  {
   "cell_type": "code",
   "execution_count": 29,
   "metadata": {
    "collapsed": true
   },
   "outputs": [],
   "source": [
    "train_data = pickle.load(open('./Data/training_data/train_val_1.pickle', 'rb'))"
   ]
  },
  {
   "cell_type": "code",
   "execution_count": 70,
   "metadata": {},
   "outputs": [
    {
     "name": "stdout",
     "output_type": "stream",
     "text": [
      "(128, 45)\n"
     ]
    },
    {
     "data": {
      "image/png": "[encoded data removed]",
      "text/plain": [
       "<matplotlib.figure.Figure at 0x7f0190ff6160>"
      ]
     },
     "metadata": {},
     "output_type": "display_data"
    }
   ],
   "source": [
    "S = val_data['val_X'][np.where(np.argmax(val_data['val_y'], 1) == 9)[0]][5][:,:,0].reshape((128,45))\n",
    "S = val_data['val_X'][np.where(np.argmax(val_data['val_y'], 1) == 9)[0]][35][:,:,0].reshape((128,45))\n",
    "S = train_data['train_X'][np.where(np.argmax(train_data['train_y'], 1) == 9)[0]][33][:,:,0].reshape((128,45))\n",
    "print(S.shape)\n",
    "plt.figure(figsize=(10, 4))\n",
    "librosa.display.specshow(S, y_axis='mel', hop_length=370,\n",
    "                         fmax=8000, x_axis='time')\n",
    "plt.colorbar(format='%+2.0f dB')\n",
    "plt.title('Mel spectrogram')\n",
    "plt.tight_layout()"
   ]
  },
  {
   "cell_type": "markdown",
   "metadata": {},
   "source": [
    "#### Train Model"
   ]
  },
  {
   "cell_type": "code",
   "execution_count": 8,
   "metadata": {
    "collapsed": true
   },
   "outputs": [],
   "source": [
    "#Create model - (Convolution layers --> Max Pooling layer) x3 --> Fully connected layer --> Dropout layer --> Readout layer\n",
    "model=Sequential()\n",
    "\n",
    "model.add(Conv2D(15, (3, 3),input_shape=(45, 128, 2), padding=\"same\", kernel_initializer='glorot_uniform'))\n",
    "model.add(Conv2D(15, (3, 3),padding=\"same\", kernel_initializer='glorot_uniform'))\n",
    "# model.add(BatchNormalization())\n",
    "model.add(Activation('relu'))\n",
    "model.add(MaxPooling2D((2,2),strides=(2,2)))\n",
    "model.add(Dropout(0.0))\n",
    "\n",
    "model.add(Conv2D(45, (2, 2), padding=\"same\", kernel_initializer='glorot_uniform'))\n",
    "model.add(Conv2D(45, (2, 2), padding=\"same\", kernel_initializer='glorot_uniform'))\n",
    "# model.add(BatchNormalization())\n",
    "model.add(Activation('relu'))\n",
    "model.add(MaxPooling2D((2,2),strides=(2,2)))\n",
    "model.add(Dropout(0.0))\n",
    "\n",
    "model.add(Conv2D(75, (2, 2), padding=\"same\", kernel_initializer='glorot_uniform'))\n",
    "# model.add(BatchNormalization())\n",
    "model.add(Activation('relu'))\n",
    "model.add(MaxPooling2D((2,2),strides=(2,2)))\n",
    "model.add(Dropout(0.0))\n",
    "\n",
    "model.add(Flatten())\n",
    "model.add(Dense(256,kernel_initializer='TruncatedNormal',activation='relu'))\n",
    "model.add(Dropout(0.2))\n",
    "\n",
    "model.add(Dense(12,kernel_initializer='TruncatedNormal',activation='softmax'))"
   ]
  },
  {
   "cell_type": "code",
   "execution_count": 9,
   "metadata": {
    "collapsed": true
   },
   "outputs": [],
   "source": [
    "callbacks = [EarlyStopping(monitor='val_loss',\n",
    "                           patience=8,\n",
    "                           verbose=1,\n",
    "                           min_delta=1e-6),\n",
    "             ReduceLROnPlateau(monitor='val_loss',\n",
    "                               factor=0.1,\n",
    "                               patience=4,\n",
    "                               verbose=1,\n",
    "                               epsilon=1e-6),\n",
    "             ModelCheckpoint(monitor='val_loss',\n",
    "                             filepath='saved_model/keras/best_weights.hdf5',\n",
    "                             save_best_only=True,\n",
    "                             save_weights_only=True),\n",
    "             TensorBoard(log_dir='TensorBoard/keras')]"
   ]
  },
  {
   "cell_type": "code",
   "execution_count": 10,
   "metadata": {},
   "outputs": [
    {
     "name": "stdout",
     "output_type": "stream",
     "text": [
      "Epoch 1/100\n",
      "1889/1889 [==============================] - 52s - loss: 2.2950 - acc: 0.2115 - val_loss: 2.1391 - val_acc: 0.4480\n",
      "Epoch 2/100\n",
      "1889/1889 [==============================] - 63s - loss: 2.0173 - acc: 0.2853 - val_loss: 2.2064 - val_acc: 0.4743\n",
      "Epoch 3/100\n",
      "1889/1889 [==============================] - 44s - loss: 1.9103 - acc: 0.3244 - val_loss: 2.0829 - val_acc: 0.5628\n",
      "Epoch 4/100\n",
      "1889/1889 [==============================] - 45s - loss: 1.8165 - acc: 0.3615 - val_loss: 1.9975 - val_acc: 0.5920\n",
      "Epoch 5/100\n",
      "1889/1889 [==============================] - 46s - loss: 1.7546 - acc: 0.3855 - val_loss: 1.9229 - val_acc: 0.6199\n",
      "Epoch 6/100\n",
      "1889/1889 [==============================] - 43s - loss: 0.6642 - acc: 0.7817 - val_loss: 1.5742 - val_acc: 0.7276\n",
      "Epoch 7/100\n",
      "1889/1889 [==============================] - 44s - loss: 1.6915 - acc: 0.4149 - val_loss: 1.6436 - val_acc: 0.7106\n",
      "Epoch 8/100\n",
      "1889/1889 [==============================] - 46s - loss: 1.6350 - acc: 0.4356 - val_loss: 1.7316 - val_acc: 0.7291\n",
      "Epoch 9/100\n",
      "1889/1889 [==============================] - 47s - loss: 1.5942 - acc: 0.4498 - val_loss: 1.6733 - val_acc: 0.7170\n",
      "Epoch 10/100\n",
      "1889/1889 [==============================] - 46s - loss: 1.5399 - acc: 0.4669 - val_loss: 1.8698 - val_acc: 0.6553\n",
      "Epoch 11/100\n",
      "1889/1889 [==============================] - 45s - loss: 0.4941 - acc: 0.8341 - val_loss: 1.4405 - val_acc: 0.7825\n",
      "Epoch 12/100\n",
      "1889/1889 [==============================] - 45s - loss: 1.5368 - acc: 0.4738 - val_loss: 1.8538 - val_acc: 0.7620\n",
      "Epoch 13/100\n",
      "1889/1889 [==============================] - 43s - loss: 1.4988 - acc: 0.4843 - val_loss: 1.5790 - val_acc: 0.7645\n",
      "Epoch 14/100\n",
      "1889/1889 [==============================] - 45s - loss: 1.4802 - acc: 0.4914 - val_loss: 1.7737 - val_acc: 0.7454\n",
      "Epoch 15/100\n",
      "1889/1889 [==============================] - 45s - loss: 1.4642 - acc: 0.4978 - val_loss: 1.5845 - val_acc: 0.7556\n",
      "Epoch 16/100\n",
      "1888/1889 [============================>.] - ETA: 0s - loss: 1.4406 - acc: 0.5066\n",
      "Epoch 00015: reducing learning rate to 9.999999747378752e-06.\n",
      "1889/1889 [==============================] - 44s - loss: 1.4408 - acc: 0.5066 - val_loss: 1.7655 - val_acc: 0.7568\n",
      "Epoch 17/100\n",
      "1889/1889 [==============================] - 46s - loss: 1.3575 - acc: 0.5388 - val_loss: 1.7914 - val_acc: 0.7193\n",
      "Epoch 18/100\n",
      "1889/1889 [==============================] - 45s - loss: 0.4661 - acc: 0.8456 - val_loss: 1.6085 - val_acc: 0.7898\n",
      "Epoch 19/100\n",
      "1889/1889 [==============================] - 46s - loss: 1.3806 - acc: 0.5259 - val_loss: 1.7036 - val_acc: 0.7866\n",
      "Epoch 20/100\n",
      "1888/1889 [============================>.] - ETA: 0s - loss: 1.3780 - acc: 0.5282\n",
      "Epoch 00019: reducing learning rate to 9.999999747378752e-07.\n",
      "1889/1889 [==============================] - 43s - loss: 1.3780 - acc: 0.5281 - val_loss: 1.7177 - val_acc: 0.7856\n",
      "Epoch 00019: early stopping\n"
     ]
    },
    {
     "data": {
      "text/plain": [
       "<keras.callbacks.History at 0x7ff3b903d940>"
      ]
     },
     "execution_count": 10,
     "metadata": {},
     "output_type": "execute_result"
    }
   ],
   "source": [
    "#Compile model\n",
    "adam=Adam(lr=0.0001)\n",
    "model.compile(loss='categorical_crossentropy',optimizer=adam,metrics=['accuracy'])\n",
    "\n",
    "# Training parameters\n",
    "epochs = 100\n",
    "batch_size = 24\n",
    "\n",
    "# Train the model\n",
    "# model.load_weights('./CASIA_weights/best_weights.hdf5')\n",
    "model.fit_generator(generator=train_generator(),\n",
    "                    steps_per_epoch=np.ceil(float(45322) / float(batch_size)),\n",
    "                    epochs=epochs,\n",
    "                    verbose=1,\n",
    "                    callbacks=callbacks, max_queue_size=100,\n",
    "                    validation_data=valid_generator(),\n",
    "                    validation_steps=np.ceil(float(len(val_data['val_X'])) / float(batch_size)))"
   ]
  },
  {
   "cell_type": "code",
   "execution_count": 11,
   "metadata": {},
   "outputs": [
    {
     "name": "stdout",
     "output_type": "stream",
     "text": [
      "5056/5201 [============================>.] - ETA: 0s"
     ]
    }
   ],
   "source": [
    "val_predictions = model.predict_proba(val_data['val_X'])"
   ]
  },
  {
   "cell_type": "code",
   "execution_count": 12,
   "metadata": {},
   "outputs": [
    {
     "data": {
      "text/plain": [
       "0.78561815035570082"
      ]
     },
     "execution_count": 12,
     "metadata": {},
     "output_type": "execute_result"
    }
   ],
   "source": [
    "np.sum(np.argmax(val_predictions, 1) == np.argmax(val_data['val_y'], 1))/val_predictions.shape[0]"
   ]
  },
  {
   "cell_type": "code",
   "execution_count": 38,
   "metadata": {
    "collapsed": true
   },
   "outputs": [],
   "source": [
    "idx = np.where(np.argmax(val_data['val_y'], 1)==10)[0]\n",
    "preds = np.argmax(val_predictions[idx], 1)"
   ]
  },
  {
   "cell_type": "code",
   "execution_count": 41,
   "metadata": {},
   "outputs": [
    {
     "data": {
      "text/plain": [
       "array([ 7,  7,  7,  3,  2,  1,  0,  7,  1,  0,  8,  5,  0, 10,  7, 10,  9,\n",
       "        5,  7,  9,  7,  9,  7,  5,  4, 10,  6,  6, 10,  5,  6,  6,  5,  7,\n",
       "        5,  6,  2,  7, 10,  7,  8,  8,  6, 10,  6, 10, 10, 10,  8,  6, 10,\n",
       "       10, 10,  2,  7,  8,  8,  1, 10,  8,  3,  7,  3,  8,  3, 10,  8,  8,\n",
       "        3,  1,  9,  8, 10, 10, 10,  3, 10, 10,  6,  9, 10, 10, 10, 10,  9,\n",
       "        1, 10, 10, 10, 10, 10,  9, 10,  9, 10,  9, 10,  3, 10, 10, 10, 10,\n",
       "       10, 10])"
      ]
     },
     "execution_count": 41,
     "metadata": {},
     "output_type": "execute_result"
    }
   ],
   "source": [
    "preds"
   ]
  },
  {
   "cell_type": "code",
   "execution_count": 19,
   "metadata": {},
   "outputs": [
    {
     "data": {
      "text/plain": [
       "array([475, 468, 466, 448, 484, 497, 457, 444, 464, 444, 104, 900])"
      ]
     },
     "execution_count": 19,
     "metadata": {},
     "output_type": "execute_result"
    }
   ],
   "source": [
    "np.sum(val_data['val_y'], 0)"
   ]
  },
  {
   "cell_type": "code",
   "execution_count": 28,
   "metadata": {},
   "outputs": [
    {
     "data": {
      "text/plain": [
       "{0: 532,\n",
       " 1: 413,\n",
       " 2: 403,\n",
       " 3: 447,\n",
       " 4: 437,\n",
       " 5: 474,\n",
       " 6: 452,\n",
       " 7: 445,\n",
       " 8: 476,\n",
       " 9: 65,\n",
       " 10: 149,\n",
       " 11: 908}"
      ]
     },
     "execution_count": 28,
     "metadata": {},
     "output_type": "execute_result"
    }
   ],
   "source": [
    "temp = np.argmax(val_predictions, 1)\n",
    "unique, counts = np.unique(temp, return_counts=True)\n",
    "dict(zip(unique, counts))"
   ]
  },
  {
   "cell_type": "code",
   "execution_count": 13,
   "metadata": {},
   "outputs": [
    {
     "data": {
      "image/png": "[encoded data removed]",
      "text/plain": [
       "<matplotlib.figure.Figure at 0x7ff3b8816320>"
      ]
     },
     "metadata": {},
     "output_type": "display_data"
    },
    {
     "name": "stdout",
     "output_type": "stream",
     "text": [
      "75.4895416161\n"
     ]
    }
   ],
   "source": [
    "class_acc = []\n",
    "for i in range(12):\n",
    "    idx = np.where(np.argmax(val_data['val_y'], 1)==i)[0]\n",
    "    preds = np.argmax(val_predictions[idx], 1)\n",
    "    class_acc.append((100*np.sum(np.argmax(val_data['val_y'][idx], 1) == preds))/idx.shape[0])\n",
    "\n",
    "label_list = 'yes no up down left right on off stop go'.split()+['unknown', 'silence']\n",
    "plt.figure(figsize=(10,5))\n",
    "plt.bar(np.arange(12), class_acc)\n",
    "plt.xticks(np.arange(12), label_list)\n",
    "for i, v in enumerate(class_acc):\n",
    "    plt.text(i, v+1, str('{0:.2f}'.format(v)), color='black', fontweight='bold', ha='center')\n",
    "plt.show()\n",
    "print(np.mean(class_acc))"
   ]
  },
  {
   "cell_type": "code",
   "execution_count": null,
   "metadata": {
    "collapsed": true
   },
   "outputs": [],
   "source": []
  }
 ],
 "metadata": {
  "kernelspec": {
   "display_name": "Python [conda env:deepLearn]",
   "language": "python",
   "name": "conda-env-deepLearn-py"
  },
  "language_info": {
   "codemirror_mode": {
    "name": "ipython",
    "version": 3
   },
   "file_extension": ".py",
   "mimetype": "text/x-python",
   "name": "python",
   "nbconvert_exporter": "python",
   "pygments_lexer": "ipython3",
   "version": "3.6.1"
  }
 },
 "nbformat": 4,
 "nbformat_minor": 2
}
