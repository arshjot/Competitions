{
 "cells": [
  {
   "cell_type": "code",
   "execution_count": 1,
   "metadata": {
    "collapsed": true
   },
   "outputs": [],
   "source": [
    "import pandas as pd\n",
    "import numpy as np"
   ]
  },
  {
   "cell_type": "code",
   "execution_count": 35,
   "metadata": {},
   "outputs": [],
   "source": [
    "sub1 = pd.read_csv('./Submissions/Sub 3 - proba.csv', index_col=0, usecols=list(range(0,13)))\n",
    "sub2 = pd.read_csv('./Submissions/Sub 4 - proba.csv', index_col=0, usecols=list(range(0,13)))\n",
    "sub3 = pd.read_csv('./Submissions/Sub 7 - proba.csv', index_col=0, usecols=list(range(0,13)))\n",
    "sub4 = pd.read_csv('./Submissions/Sub 8 - proba.csv', index_col=0, usecols=list(range(0,13)))\n",
    "sub5 = pd.read_csv('./Submissions/Sub 11 - Probs.csv', index_col=0, usecols=list(range(0,13)))"
   ]
  },
  {
   "cell_type": "code",
   "execution_count": null,
   "metadata": {},
   "outputs": [],
   "source": [
    "sub_concat = pd.concat((sub1, sub2, sub3, sub4, sub5))\n",
    "sub_concat = sub_concat.groupby(sub_concat.index)\n",
    "sub_concat = sub_concat.mean()"
   ]
  },
  {
   "cell_type": "code",
   "execution_count": 87,
   "metadata": {},
   "outputs": [],
   "source": [
    "submission = pd.read_csv('./Data/sample_submission.csv')\n",
    "label_list = 'yes no up down left right on off stop go'.split()+['unknown', 'silence']\n",
    "preds = sub_concat.idxmax(axis=1)\n",
    "preds = preds.map(lambda x : label_list[int(x)])"
   ]
  },
  {
   "cell_type": "code",
   "execution_count": 88,
   "metadata": {},
   "outputs": [
    {
     "data": {
      "text/plain": [
       "0\n",
       "down        5261\n",
       "go          6895\n",
       "left        5950\n",
       "no          6541\n",
       "off         6686\n",
       "on          7977\n",
       "right       5910\n",
       "silence    11362\n",
       "stop        5689\n",
       "unknown    84880\n",
       "up          5964\n",
       "yes         5423\n",
       "Name: 0, dtype: int64"
      ]
     },
     "execution_count": 88,
     "metadata": {},
     "output_type": "execute_result"
    }
   ],
   "source": [
    "pd.DataFrame(preds).groupby(0)[0].count()"
   ]
  },
  {
   "cell_type": "code",
   "execution_count": 89,
   "metadata": {},
   "outputs": [],
   "source": [
    "preds = pd.DataFrame(preds)\n",
    "preds.index.name = 'fname'"
   ]
  },
  {
   "cell_type": "code",
   "execution_count": 90,
   "metadata": {},
   "outputs": [],
   "source": [
    "submission = submission.set_index('fname').merge(preds, left_index=True, right_index=True)\n",
    "submission = submission.drop(['label'], axis=1)\n",
    "submission.columns = ['label']"
   ]
  },
  {
   "cell_type": "code",
   "execution_count": 92,
   "metadata": {
    "collapsed": true
   },
   "outputs": [],
   "source": [
    "submission.to_csv('./Submissions/Sub 12 - Ensemble.csv')"
   ]
  }
 ],
 "metadata": {
  "kernelspec": {
   "display_name": "Python [conda env:deepLearn]",
   "language": "python",
   "name": "conda-env-deepLearn-py"
  },
  "language_info": {
   "codemirror_mode": {
    "name": "ipython",
    "version": 3
   },
   "file_extension": ".py",
   "mimetype": "text/x-python",
   "name": "python",
   "nbconvert_exporter": "python",
   "pygments_lexer": "ipython3",
   "version": "3.6.1"
  }
 },
 "nbformat": 4,
 "nbformat_minor": 2
}
